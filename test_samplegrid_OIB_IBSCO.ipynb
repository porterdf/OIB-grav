{
 "cells": [
  {
   "cell_type": "code",
   "execution_count": null,
   "metadata": {},
   "outputs": [],
   "source": []
  },
  {
   "cell_type": "code",
   "execution_count": 17,
   "metadata": {
    "collapsed": false,
    "pycharm": {
     "is_executing": false
    }
   },
   "outputs": [],
   "source": [
    "# those modules are almost always imported when working with model data\n",
    "%matplotlib inline\n",
    "import matplotlib.pyplot as plt\n",
    "import cartopy.crs as ccrs\n",
    "import numpy as np\n",
    "import xarray as xr # the major tool to work with NetCDF data!\n",
    "\n",
    "import netCDF4\n",
    "import os\n",
    "from glob import glob\n",
    "import numpy as np\n",
    "import scipy.interpolate\n",
    "import matplotlib.pyplot as plt\n",
    "import pickle as pickle"
   ]
  },
  {
   "cell_type": "markdown",
   "metadata": {},
   "source": [
    "## First load Gravity CSV for sampling"
   ]
  },
  {
   "cell_type": "code",
   "execution_count": 18,
   "metadata": {
    "pycharm": {
     "is_executing": false
    }
   },
   "outputs": [
    {
     "name": "stdout",
     "output_type": "stream",
     "text": [
      "Reading gravity file: /Users/dporter/Documents/data_local/Antarctica/OIB/IGGRV1B/2016/IGGRV1B_20161114_11243000_V017.txt.txt\n"
     ]
    }
   ],
   "source": [
    "import pandas as pd\n",
    "from glob import glob\n",
    "def importOIBgrav(basedir, timedir):\n",
    "    # datadir = 'IGGRV1B/temp'\n",
    "    # infile = 'IGGRV1B_20091104_13100500_V016'\n",
    "    # infile = 'IGGRV1B_20091031_11020500_V016'\n",
    "    # infile = 'IGGRV1B_20091116_15124500_V016'\n",
    "    suffix = '.txt'\n",
    "    pattern = os.path.join(basedir, timedir, 'IGGRV1B_20161114_11243000_V017*' + suffix)\n",
    "    infile = sorted(glob(pattern))  # , key=alphanum_key)\n",
    "\n",
    "    ### Read ascii file as csv\n",
    "    # metadata ends on line 69, column names on line 70\n",
    "    headers = (\n",
    "        'LAT', 'LONG', 'DATE', 'DOY', 'TIME', 'FLT', 'PSX', 'PSY', 'WGSHGT', 'FX', 'FY', 'FZ', 'EOTGRAV', 'FACOR',\n",
    "        'INTCOR',\n",
    "        'FAG070', 'FAG100', 'FAG140', 'FLTENVIRO')\n",
    "    # print \"Reading gravity file: %s\" % infile[0] + suffix %TODO why did I think this would be a list?\n",
    "    print(\"Reading gravity file: %s\" % infile[0] + suffix)\n",
    "    df = pd.read_csv(infile[0], delimiter=r\"\\s+\", header=None, names=headers, skiprows=70)\n",
    "    # headers = df.columns[1:df.shape[1]]\n",
    "    # df.rename(columns=dict(zip(df.columns,headers)), inplace=True)\n",
    "    # df.rename(columns={'LONG': 'LON'}, inplace=True)\n",
    "    # df['ENVIRO'] = df.columns[[19]]\n",
    "    # df.drop(df.columns['FLTENVIRO'],axis=1,inplace=True)\n",
    "\n",
    "    ### do some DATETIME operations\n",
    "    df['DATETIME'] = (df.DATE * 1e5) + df.TIME\n",
    "    df['DATE'] = pd.to_datetime(df['DATE'], format='%Y%m%d')\n",
    "    df['UNIX'] = df['DATE'].astype(np.int64) // 10 ** 9\n",
    "    df['UNIX'] = df['UNIX'] + df['TIME']\n",
    "    df['iunix'] = pd.to_datetime(df['UNIX'] * 10 ** 3, unit='ms')\n",
    "    df.drop(['DATETIME'], axis=1, inplace=True)\n",
    "    df = df.set_index('iunix')\n",
    "    return df\n",
    "\n",
    "basedir = '/Users/dporter/Documents/data_local/Antarctica/OIB/'\n",
    "datadir = 'IGGRV1B'\n",
    "timedir = 2016\n",
    "grav = importOIBgrav(os.path.join(basedir, datadir), str(timedir))\n"
   ]
  },
  {
   "cell_type": "code",
   "execution_count": 19,
   "metadata": {
    "pycharm": {
     "is_executing": false
    }
   },
   "outputs": [
    {
     "data": {
      "text/html": [
       "<div>\n",
       "<style scoped>\n",
       "    .dataframe tbody tr th:only-of-type {\n",
       "        vertical-align: middle;\n",
       "    }\n",
       "\n",
       "    .dataframe tbody tr th {\n",
       "        vertical-align: top;\n",
       "    }\n",
       "\n",
       "    .dataframe thead th {\n",
       "        text-align: right;\n",
       "    }\n",
       "</style>\n",
       "<table border=\"1\" class=\"dataframe\">\n",
       "  <thead>\n",
       "    <tr style=\"text-align: right;\">\n",
       "      <th></th>\n",
       "      <th>LAT</th>\n",
       "      <th>LONG</th>\n",
       "      <th>DATE</th>\n",
       "      <th>DOY</th>\n",
       "      <th>TIME</th>\n",
       "      <th>FLT</th>\n",
       "      <th>PSX</th>\n",
       "      <th>PSY</th>\n",
       "      <th>WGSHGT</th>\n",
       "      <th>FX</th>\n",
       "      <th>FY</th>\n",
       "      <th>FZ</th>\n",
       "      <th>EOTGRAV</th>\n",
       "      <th>FACOR</th>\n",
       "      <th>INTCOR</th>\n",
       "      <th>FAG070</th>\n",
       "      <th>FAG100</th>\n",
       "      <th>FAG140</th>\n",
       "      <th>FLTENVIRO</th>\n",
       "      <th>UNIX</th>\n",
       "    </tr>\n",
       "    <tr>\n",
       "      <th>iunix</th>\n",
       "      <th></th>\n",
       "      <th></th>\n",
       "      <th></th>\n",
       "      <th></th>\n",
       "      <th></th>\n",
       "      <th></th>\n",
       "      <th></th>\n",
       "      <th></th>\n",
       "      <th></th>\n",
       "      <th></th>\n",
       "      <th></th>\n",
       "      <th></th>\n",
       "      <th></th>\n",
       "      <th></th>\n",
       "      <th></th>\n",
       "      <th></th>\n",
       "      <th></th>\n",
       "      <th></th>\n",
       "      <th></th>\n",
       "      <th></th>\n",
       "    </tr>\n",
       "  </thead>\n",
       "  <tbody>\n",
       "    <tr>\n",
       "      <th>2016-11-14 11:24:30.000</th>\n",
       "      <td>-53.004590</td>\n",
       "      <td>-70.845986</td>\n",
       "      <td>2016-11-14</td>\n",
       "      <td>319</td>\n",
       "      <td>41070.0</td>\n",
       "      <td>621</td>\n",
       "      <td>-3929452.26</td>\n",
       "      <td>1364844.81</td>\n",
       "      <td>50.57</td>\n",
       "      <td>5.01</td>\n",
       "      <td>-15.79</td>\n",
       "      <td>981296.93</td>\n",
       "      <td>NaN</td>\n",
       "      <td>NaN</td>\n",
       "      <td>NaN</td>\n",
       "      <td>NaN</td>\n",
       "      <td>NaN</td>\n",
       "      <td>NaN</td>\n",
       "      <td>-1</td>\n",
       "      <td>1.479123e+09</td>\n",
       "    </tr>\n",
       "    <tr>\n",
       "      <th>2016-11-14 11:24:30.500</th>\n",
       "      <td>-53.004590</td>\n",
       "      <td>-70.845986</td>\n",
       "      <td>2016-11-14</td>\n",
       "      <td>319</td>\n",
       "      <td>41070.5</td>\n",
       "      <td>621</td>\n",
       "      <td>-3929452.26</td>\n",
       "      <td>1364844.81</td>\n",
       "      <td>50.57</td>\n",
       "      <td>4.52</td>\n",
       "      <td>-15.33</td>\n",
       "      <td>981297.13</td>\n",
       "      <td>NaN</td>\n",
       "      <td>NaN</td>\n",
       "      <td>NaN</td>\n",
       "      <td>NaN</td>\n",
       "      <td>NaN</td>\n",
       "      <td>NaN</td>\n",
       "      <td>-1</td>\n",
       "      <td>1.479123e+09</td>\n",
       "    </tr>\n",
       "    <tr>\n",
       "      <th>2016-11-14 11:24:31.000</th>\n",
       "      <td>-53.004590</td>\n",
       "      <td>-70.845985</td>\n",
       "      <td>2016-11-14</td>\n",
       "      <td>319</td>\n",
       "      <td>41071.0</td>\n",
       "      <td>621</td>\n",
       "      <td>-3929452.27</td>\n",
       "      <td>1364844.82</td>\n",
       "      <td>50.56</td>\n",
       "      <td>3.46</td>\n",
       "      <td>-14.49</td>\n",
       "      <td>981297.14</td>\n",
       "      <td>NaN</td>\n",
       "      <td>NaN</td>\n",
       "      <td>NaN</td>\n",
       "      <td>NaN</td>\n",
       "      <td>NaN</td>\n",
       "      <td>NaN</td>\n",
       "      <td>-1</td>\n",
       "      <td>1.479123e+09</td>\n",
       "    </tr>\n",
       "    <tr>\n",
       "      <th>2016-11-14 11:24:31.500</th>\n",
       "      <td>-53.004590</td>\n",
       "      <td>-70.845985</td>\n",
       "      <td>2016-11-14</td>\n",
       "      <td>319</td>\n",
       "      <td>41071.5</td>\n",
       "      <td>621</td>\n",
       "      <td>-3929452.27</td>\n",
       "      <td>1364844.83</td>\n",
       "      <td>50.55</td>\n",
       "      <td>2.05</td>\n",
       "      <td>-13.60</td>\n",
       "      <td>981296.95</td>\n",
       "      <td>NaN</td>\n",
       "      <td>NaN</td>\n",
       "      <td>NaN</td>\n",
       "      <td>NaN</td>\n",
       "      <td>NaN</td>\n",
       "      <td>NaN</td>\n",
       "      <td>-1</td>\n",
       "      <td>1.479123e+09</td>\n",
       "    </tr>\n",
       "    <tr>\n",
       "      <th>2016-11-14 11:24:32.000</th>\n",
       "      <td>-53.004589</td>\n",
       "      <td>-70.845985</td>\n",
       "      <td>2016-11-14</td>\n",
       "      <td>319</td>\n",
       "      <td>41072.0</td>\n",
       "      <td>621</td>\n",
       "      <td>-3929452.28</td>\n",
       "      <td>1364844.85</td>\n",
       "      <td>50.54</td>\n",
       "      <td>0.73</td>\n",
       "      <td>-13.01</td>\n",
       "      <td>981296.61</td>\n",
       "      <td>NaN</td>\n",
       "      <td>NaN</td>\n",
       "      <td>NaN</td>\n",
       "      <td>NaN</td>\n",
       "      <td>NaN</td>\n",
       "      <td>NaN</td>\n",
       "      <td>-1</td>\n",
       "      <td>1.479123e+09</td>\n",
       "    </tr>\n",
       "  </tbody>\n",
       "</table>\n",
       "</div>"
      ],
      "text/plain": [
       "                               LAT       LONG       DATE  DOY     TIME  FLT  \\\n",
       "iunix                                                                         \n",
       "2016-11-14 11:24:30.000 -53.004590 -70.845986 2016-11-14  319  41070.0  621   \n",
       "2016-11-14 11:24:30.500 -53.004590 -70.845986 2016-11-14  319  41070.5  621   \n",
       "2016-11-14 11:24:31.000 -53.004590 -70.845985 2016-11-14  319  41071.0  621   \n",
       "2016-11-14 11:24:31.500 -53.004590 -70.845985 2016-11-14  319  41071.5  621   \n",
       "2016-11-14 11:24:32.000 -53.004589 -70.845985 2016-11-14  319  41072.0  621   \n",
       "\n",
       "                                PSX         PSY  WGSHGT    FX     FY  \\\n",
       "iunix                                                                  \n",
       "2016-11-14 11:24:30.000 -3929452.26  1364844.81   50.57  5.01 -15.79   \n",
       "2016-11-14 11:24:30.500 -3929452.26  1364844.81   50.57  4.52 -15.33   \n",
       "2016-11-14 11:24:31.000 -3929452.27  1364844.82   50.56  3.46 -14.49   \n",
       "2016-11-14 11:24:31.500 -3929452.27  1364844.83   50.55  2.05 -13.60   \n",
       "2016-11-14 11:24:32.000 -3929452.28  1364844.85   50.54  0.73 -13.01   \n",
       "\n",
       "                                FZ  EOTGRAV  FACOR  INTCOR  FAG070  FAG100  \\\n",
       "iunix                                                                        \n",
       "2016-11-14 11:24:30.000  981296.93      NaN    NaN     NaN     NaN     NaN   \n",
       "2016-11-14 11:24:30.500  981297.13      NaN    NaN     NaN     NaN     NaN   \n",
       "2016-11-14 11:24:31.000  981297.14      NaN    NaN     NaN     NaN     NaN   \n",
       "2016-11-14 11:24:31.500  981296.95      NaN    NaN     NaN     NaN     NaN   \n",
       "2016-11-14 11:24:32.000  981296.61      NaN    NaN     NaN     NaN     NaN   \n",
       "\n",
       "                         FAG140  FLTENVIRO          UNIX  \n",
       "iunix                                                     \n",
       "2016-11-14 11:24:30.000     NaN         -1  1.479123e+09  \n",
       "2016-11-14 11:24:30.500     NaN         -1  1.479123e+09  \n",
       "2016-11-14 11:24:31.000     NaN         -1  1.479123e+09  \n",
       "2016-11-14 11:24:31.500     NaN         -1  1.479123e+09  \n",
       "2016-11-14 11:24:32.000     NaN         -1  1.479123e+09  "
      ]
     },
     "execution_count": 19,
     "metadata": {},
     "output_type": "execute_result"
    }
   ],
   "source": [
    "grav.head()"
   ]
  },
  {
   "cell_type": "markdown",
   "metadata": {
    "pycharm": {}
   },
   "source": [
    "## IBCSO"
   ]
  },
  {
   "cell_type": "code",
   "execution_count": 20,
   "metadata": {
    "pycharm": {
     "is_executing": false
    }
   },
   "outputs": [
    {
     "name": "stdout",
     "output_type": "stream",
     "text": [
      "['/Users/dporter/Documents/Research/Projects/Quantarctica3/TerrainModels/IBCSO/ibcso_v1_sid_reclass.tif']\n"
     ]
    }
   ],
   "source": [
    "from osgeo import gdal\n",
    "\n",
    "basedir = '/Users/dporter/Documents/'\n",
    "datadir = 'Research/Projects/Quantarctica3/TerrainModels/IBCSO'\n",
    "suffix = '.tif'\n",
    "pattern = os.path.join(basedir, datadir, 'ibcso_v1_sid_*' + suffix)\n",
    "filenames = sorted(glob(pattern))  # , key=alphanum_key)\n",
    "print(filenames)\n",
    "gtif = gdal.Open(filenames[0])"
   ]
  },
  {
   "cell_type": "code",
   "execution_count": 21,
   "metadata": {
    "pycharm": {
     "is_executing": false
    }
   },
   "outputs": [],
   "source": [
    "# basedir = '/Users/dporter/Documents/'\n",
    "# datadir = 'Research/Projects/Quantarctica3/TerrainModels/IBCSO'\n",
    "# suffix = '.tif'\n",
    "# pattern = os.path.join(basedir, datadir, 'ibcso_v1_sid_*' + suffix)\n",
    "# filenames = sorted(glob(pattern))  # , key=alphanum_key)\n",
    "# print(filenames)\n",
    "# ds = xr.open_dataset(filenames[0])"
   ]
  },
  {
   "cell_type": "code",
   "execution_count": 22,
   "metadata": {},
   "outputs": [],
   "source": [
    "rb = gtif.GetRasterBand(1)"
   ]
  },
  {
   "cell_type": "code",
   "execution_count": 23,
   "metadata": {},
   "outputs": [],
   "source": [
    "img_array = rb.ReadAsArray()"
   ]
  },
  {
   "cell_type": "raw",
   "metadata": {},
   "source": []
  },
  {
   "cell_type": "code",
   "execution_count": 26,
   "metadata": {},
   "outputs": [
    {
     "data": {
      "text/plain": [
       "<matplotlib.collections.QuadMesh at 0x2e8a0f4a8>"
      ]
     },
     "execution_count": 26,
     "metadata": {},
     "output_type": "execute_result"
    },
    {
     "data": {
      "image/png": "[encoded data removed]",
      "text/plain": [
       "<Figure size 432x288 with 1 Axes>"
      ]
     },
     "metadata": {
      "needs_background": "light"
     },
     "output_type": "display_data"
    }
   ],
   "source": [
    "plt.pcolormesh(img_array)"
   ]
  },
  {
   "cell_type": "code",
   "execution_count": null,
   "metadata": {},
   "outputs": [],
   "source": []
  },
  {
   "cell_type": "code",
   "execution_count": null,
   "metadata": {},
   "outputs": [],
   "source": []
  },
  {
   "cell_type": "code",
   "execution_count": null,
   "metadata": {},
   "outputs": [],
   "source": []
  },
  {
   "cell_type": "code",
   "execution_count": null,
   "metadata": {},
   "outputs": [],
   "source": []
  }
 ],
 "metadata": {
  "kernelspec": {
   "display_name": "Python 3",
   "language": "python",
   "name": "python3"
  },
  "language_info": {
   "codemirror_mode": {
    "name": "ipython",
    "version": 3
   },
   "file_extension": ".py",
   "mimetype": "text/x-python",
   "name": "python",
   "nbconvert_exporter": "python",
   "pygments_lexer": "ipython3",
   "version": "3.6.7"
  }
 },
 "nbformat": 4,
 "nbformat_minor": 2
}
