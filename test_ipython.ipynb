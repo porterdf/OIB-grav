{
 "cells": [
  {
   "cell_type": "code",
   "execution_count": 1,
   "metadata": {
    "collapsed": false
   },
   "outputs": [
    {
     "name": "stderr",
     "output_type": "stream",
     "text": [
      "/Users/dporter/Library/Enthought/Canopy_64bit/User/lib/python2.7/site-packages/matplotlib/font_manager.py:273: UserWarning: Matplotlib is building the font cache using fc-list. This may take a moment.\n",
      "  warnings.warn('Matplotlib is building the font cache using fc-list. This may take a moment.')\n"
     ]
    }
   ],
   "source": [
    "# -*- coding: utf-8 -*-\n",
    "import os\n",
    "import numpy as np\n",
    "import matplotlib.pyplot as plt\n",
    "import pandas as pd\n",
    "from datetime import datetime, date, time\n",
    "\n",
    "### setup params\n",
    "if os.path.isdir('/Volumes/C/'): basedir = '/Volumes/C/data/Antarctic/OIB/GRAVITY/'\n",
    "else: basedir = '/Volumes/BOOTCAMP/data/Antarctic/OIB/GRAVITY/'\n",
    "file = 'IGGRV1B_20091031_11020500_V016'\n",
    "suffix = '.txt'\n",
    "\n"
   ]
  },
  {
   "cell_type": "code",
   "execution_count": 2,
   "metadata": {
    "collapsed": true
   },
   "outputs": [],
   "source": [
    "### Read ascii file as csv\n",
    "#metadata ends on line 69, column names on line 70\n",
    "#headers = ('LAT','LONG','DATE','DOY','TIME','FLT','PSX','PSY','WGSHGT','FX','FY','FZ','EOTGRAV','FACOR','INTCOR','FAG070','FAG100','FAG140','FLTENVIRO')\n",
    "df = pd.read_csv(os.path.join(basedir,file+suffix),delimiter=r\"\\s+\",skiprows=69)\n",
    "headers = df.columns[1:df.shape[1]]\n",
    "df.rename(columns=dict(zip(df.columns,headers)), inplace=True)"
   ]
  },
  {
   "cell_type": "code",
   "execution_count": null,
   "metadata": {
    "collapsed": true
   },
   "outputs": [],
   "source": [
    "### do some DATETIME operations\n",
    "df['DATETIME'] = (df.DATE*1e5)+df.TIME\n",
    "df['DATE'] = pd.to_datetime(df['DATE'],format='%Y%m%d')\n",
    "df['UNIX']=df['DATE'].astype(np.int64) // 10**9\n",
    "df['UNIX']=df['UNIX']+df['TIME']\n",
    "df['iunix'] = pd.to_datetime(df['UNIX'],unit='s')\n",
    "df = df.set_index('iunix')"
   ]
  },
  {
   "cell_type": "code",
   "execution_count": null,
   "metadata": {
    "collapsed": true
   },
   "outputs": [],
   "source": [
    "### some flight diagnostics\n",
    "print \"%0.1f hour flight\" % ((max(df.DATETIME)-min(df.DATETIME))/3600)\n",
    "print \"%s hour flight\" % (df.UNIX[-1:]-df.UNIX[0])\n",
    "max(df.DATETIME[1:len(df)-1]-df.DATETIME[0:len(df)-2])"
   ]
  }
 ],
 "metadata": {
  "kernelspec": {
   "display_name": "Python 2",
   "language": "python",
   "name": "python2"
  },
  "language_info": {
   "codemirror_mode": {
    "name": "ipython",
    "version": 2
   },
   "file_extension": ".py",
   "mimetype": "text/x-python",
   "name": "python",
   "nbconvert_exporter": "python",
   "pygments_lexer": "ipython2",
   "version": "2.7.11"
  }
 },
 "nbformat": 4,
 "nbformat_minor": 0
}
