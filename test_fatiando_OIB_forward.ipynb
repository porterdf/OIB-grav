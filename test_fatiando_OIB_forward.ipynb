{
 "cells": [
  {
   "cell_type": "code",
   "execution_count": 1,
   "metadata": {
    "collapsed": true
   },
   "outputs": [],
   "source": [
    "import numpy as np\n",
    "import matplotlib.pyplot as plt\n",
    "from my_OIB_functions import *\n",
    "import fatiando\n",
    "import pandas as pd\n",
    "%matplotlib inline"
   ]
  },
  {
   "cell_type": "code",
   "execution_count": 479,
   "metadata": {
    "collapsed": false
   },
   "outputs": [],
   "source": [
    "def oib_lineplot_cust(data, ptitle='test_lineplot', pname='test_lineplot'):\n",
    "    import matplotlib.pyplot as plt\n",
    "    data.loc[data['HYDROAPPX'] < -1500, 'HYDROAPPX'] = np.nan\n",
    "    fig, axes = plt.subplots(nrows=2, ncols=1, figsize=(12, 8), facecolor='white')\n",
    "    data['FAG070'].where((data['FLTENVIRO'] == 1)).plot(ax=axes[0], legend=True, label='Disturbed', style='r-')\n",
    "    data['FAG070'].where((data['FLTENVIRO'] == 0)).plot(ax=axes[0], legend=True, label='Normal', style='k-')\n",
    "    # data['FAG070'].where((data['FLTENVIRO'] == -1)).plot(ax=axes[0], legend=True, label='Missing', style='b-')\n",
    "#     data['ELEVATION'].plot(ax=axes[1], legend=True, style='y.')\n",
    "    data['ICEBASE'].plot(ax=axes[1], legend=True, marker=\".\", linestyle=\"None\", color=\"brown\")\n",
    "    data['TOPOGRAPHY_radar'].plot(ax=axes[1], legend=True, marker=\".\", linestyle=\"None\", color=\"blue\")\n",
    "#     data['HYDROAPPX'].plot(ax=axes[1], legend=True, color='grey')\n",
    "    data['SURFACE_atm'].where((data['NUMUSED'] > 77)).plot(ax=axes[1], legend=True, \n",
    "                                                           marker=\".\", linestyle=\"None\", color='cyan')\n",
    "    plt.suptitle(ptitle, y=0.98)\n",
    "#     plt.savefig(pname, bbox_inches='tight')   # save the figure to file\n",
    "#     plt.close(fig)\n",
    "    return\n",
    "\n",
    "\n",
    "def haversine(origin, destination):\n",
    "    # Source: http://www.platoscave.net/blog/2009/oct/5/calculate-distance-latitude-longitude-python/\n",
    "    import math\n",
    "    lat1, lon1 = origin\n",
    "    lat2, lon2 = destination\n",
    "    radius = 6371  # km\n",
    "    dlat = math.radians(lat2 - lat1)\n",
    "    dlon = math.radians(lon2 - lon1)\n",
    "    a = math.sin(dlat / 2) * math.sin(dlat / 2) + math.cos(math.radians(lat1)) \\\n",
    "                                                  * math.cos(math.radians(lat2)) * math.sin(dlon / 2) * math.sin(\n",
    "        dlon / 2)\n",
    "    c = 2 * math.atan2(math.sqrt(a), math.sqrt(1 - a))\n",
    "    d = radius * c\n",
    "    return d\n",
    "\n",
    "\n",
    "def make_outline(top, bottom):\n",
    "    outline = np.append(top[0], np.concatenate([np.append(top, top[-1:]), np.append(bottom[-1:], bottom[::-1])], axis=0))\n",
    "    outline = np.append(outline, bottom[0])\n",
    "    outline = np.append(outline, top[0])\n",
    "    return outline\n",
    "\n",
    "def make_outline_dist(x, pad=1e6):\n",
    "    xs = np.append(-pad, np.concatenate([np.append(x, np.max(x)+pad), np.append(np.max(x)+pad, x[::-1])], axis=0))\n",
    "    xs = np.append(xs, -pad)\n",
    "    xs = np.append(xs, -pad)\n",
    "    return xs"
   ]
  },
  {
   "cell_type": "code",
   "execution_count": 3,
   "metadata": {
    "collapsed": false
   },
   "outputs": [],
   "source": [
    "df = pd.read_csv('data/agg2invert/OIB_ANT_2010-05-19.csv')\n",
    "# oib_lineplot_cust(df)"
   ]
  },
  {
   "cell_type": "code",
   "execution_count": 4,
   "metadata": {
    "collapsed": false
   },
   "outputs": [],
   "source": [
    "segment = 1274277755\n",
    "# plt.plot(df['LINE'].where((df['LINE'] == segment)))\n",
    "# oib_lineplot_cust(df.where((df['LINE'] == segment)))"
   ]
  },
  {
   "cell_type": "code",
   "execution_count": 160,
   "metadata": {
    "collapsed": false
   },
   "outputs": [
    {
     "ename": "IndentationError",
     "evalue": "expected an indented block (<ipython-input-160-3d10a3441030>, line 10)",
     "traceback": [
      "\u001b[0;36m  File \u001b[0;32m\"<ipython-input-160-3d10a3441030>\"\u001b[0;36m, line \u001b[0;32m10\u001b[0m\n\u001b[0;31m    # print(group['FAG070'].describe())\u001b[0m\n\u001b[0m                                       ^\u001b[0m\n\u001b[0;31mIndentationError\u001b[0m\u001b[0;31m:\u001b[0m expected an indented block\n"
     ],
     "output_type": "error"
    }
   ],
   "source": [
    "gb = df.groupby(['LINE'])\n",
    "\n",
    "# gb.describe()\n",
    "\n",
    "# gb['FAG070'].describe()\n",
    "\n",
    "# Group the dataframe by regiment, and for each regiment,\n",
    "for name, group in gb:\n",
    "    # print(name)\n",
    "    # print(group['FAG070'].describe())"
   ]
  },
  {
   "cell_type": "code",
   "execution_count": 10,
   "metadata": {
    "collapsed": false
   },
   "outputs": [
    {
     "data": {
      "image/png": "[encoded data removed]",
      "text/plain": [
       "<matplotlib.figure.Figure at 0x1044a9e50>"
      ]
     },
     "metadata": {},
     "output_type": "display_data"
    }
   ],
   "source": [
    "# gb[[\"TIME\", \"FAG070\"]].get_group(segment)\n",
    "lf = gb.get_group(segment)\n",
    "oib_lineplot_cust(lf)"
   ]
  },
  {
   "cell_type": "code",
   "execution_count": 11,
   "metadata": {
    "collapsed": false,
    "scrolled": true
   },
   "outputs": [
    {
     "data": {
      "text/html": [
       "<div>\n",
       "<table border=\"1\" class=\"dataframe\">\n",
       "  <thead>\n",
       "    <tr style=\"text-align: right;\">\n",
       "      <th></th>\n",
       "      <th>iunix</th>\n",
       "      <th>LAT</th>\n",
       "      <th>LONG</th>\n",
       "      <th>DATE</th>\n",
       "      <th>DOY</th>\n",
       "      <th>TIME</th>\n",
       "      <th>FLT</th>\n",
       "      <th>PSX</th>\n",
       "      <th>PSY</th>\n",
       "      <th>WGSHGT</th>\n",
       "      <th>...</th>\n",
       "      <th>SURFACE_radar</th>\n",
       "      <th>BOTTOM</th>\n",
       "      <th>QUALITY</th>\n",
       "      <th>SURFACE_atm</th>\n",
       "      <th>NUMUSED</th>\n",
       "      <th>ICEBASE</th>\n",
       "      <th>TOPOGRAPHY_radar</th>\n",
       "      <th>D_gravmask</th>\n",
       "      <th>LINE</th>\n",
       "      <th>HYDROAPPX</th>\n",
       "    </tr>\n",
       "  </thead>\n",
       "  <tbody>\n",
       "    <tr>\n",
       "      <th>27689</th>\n",
       "      <td>2010-05-19 14:02:35.500</td>\n",
       "      <td>72.658552</td>\n",
       "      <td>-51.769381</td>\n",
       "      <td>2010-05-19</td>\n",
       "      <td>139</td>\n",
       "      <td>50555.5</td>\n",
       "      <td>26</td>\n",
       "      <td>-223068.90</td>\n",
       "      <td>-1879253.25</td>\n",
       "      <td>2210.22</td>\n",
       "      <td>...</td>\n",
       "      <td>434.57</td>\n",
       "      <td>1949.80</td>\n",
       "      <td>1.0</td>\n",
       "      <td>1790.8337</td>\n",
       "      <td>608.0</td>\n",
       "      <td>262.0974</td>\n",
       "      <td>1777.3274</td>\n",
       "      <td>1</td>\n",
       "      <td>1274277755</td>\n",
       "      <td>NaN</td>\n",
       "    </tr>\n",
       "    <tr>\n",
       "      <th>27690</th>\n",
       "      <td>2010-05-19 14:02:36.000</td>\n",
       "      <td>72.657918</td>\n",
       "      <td>-51.768901</td>\n",
       "      <td>2010-05-19</td>\n",
       "      <td>139</td>\n",
       "      <td>50556.0</td>\n",
       "      <td>26</td>\n",
       "      <td>-223061.42</td>\n",
       "      <td>-1879324.81</td>\n",
       "      <td>2211.29</td>\n",
       "      <td>...</td>\n",
       "      <td>434.58</td>\n",
       "      <td>1937.49</td>\n",
       "      <td>1.0</td>\n",
       "      <td>1791.2783</td>\n",
       "      <td>603.0</td>\n",
       "      <td>275.5374</td>\n",
       "      <td>1778.4474</td>\n",
       "      <td>1</td>\n",
       "      <td>1274277755</td>\n",
       "      <td>NaN</td>\n",
       "    </tr>\n",
       "    <tr>\n",
       "      <th>27691</th>\n",
       "      <td>2010-05-19 14:02:36.500</td>\n",
       "      <td>72.657284</td>\n",
       "      <td>-51.768429</td>\n",
       "      <td>2010-05-19</td>\n",
       "      <td>139</td>\n",
       "      <td>50556.5</td>\n",
       "      <td>26</td>\n",
       "      <td>-223054.20</td>\n",
       "      <td>-1879396.37</td>\n",
       "      <td>2212.35</td>\n",
       "      <td>...</td>\n",
       "      <td>434.60</td>\n",
       "      <td>1925.17</td>\n",
       "      <td>1.0</td>\n",
       "      <td>1791.7584</td>\n",
       "      <td>603.0</td>\n",
       "      <td>288.9532</td>\n",
       "      <td>1779.5232</td>\n",
       "      <td>1</td>\n",
       "      <td>1274277755</td>\n",
       "      <td>NaN</td>\n",
       "    </tr>\n",
       "    <tr>\n",
       "      <th>27692</th>\n",
       "      <td>2010-05-19 14:02:37.000</td>\n",
       "      <td>72.656650</td>\n",
       "      <td>-51.767963</td>\n",
       "      <td>2010-05-19</td>\n",
       "      <td>139</td>\n",
       "      <td>50557.0</td>\n",
       "      <td>26</td>\n",
       "      <td>-223047.21</td>\n",
       "      <td>-1879467.94</td>\n",
       "      <td>2213.39</td>\n",
       "      <td>...</td>\n",
       "      <td>434.61</td>\n",
       "      <td>1913.97</td>\n",
       "      <td>1.0</td>\n",
       "      <td>1801.5708</td>\n",
       "      <td>616.0</td>\n",
       "      <td>301.1545</td>\n",
       "      <td>1780.5145</td>\n",
       "      <td>1</td>\n",
       "      <td>1274277755</td>\n",
       "      <td>NaN</td>\n",
       "    </tr>\n",
       "    <tr>\n",
       "      <th>27693</th>\n",
       "      <td>2010-05-19 14:02:37.500</td>\n",
       "      <td>72.656015</td>\n",
       "      <td>-51.767505</td>\n",
       "      <td>2010-05-19</td>\n",
       "      <td>139</td>\n",
       "      <td>50557.5</td>\n",
       "      <td>26</td>\n",
       "      <td>-223040.48</td>\n",
       "      <td>-1879539.52</td>\n",
       "      <td>2214.40</td>\n",
       "      <td>...</td>\n",
       "      <td>434.61</td>\n",
       "      <td>1907.22</td>\n",
       "      <td>1.0</td>\n",
       "      <td>1801.5708</td>\n",
       "      <td>616.0</td>\n",
       "      <td>308.8415</td>\n",
       "      <td>1781.4515</td>\n",
       "      <td>1</td>\n",
       "      <td>1274277755</td>\n",
       "      <td>NaN</td>\n",
       "    </tr>\n",
       "  </tbody>\n",
       "</table>\n",
       "<p>5 rows × 34 columns</p>\n",
       "</div>"
      ],
      "text/plain": [
       "<div>\n",
       "<table border=\"1\" class=\"dataframe\">\n",
       "  <thead>\n",
       "    <tr style=\"text-align: right;\">\n",
       "      <th></th>\n",
       "      <th>iunix</th>\n",
       "      <th>LAT</th>\n",
       "      <th>LONG</th>\n",
       "      <th>DATE</th>\n",
       "      <th>DOY</th>\n",
       "      <th>TIME</th>\n",
       "      <th>FLT</th>\n",
       "      <th>PSX</th>\n",
       "      <th>PSY</th>\n",
       "      <th>WGSHGT</th>\n",
       "      <th>...</th>\n",
       "      <th>SURFACE_radar</th>\n",
       "      <th>BOTTOM</th>\n",
       "      <th>QUALITY</th>\n",
       "      <th>SURFACE_atm</th>\n",
       "      <th>NUMUSED</th>\n",
       "      <th>ICEBASE</th>\n",
       "      <th>TOPOGRAPHY_radar</th>\n",
       "      <th>D_gravmask</th>\n",
       "      <th>LINE</th>\n",
       "      <th>HYDROAPPX</th>\n",
       "    </tr>\n",
       "  </thead>\n",
       "  <tbody>\n",
       "    <tr>\n",
       "      <th>27689</th>\n",
       "      <td>2010-05-19 14:02:35.500</td>\n",
       "      <td>72.658552</td>\n",
       "      <td>-51.769381</td>\n",
       "      <td>2010-05-19</td>\n",
       "      <td>139</td>\n",
       "      <td>50555.5</td>\n",
       "      <td>26</td>\n",
       "      <td>-223068.90</td>\n",
       "      <td>-1879253.25</td>\n",
       "      <td>2210.22</td>\n",
       "      <td>...</td>\n",
       "      <td>434.57</td>\n",
       "      <td>1949.80</td>\n",
       "      <td>1.0</td>\n",
       "      <td>1790.8337</td>\n",
       "      <td>608.0</td>\n",
       "      <td>262.0974</td>\n",
       "      <td>1777.3274</td>\n",
       "      <td>1</td>\n",
       "      <td>1274277755</td>\n",
       "      <td>NaN</td>\n",
       "    </tr>\n",
       "    <tr>\n",
       "      <th>27690</th>\n",
       "      <td>2010-05-19 14:02:36.000</td>\n",
       "      <td>72.657918</td>\n",
       "      <td>-51.768901</td>\n",
       "      <td>2010-05-19</td>\n",
       "      <td>139</td>\n",
       "      <td>50556.0</td>\n",
       "      <td>26</td>\n",
       "      <td>-223061.42</td>\n",
       "      <td>-1879324.81</td>\n",
       "      <td>2211.29</td>\n",
       "      <td>...</td>\n",
       "      <td>434.58</td>\n",
       "      <td>1937.49</td>\n",
       "      <td>1.0</td>\n",
       "      <td>1791.2783</td>\n",
       "      <td>603.0</td>\n",
       "      <td>275.5374</td>\n",
       "      <td>1778.4474</td>\n",
       "      <td>1</td>\n",
       "      <td>1274277755</td>\n",
       "      <td>NaN</td>\n",
       "    </tr>\n",
       "    <tr>\n",
       "      <th>27691</th>\n",
       "      <td>2010-05-19 14:02:36.500</td>\n",
       "      <td>72.657284</td>\n",
       "      <td>-51.768429</td>\n",
       "      <td>2010-05-19</td>\n",
       "      <td>139</td>\n",
       "      <td>50556.5</td>\n",
       "      <td>26</td>\n",
       "      <td>-223054.20</td>\n",
       "      <td>-1879396.37</td>\n",
       "      <td>2212.35</td>\n",
       "      <td>...</td>\n",
       "      <td>434.60</td>\n",
       "      <td>1925.17</td>\n",
       "      <td>1.0</td>\n",
       "      <td>1791.7584</td>\n",
       "      <td>603.0</td>\n",
       "      <td>288.9532</td>\n",
       "      <td>1779.5232</td>\n",
       "      <td>1</td>\n",
       "      <td>1274277755</td>\n",
       "      <td>NaN</td>\n",
       "    </tr>\n",
       "    <tr>\n",
       "      <th>27692</th>\n",
       "      <td>2010-05-19 14:02:37.000</td>\n",
       "      <td>72.656650</td>\n",
       "      <td>-51.767963</td>\n",
       "      <td>2010-05-19</td>\n",
       "      <td>139</td>\n",
       "      <td>50557.0</td>\n",
       "      <td>26</td>\n",
       "      <td>-223047.21</td>\n",
       "      <td>-1879467.94</td>\n",
       "      <td>2213.39</td>\n",
       "      <td>...</td>\n",
       "      <td>434.61</td>\n",
       "      <td>1913.97</td>\n",
       "      <td>1.0</td>\n",
       "      <td>1801.5708</td>\n",
       "      <td>616.0</td>\n",
       "      <td>301.1545</td>\n",
       "      <td>1780.5145</td>\n",
       "      <td>1</td>\n",
       "      <td>1274277755</td>\n",
       "      <td>NaN</td>\n",
       "    </tr>\n",
       "    <tr>\n",
       "      <th>27693</th>\n",
       "      <td>2010-05-19 14:02:37.500</td>\n",
       "      <td>72.656015</td>\n",
       "      <td>-51.767505</td>\n",
       "      <td>2010-05-19</td>\n",
       "      <td>139</td>\n",
       "      <td>50557.5</td>\n",
       "      <td>26</td>\n",
       "      <td>-223040.48</td>\n",
       "      <td>-1879539.52</td>\n",
       "      <td>2214.40</td>\n",
       "      <td>...</td>\n",
       "      <td>434.61</td>\n",
       "      <td>1907.22</td>\n",
       "      <td>1.0</td>\n",
       "      <td>1801.5708</td>\n",
       "      <td>616.0</td>\n",
       "      <td>308.8415</td>\n",
       "      <td>1781.4515</td>\n",
       "      <td>1</td>\n",
       "      <td>1274277755</td>\n",
       "      <td>NaN</td>\n",
       "    </tr>\n",
       "  </tbody>\n",
       "</table>\n",
       "<p>5 rows × 34 columns</p>\n",
       "</div>"
      ]
     },
     "execution_count": 11,
     "metadata": {},
     "output_type": "execute_result"
    }
   ],
   "source": [
    "lf.head()"
   ]
  },
  {
   "cell_type": "markdown",
   "metadata": {},
   "source": [
    "# Fatiando testing"
   ]
  },
  {
   "cell_type": "code",
   "execution_count": 369,
   "metadata": {
    "collapsed": false
   },
   "outputs": [],
   "source": [
    "from fatiando.inversion import Smoothness1D\n",
    "from fatiando.gravmag.basin2d import PolygonalBasinGravity\n",
    "from fatiando.gravmag import talwani\n",
    "from fatiando.mesher import Polygon\n",
    "from fatiando.vis import mpl\n",
    "from fatiando import utils\n",
    "import numpy as np\n",
    "from itertools import chain\n",
    "\n",
    "rho_a = 0\n",
    "rho_i = 915\n",
    "rho_w = 1005\n",
    "rho_r = 2670"
   ]
  },
  {
   "cell_type": "code",
   "execution_count": 14,
   "metadata": {
    "collapsed": false
   },
   "outputs": [],
   "source": [
    "# df.ix[selection criteria, columns I want] = value\n",
    "lf.ix[lf['SURFACE_atm']-lf['ICEBASE'] <= 0, 'ICEBASE'] = (lf['SURFACE_atm'] - 0.1)\n",
    "# lf['ICEBASE_adj'] = lf['ICEBASE'].where(lf['SURFACE_atm']-lf['ICEBASE'] <= 0)"
   ]
  },
  {
   "cell_type": "code",
   "execution_count": 167,
   "metadata": {},
   "outputs": [
    {
     "ename": "KeyError",
     "evalue": "1",
     "traceback": [
      "\u001b[0;31m\u001b[0m",
      "\u001b[0;31mKeyError\u001b[0mTraceback (most recent call last)",
      "\u001b[0;32m<ipython-input-167-d34d4bb413e9>\u001b[0m in \u001b[0;36m<module>\u001b[0;34m()\u001b[0m\n\u001b[1;32m      2\u001b[0m \u001b[0mdist\u001b[0m \u001b[0;34m=\u001b[0m \u001b[0mnp\u001b[0m\u001b[0;34m.\u001b[0m\u001b[0mzeros\u001b[0m\u001b[0;34m(\u001b[0m\u001b[0;34m(\u001b[0m\u001b[0mnp\u001b[0m\u001b[0;34m.\u001b[0m\u001b[0msize\u001b[0m\u001b[0;34m(\u001b[0m\u001b[0mlf\u001b[0m\u001b[0;34m[\u001b[0m\u001b[0;34m'LONG'\u001b[0m\u001b[0;34m]\u001b[0m\u001b[0;34m)\u001b[0m\u001b[0;34m)\u001b[0m\u001b[0;34m)\u001b[0m\u001b[0;34m\u001b[0m\u001b[0m\n\u001b[1;32m      3\u001b[0m \u001b[0;32mfor\u001b[0m \u001b[0mi\u001b[0m \u001b[0;32min\u001b[0m \u001b[0mrange\u001b[0m\u001b[0;34m(\u001b[0m\u001b[0;36m2\u001b[0m\u001b[0;34m,\u001b[0m \u001b[0mnp\u001b[0m\u001b[0;34m.\u001b[0m\u001b[0msize\u001b[0m\u001b[0;34m(\u001b[0m\u001b[0mlf\u001b[0m\u001b[0;34m[\u001b[0m\u001b[0;34m'LONG'\u001b[0m\u001b[0;34m]\u001b[0m\u001b[0;34m)\u001b[0m\u001b[0;34m)\u001b[0m\u001b[0;34m:\u001b[0m\u001b[0;34m\u001b[0m\u001b[0m\n\u001b[0;32m----> 4\u001b[0;31m     \u001b[0mdist\u001b[0m\u001b[0;34m[\u001b[0m\u001b[0mi\u001b[0m\u001b[0;34m]\u001b[0m \u001b[0;34m=\u001b[0m \u001b[0mdist\u001b[0m\u001b[0;34m[\u001b[0m\u001b[0mi\u001b[0m \u001b[0;34m-\u001b[0m \u001b[0;36m1\u001b[0m\u001b[0;34m]\u001b[0m \u001b[0;34m+\u001b[0m \u001b[0mhaversine\u001b[0m\u001b[0;34m(\u001b[0m\u001b[0;34m[\u001b[0m\u001b[0mlf\u001b[0m\u001b[0;34m[\u001b[0m\u001b[0;34m'LAT'\u001b[0m\u001b[0;34m]\u001b[0m\u001b[0;34m[\u001b[0m\u001b[0mi\u001b[0m \u001b[0;34m-\u001b[0m \u001b[0;36m1\u001b[0m\u001b[0;34m]\u001b[0m\u001b[0;34m,\u001b[0m \u001b[0mlf\u001b[0m\u001b[0;34m[\u001b[0m\u001b[0;34m'LONG'\u001b[0m\u001b[0;34m]\u001b[0m\u001b[0;34m[\u001b[0m\u001b[0mi\u001b[0m \u001b[0;34m-\u001b[0m \u001b[0;36m1\u001b[0m\u001b[0;34m]\u001b[0m\u001b[0;34m]\u001b[0m\u001b[0;34m,\u001b[0m \u001b[0;34m[\u001b[0m\u001b[0mlf\u001b[0m\u001b[0;34m[\u001b[0m\u001b[0;34m'LAT'\u001b[0m\u001b[0;34m]\u001b[0m\u001b[0;34m[\u001b[0m\u001b[0mi\u001b[0m\u001b[0;34m]\u001b[0m\u001b[0;34m,\u001b[0m \u001b[0mlf\u001b[0m\u001b[0;34m[\u001b[0m\u001b[0;34m'LONG'\u001b[0m\u001b[0;34m]\u001b[0m\u001b[0;34m[\u001b[0m\u001b[0mi\u001b[0m\u001b[0;34m]\u001b[0m\u001b[0;34m]\u001b[0m\u001b[0;34m)\u001b[0m\u001b[0;34m\u001b[0m\u001b[0m\n\u001b[0m",
      "\u001b[0;32m/usr/local/lib/python2.7/site-packages/pandas/core/series.pyc\u001b[0m in \u001b[0;36m__getitem__\u001b[0;34m(self, key)\u001b[0m\n\u001b[1;32m    581\u001b[0m         \u001b[0mkey\u001b[0m \u001b[0;34m=\u001b[0m \u001b[0mcom\u001b[0m\u001b[0;34m.\u001b[0m\u001b[0m_apply_if_callable\u001b[0m\u001b[0;34m(\u001b[0m\u001b[0mkey\u001b[0m\u001b[0;34m,\u001b[0m \u001b[0mself\u001b[0m\u001b[0;34m)\u001b[0m\u001b[0;34m\u001b[0m\u001b[0m\n\u001b[1;32m    582\u001b[0m         \u001b[0;32mtry\u001b[0m\u001b[0;34m:\u001b[0m\u001b[0;34m\u001b[0m\u001b[0m\n\u001b[0;32m--> 583\u001b[0;31m             \u001b[0mresult\u001b[0m \u001b[0;34m=\u001b[0m \u001b[0mself\u001b[0m\u001b[0;34m.\u001b[0m\u001b[0mindex\u001b[0m\u001b[0;34m.\u001b[0m\u001b[0mget_value\u001b[0m\u001b[0;34m(\u001b[0m\u001b[0mself\u001b[0m\u001b[0;34m,\u001b[0m \u001b[0mkey\u001b[0m\u001b[0;34m)\u001b[0m\u001b[0;34m\u001b[0m\u001b[0m\n\u001b[0m\u001b[1;32m    584\u001b[0m \u001b[0;34m\u001b[0m\u001b[0m\n\u001b[1;32m    585\u001b[0m             \u001b[0;32mif\u001b[0m \u001b[0;32mnot\u001b[0m \u001b[0mlib\u001b[0m\u001b[0;34m.\u001b[0m\u001b[0misscalar\u001b[0m\u001b[0;34m(\u001b[0m\u001b[0mresult\u001b[0m\u001b[0;34m)\u001b[0m\u001b[0;34m:\u001b[0m\u001b[0;34m\u001b[0m\u001b[0m\n",
      "\u001b[0;32m/usr/local/lib/python2.7/site-packages/pandas/indexes/base.pyc\u001b[0m in \u001b[0;36mget_value\u001b[0;34m(self, series, key)\u001b[0m\n\u001b[1;32m   1978\u001b[0m         \u001b[0;32mtry\u001b[0m\u001b[0;34m:\u001b[0m\u001b[0;34m\u001b[0m\u001b[0m\n\u001b[1;32m   1979\u001b[0m             return self._engine.get_value(s, k,\n\u001b[0;32m-> 1980\u001b[0;31m                                           tz=getattr(series.dtype, 'tz', None))\n\u001b[0m\u001b[1;32m   1981\u001b[0m         \u001b[0;32mexcept\u001b[0m \u001b[0mKeyError\u001b[0m \u001b[0;32mas\u001b[0m \u001b[0me1\u001b[0m\u001b[0;34m:\u001b[0m\u001b[0;34m\u001b[0m\u001b[0m\n\u001b[1;32m   1982\u001b[0m             \u001b[0;32mif\u001b[0m \u001b[0mlen\u001b[0m\u001b[0;34m(\u001b[0m\u001b[0mself\u001b[0m\u001b[0;34m)\u001b[0m \u001b[0;34m>\u001b[0m \u001b[0;36m0\u001b[0m \u001b[0;32mand\u001b[0m \u001b[0mself\u001b[0m\u001b[0;34m.\u001b[0m\u001b[0minferred_type\u001b[0m \u001b[0;32min\u001b[0m \u001b[0;34m[\u001b[0m\u001b[0;34m'integer'\u001b[0m\u001b[0;34m,\u001b[0m \u001b[0;34m'boolean'\u001b[0m\u001b[0;34m]\u001b[0m\u001b[0;34m:\u001b[0m\u001b[0;34m\u001b[0m\u001b[0m\n",
      "\u001b[0;32mpandas/index.pyx\u001b[0m in \u001b[0;36mpandas.index.IndexEngine.get_value (pandas/index.c:3332)\u001b[0;34m()\u001b[0m\n",
      "\u001b[0;32mpandas/index.pyx\u001b[0m in \u001b[0;36mpandas.index.IndexEngine.get_value (pandas/index.c:3035)\u001b[0;34m()\u001b[0m\n",
      "\u001b[0;32mpandas/index.pyx\u001b[0m in \u001b[0;36mpandas.index.IndexEngine.get_loc (pandas/index.c:4018)\u001b[0;34m()\u001b[0m\n",
      "\u001b[0;32mpandas/hashtable.pyx\u001b[0m in \u001b[0;36mpandas.hashtable.Int64HashTable.get_item (pandas/hashtable.c:6610)\u001b[0;34m()\u001b[0m\n",
      "\u001b[0;32mpandas/hashtable.pyx\u001b[0m in \u001b[0;36mpandas.hashtable.Int64HashTable.get_item (pandas/hashtable.c:6554)\u001b[0;34m()\u001b[0m\n",
      "\u001b[0;31mKeyError\u001b[0m: 1"
     ],
     "output_type": "error"
    }
   ],
   "source": [
    "# Compute distance along transect\n",
    "dist = np.zeros((np.size(lf['LONG'])))\n",
    "for i in range(2, np.size(lf['LONG'])):\n",
    "    dist[i] = dist[i - 1] + haversine([lf['LAT'][i - 1], lf['LONG'][i - 1]], [lf['LAT'][i], lf['LONG'][i]])"
   ]
  },
  {
   "cell_type": "code",
   "execution_count": 191,
   "metadata": {
    "collapsed": true
   },
   "outputs": [
    {
     "data": {
      "text/plain": [
       "Index([u'iunix', u'LAT', u'LONG', u'DATE', u'DOY', u'TIME', u'FLT', u'PSX',\n       u'PSY', u'WGSHGT', u'FX', u'FY', u'FZ', u'EOTGRAV', u'FACOR', u'INTCOR',\n       u'FAG070', u'FAG100', u'FAG140', u'FLTENVIRO', u'UNIX', u'THICK',\n       u'ELEVATION', u'FRAME', u'SURFACE_radar', u'BOTTOM', u'QUALITY',\n       u'SURFACE_atm', u'NUMUSED', u'ICEBASE', u'TOPOGRAPHY_radar',\n       u'D_gravmask', u'LINE', u'HYDROAPPX', u'ICEBASE_adj'],\n      dtype='object')"
      ]
     },
     "execution_count": 191,
     "metadata": {},
     "output_type": "execute_result"
    }
   ],
   "source": [
    "lf.columns"
   ]
  },
  {
   "cell_type": "code",
   "execution_count": 346,
   "metadata": {
    "collapsed": false
   },
   "outputs": [
    {
     "name": "stdout",
     "output_type": "stream",
     "text": [
      "[ 50555.5  50556.   50556.5 ...,  51523.   51523.5  51524. ]\n[ 50555.5  50556.   50556.5 ...,  51523.   51523.5  51524. ]\n27689    50555.5\n27690    50556.0\n27691    50556.5\nName: TIME, dtype: float64\n"
     ]
    },
    {
     "data": {
      "text/plain": [
       "array([ 50555.5,  50556. ,  50556.5, ...,  51523. ,  51523.5,  51524. ])"
      ]
     },
     "execution_count": 346,
     "metadata": {},
     "output_type": "execute_result"
    }
   ],
   "source": [
    "print lf.loc[:, 'TIME'].values\n",
    "print lf.ix[:, 'TIME'].values\n",
    "print lf.iloc[0:3, 5]\n",
    "lf.loc[27689:, 'TIME'].values"
   ]
  },
  {
   "cell_type": "code",
   "execution_count": 503,
   "metadata": {
    "collapsed": false
   },
   "outputs": [
    {
     "data": {
      "image/png": "[encoded data removed]",
      "text/plain": [
       "<matplotlib.figure.Figure at 0x1101796d0>"
      ]
     },
     "metadata": {},
     "output_type": "display_data"
    }
   ],
   "source": [
    "'''\n",
    "Extract data from DataFrame\n",
    "'''\n",
    "fag070 = lf['FAG070'][0:].values\n",
    "elevation = lf['WGSHGT'][0:].values\n",
    "icesfc = lf['SURFACE_atm'][0:].values\n",
    "icebase = lf['ICEBASE'][0:].values\n",
    "'''\n",
    "Convert OIB data to polygon arrays\n",
    "'''\n",
    "# iceoutline = np.append(np.concatenate([icesfc, icebase[::-1]], axis=0), icesfc[0]) # no extension\n",
    "iceoutline = make_outline(icesfc, icebase)\n",
    "# plt.figure(facecolor='white'); plt.plot(iceoutline[1180:1220])\n",
    "\n",
    "rockbase = -30000*np.ones_like(icebase)\n",
    "# rockoutline = np.append(icebase[0], np.concatenate([icebase, z_r], axis=0), icebase[0], icebase[0])\n",
    "rockoutline = make_outline(icebase, rockbase)\n",
    "\n",
    "x = np.linspace(0, 100000, len(icebase))#[::-1]\n",
    "xs = make_outline_dist(x, 1e6)\n",
    "# plt.figure(facecolor='white'); plt.plot(xs[1180:1220])\n",
    "\n",
    "# depths of calculations points\n",
    "z = elevation + 2000\n",
    "# z = -500*np.ones_like(x)\n",
    "\n",
    "plt.figure(facecolor='white'); plt.plot(xs, iceoutline); plt.plot(x, elevation)\n",
    "'''\n",
    "Build the Polygon\n",
    "'''\n",
    "props = {'density': rho_r - rho_i}\n",
    "props2 = {'density': rho_r}\n",
    "polygon = Polygon(np.transpose([xs, iceoutline]), props)\n",
    "polygons = [Polygon(np.transpose([xs, iceoutline]), props), \n",
    "            Polygon(np.transpose([xs, rockoutline]), props2)\n",
    "            ]"
   ]
  },
  {
   "cell_type": "markdown",
   "metadata": {},
   "source": [
    "## One Block"
   ]
  },
  {
   "cell_type": "code",
   "execution_count": 505,
   "metadata": {},
   "outputs": [
    {
     "name": "stdout",
     "output_type": "stream",
     "text": [
      "33.8210063585\n"
     ]
    },
    {
     "data": {
      "image/png": "[encoded data removed]",
      "text/plain": [
       "<matplotlib.figure.Figure at 0x111e9c210>"
      ]
     },
     "metadata": {},
     "output_type": "display_data"
    }
   ],
   "source": [
    "'''\n",
    "Forward Model\n",
    "'''\n",
    "gz = talwani.gz(x, z, [polygon])\n",
    "gz_adj = (gz - np.mean(gz)) + np.mean(fag070)\n",
    "n = len(gz_adj)\n",
    "rmse = np.linalg.norm(gz_adj - fag070) / np.sqrt(n)\n",
    "print rmse\n",
    "'''\n",
    "Plot\n",
    "'''\n",
    "mpl.figure(facecolor='white')\n",
    "mpl.axis('scaled')\n",
    "ax1 = mpl.subplot(2, 1, 1)\n",
    "mpl.title(r\"Gravity anomaly produced by the model\")\n",
    "mpl.plot(x, gz, '-r', linewidth=2)\n",
    "# mpl.plot(x, gz-fag070, '-b', linewidth=1)\n",
    "mpl.plot(x, fag070, '.-k', linewidth=2)\n",
    "mpl.xlim(min(x), max(x))\n",
    "mpl.ylabel(\"mGal\")\n",
    "ax1.annotate(str(int(rmse)), xy=(100, 0), xytext=(100, 0))\n",
    "ax2 = mpl.subplot(2, 1, 2)\n",
    "mpl.polygon(polygon, '.-k', linewidth=1, fill='cyan', alpha=0.5)\n",
    "# mpl.polygon(polygons[1], '.-k', linewidth=1, fill='orange', alpha=0.5)\n",
    "mpl.xlim(min(x), max(x))\n",
    "mpl.ylim(-1000, 2000)\n",
    "mpl.xlabel(\"X\")\n",
    "mpl.ylabel(\"Z\")\n",
    "mpl.show()"
   ]
  },
  {
   "cell_type": "markdown",
   "metadata": {},
   "source": [
    "## TWO blocks"
   ]
  },
  {
   "cell_type": "code",
   "execution_count": 508,
   "metadata": {
    "collapsed": true
   },
   "outputs": [
    {
     "name": "stdout",
     "output_type": "stream",
     "text": [
      "9.78343238818\n"
     ]
    },
    {
     "data": {
      "image/png": "[encoded data removed]",
      "text/plain": [
       "<matplotlib.figure.Figure at 0x1125a6090>"
      ]
     },
     "metadata": {},
     "output_type": "display_data"
    }
   ],
   "source": [
    "'''\n",
    "Forward Model\n",
    "'''\n",
    "gz = talwani.gz(x, z, polygons)\n",
    "gz_adj = (gz - np.mean(gz)) + np.mean(fag070)\n",
    "n = len(gz_adj)\n",
    "rmse = np.linalg.norm(gz_adj - fag070) / np.sqrt(n)\n",
    "print rmse\n",
    "'''\n",
    "Plot\n",
    "'''\n",
    "###\n",
    "mpl.figure(facecolor='white')\n",
    "mpl.axis('scaled')\n",
    "ax1 = mpl.subplot(2, 1, 1)\n",
    "mpl.title(r\"Gravity anomaly produced by the model\")\n",
    "mpl.plot(x, gz_adj, '-r', linewidth=2, label='Modeled')\n",
    "# mpl.plot(x, gz-fag070, '-b', linewidth=1)\n",
    "mpl.plot(x, fag070, '.-k', linewidth=2, label='FAG070')\n",
    "mpl.xlim(min(x), max(x))\n",
    "mpl.ylabel(\"mGal\")\n",
    "mpl.legend()\n",
    "ax1.annotate('rmse: '+str(int(rmse))+' mGal', xy=(1000, 0), xytext=(1000, 0))\n",
    "###\n",
    "ax2 = mpl.subplot(2, 1, 2)\n",
    "mpl.polygon(polygons[0], '.-k', linewidth=1, fill='cyan', alpha=0.5)\n",
    "mpl.polygon(polygons[1], '.-k', linewidth=1, fill='orange', alpha=0.5)\n",
    "mpl.xlim(min(x), max(x))\n",
    "mpl.ylim(-1000, 2000)\n",
    "mpl.xlabel(\"X\")\n",
    "mpl.ylabel(\"Z\")\n",
    "mpl.savefig('figs/test_OIB_forward.png', bbox_inches='tight')\n",
    "mpl.show()"
   ]
  },
  {
   "cell_type": "markdown",
   "metadata": {},
   "source": [
    "# DEBUGGING"
   ]
  },
  {
   "cell_type": "code",
   "execution_count": null,
   "metadata": {},
   "outputs": [],
   "source": [
    ""
   ]
  },
  {
   "cell_type": "code",
   "execution_count": 115,
   "metadata": {
    "collapsed": false
   },
   "outputs": [
    {
     "name": "stdout",
     "output_type": "stream",
     "text": [
      "[-1528.7363 -1515.7409 -1502.8052 ...,    -8.7095    -9.3118    -9.9288]\n"
     ]
    }
   ],
   "source": [
    "bottom = np.array(lf['BED_flat'])\n",
    "# bottom = lf['BED_flat']\n",
    "print bottom\n",
    "# print lf['BED_flat'][28767]\n",
    "# lf['BED_flat'][28767:b]\n",
    "# lf['BED_flat'][0:]"
   ]
  },
  {
   "cell_type": "code",
   "execution_count": null,
   "metadata": {},
   "outputs": [],
   "source": [
    ""
   ]
  }
 ],
 "metadata": {
  "kernelspec": {
   "display_name": "Python 2",
   "language": "python",
   "name": "python2"
  },
  "language_info": {
   "codemirror_mode": {
    "name": "ipython",
    "version": 2.0
   },
   "file_extension": ".py",
   "mimetype": "text/x-python",
   "name": "python",
   "nbconvert_exporter": "python",
   "pygments_lexer": "ipython2",
   "version": "2.7.13"
  }
 },
 "nbformat": 4,
 "nbformat_minor": 0
}