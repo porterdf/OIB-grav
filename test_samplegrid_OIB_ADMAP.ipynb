{
 "cells": [
  {
   "cell_type": "code",
   "execution_count": null,
   "metadata": {},
   "outputs": [],
   "source": []
  },
  {
   "cell_type": "code",
   "execution_count": 1,
   "metadata": {
    "collapsed": false,
    "pycharm": {
     "is_executing": false
    }
   },
   "outputs": [],
   "source": [
    "# those modules are almost always imported when working with model data\n",
    "%matplotlib inline\n",
    "import matplotlib.pyplot as plt\n",
    "import cartopy.crs as ccrs\n",
    "import numpy as np\n",
    "import xarray as xr # the major tool to work with NetCDF data!\n",
    "\n",
    "import netCDF4\n",
    "import os\n",
    "from glob import glob\n",
    "import numpy as np\n",
    "import scipy.interpolate\n",
    "import matplotlib.pyplot as plt\n",
    "import pickle as pickle"
   ]
  },
  {
   "cell_type": "markdown",
   "metadata": {},
   "source": [
    "## First load Gravity CSV for sampling"
   ]
  },
  {
   "cell_type": "code",
   "execution_count": 2,
   "metadata": {
    "pycharm": {
     "is_executing": false
    }
   },
   "outputs": [
    {
     "name": "stdout",
     "output_type": "stream",
     "text": [
      "Reading gravity file: /Users/dporter/Documents/data_local/Antarctica/OIB/IGGRV1B/2016/IGGRV1B_20161114_11243000_V017.txt.txt\n"
     ]
    }
   ],
   "source": [
    "import pandas as pd\n",
    "from glob import glob\n",
    "def importOIBgrav(basedir, timedir):\n",
    "    # datadir = 'IGGRV1B/temp'\n",
    "    # infile = 'IGGRV1B_20091104_13100500_V016'\n",
    "    # infile = 'IGGRV1B_20091031_11020500_V016'\n",
    "    # infile = 'IGGRV1B_20091116_15124500_V016'\n",
    "    suffix = '.txt'\n",
    "    pattern = os.path.join(basedir, timedir, 'IGGRV1B_20161114_11243000_V017*' + suffix)\n",
    "    infile = sorted(glob(pattern))  # , key=alphanum_key)\n",
    "\n",
    "    ### Read ascii file as csv\n",
    "    # metadata ends on line 69, column names on line 70\n",
    "    headers = (\n",
    "        'LAT', 'LONG', 'DATE', 'DOY', 'TIME', 'FLT', 'PSX', 'PSY', 'WGSHGT', 'FX', 'FY', 'FZ', 'EOTGRAV', 'FACOR',\n",
    "        'INTCOR',\n",
    "        'FAG070', 'FAG100', 'FAG140', 'FLTENVIRO')\n",
    "    # print \"Reading gravity file: %s\" % infile[0] + suffix %TODO why did I think this would be a list?\n",
    "    print(\"Reading gravity file: %s\" % infile[0] + suffix)\n",
    "    df = pd.read_csv(infile[0], delimiter=r\"\\s+\", header=None, names=headers, skiprows=70)\n",
    "    # headers = df.columns[1:df.shape[1]]\n",
    "    # df.rename(columns=dict(zip(df.columns,headers)), inplace=True)\n",
    "    # df.rename(columns={'LONG': 'LON'}, inplace=True)\n",
    "    # df['ENVIRO'] = df.columns[[19]]\n",
    "    # df.drop(df.columns['FLTENVIRO'],axis=1,inplace=True)\n",
    "\n",
    "    ### do some DATETIME operations\n",
    "    df['DATETIME'] = (df.DATE * 1e5) + df.TIME\n",
    "    df['DATE'] = pd.to_datetime(df['DATE'], format='%Y%m%d')\n",
    "    df['UNIX'] = df['DATE'].astype(np.int64) // 10 ** 9\n",
    "    df['UNIX'] = df['UNIX'] + df['TIME']\n",
    "    df['iunix'] = pd.to_datetime(df['UNIX'] * 10 ** 3, unit='ms')\n",
    "    df.drop(['DATETIME'], axis=1, inplace=True)\n",
    "    df = df.set_index('iunix')\n",
    "    return df\n",
    "\n",
    "basedir = '/Users/dporter/Documents/data_local/Antarctica/OIB/'\n",
    "datadir = 'IGGRV1B'\n",
    "timedir = 2016\n",
    "grav = importOIBgrav(os.path.join(basedir, datadir), str(timedir))\n"
   ]
  },
  {
   "cell_type": "code",
   "execution_count": 3,
   "metadata": {
    "pycharm": {
     "is_executing": false
    }
   },
   "outputs": [
    {
     "data": {
      "text/html": [
       "<div>\n",
       "<style scoped>\n",
       "    .dataframe tbody tr th:only-of-type {\n",
       "        vertical-align: middle;\n",
       "    }\n",
       "\n",
       "    .dataframe tbody tr th {\n",
       "        vertical-align: top;\n",
       "    }\n",
       "\n",
       "    .dataframe thead th {\n",
       "        text-align: right;\n",
       "    }\n",
       "</style>\n",
       "<table border=\"1\" class=\"dataframe\">\n",
       "  <thead>\n",
       "    <tr style=\"text-align: right;\">\n",
       "      <th></th>\n",
       "      <th>LAT</th>\n",
       "      <th>LONG</th>\n",
       "      <th>DATE</th>\n",
       "      <th>DOY</th>\n",
       "      <th>TIME</th>\n",
       "      <th>FLT</th>\n",
       "      <th>PSX</th>\n",
       "      <th>PSY</th>\n",
       "      <th>WGSHGT</th>\n",
       "      <th>FX</th>\n",
       "      <th>FY</th>\n",
       "      <th>FZ</th>\n",
       "      <th>EOTGRAV</th>\n",
       "      <th>FACOR</th>\n",
       "      <th>INTCOR</th>\n",
       "      <th>FAG070</th>\n",
       "      <th>FAG100</th>\n",
       "      <th>FAG140</th>\n",
       "      <th>FLTENVIRO</th>\n",
       "      <th>UNIX</th>\n",
       "    </tr>\n",
       "    <tr>\n",
       "      <th>iunix</th>\n",
       "      <th></th>\n",
       "      <th></th>\n",
       "      <th></th>\n",
       "      <th></th>\n",
       "      <th></th>\n",
       "      <th></th>\n",
       "      <th></th>\n",
       "      <th></th>\n",
       "      <th></th>\n",
       "      <th></th>\n",
       "      <th></th>\n",
       "      <th></th>\n",
       "      <th></th>\n",
       "      <th></th>\n",
       "      <th></th>\n",
       "      <th></th>\n",
       "      <th></th>\n",
       "      <th></th>\n",
       "      <th></th>\n",
       "      <th></th>\n",
       "    </tr>\n",
       "  </thead>\n",
       "  <tbody>\n",
       "    <tr>\n",
       "      <th>2016-11-14 11:24:30.000</th>\n",
       "      <td>-53.004590</td>\n",
       "      <td>-70.845986</td>\n",
       "      <td>2016-11-14</td>\n",
       "      <td>319</td>\n",
       "      <td>41070.0</td>\n",
       "      <td>621</td>\n",
       "      <td>-3929452.26</td>\n",
       "      <td>1364844.81</td>\n",
       "      <td>50.57</td>\n",
       "      <td>5.01</td>\n",
       "      <td>-15.79</td>\n",
       "      <td>981296.93</td>\n",
       "      <td>NaN</td>\n",
       "      <td>NaN</td>\n",
       "      <td>NaN</td>\n",
       "      <td>NaN</td>\n",
       "      <td>NaN</td>\n",
       "      <td>NaN</td>\n",
       "      <td>-1</td>\n",
       "      <td>1.479123e+09</td>\n",
       "    </tr>\n",
       "    <tr>\n",
       "      <th>2016-11-14 11:24:30.500</th>\n",
       "      <td>-53.004590</td>\n",
       "      <td>-70.845986</td>\n",
       "      <td>2016-11-14</td>\n",
       "      <td>319</td>\n",
       "      <td>41070.5</td>\n",
       "      <td>621</td>\n",
       "      <td>-3929452.26</td>\n",
       "      <td>1364844.81</td>\n",
       "      <td>50.57</td>\n",
       "      <td>4.52</td>\n",
       "      <td>-15.33</td>\n",
       "      <td>981297.13</td>\n",
       "      <td>NaN</td>\n",
       "      <td>NaN</td>\n",
       "      <td>NaN</td>\n",
       "      <td>NaN</td>\n",
       "      <td>NaN</td>\n",
       "      <td>NaN</td>\n",
       "      <td>-1</td>\n",
       "      <td>1.479123e+09</td>\n",
       "    </tr>\n",
       "    <tr>\n",
       "      <th>2016-11-14 11:24:31.000</th>\n",
       "      <td>-53.004590</td>\n",
       "      <td>-70.845985</td>\n",
       "      <td>2016-11-14</td>\n",
       "      <td>319</td>\n",
       "      <td>41071.0</td>\n",
       "      <td>621</td>\n",
       "      <td>-3929452.27</td>\n",
       "      <td>1364844.82</td>\n",
       "      <td>50.56</td>\n",
       "      <td>3.46</td>\n",
       "      <td>-14.49</td>\n",
       "      <td>981297.14</td>\n",
       "      <td>NaN</td>\n",
       "      <td>NaN</td>\n",
       "      <td>NaN</td>\n",
       "      <td>NaN</td>\n",
       "      <td>NaN</td>\n",
       "      <td>NaN</td>\n",
       "      <td>-1</td>\n",
       "      <td>1.479123e+09</td>\n",
       "    </tr>\n",
       "    <tr>\n",
       "      <th>2016-11-14 11:24:31.500</th>\n",
       "      <td>-53.004590</td>\n",
       "      <td>-70.845985</td>\n",
       "      <td>2016-11-14</td>\n",
       "      <td>319</td>\n",
       "      <td>41071.5</td>\n",
       "      <td>621</td>\n",
       "      <td>-3929452.27</td>\n",
       "      <td>1364844.83</td>\n",
       "      <td>50.55</td>\n",
       "      <td>2.05</td>\n",
       "      <td>-13.60</td>\n",
       "      <td>981296.95</td>\n",
       "      <td>NaN</td>\n",
       "      <td>NaN</td>\n",
       "      <td>NaN</td>\n",
       "      <td>NaN</td>\n",
       "      <td>NaN</td>\n",
       "      <td>NaN</td>\n",
       "      <td>-1</td>\n",
       "      <td>1.479123e+09</td>\n",
       "    </tr>\n",
       "    <tr>\n",
       "      <th>2016-11-14 11:24:32.000</th>\n",
       "      <td>-53.004589</td>\n",
       "      <td>-70.845985</td>\n",
       "      <td>2016-11-14</td>\n",
       "      <td>319</td>\n",
       "      <td>41072.0</td>\n",
       "      <td>621</td>\n",
       "      <td>-3929452.28</td>\n",
       "      <td>1364844.85</td>\n",
       "      <td>50.54</td>\n",
       "      <td>0.73</td>\n",
       "      <td>-13.01</td>\n",
       "      <td>981296.61</td>\n",
       "      <td>NaN</td>\n",
       "      <td>NaN</td>\n",
       "      <td>NaN</td>\n",
       "      <td>NaN</td>\n",
       "      <td>NaN</td>\n",
       "      <td>NaN</td>\n",
       "      <td>-1</td>\n",
       "      <td>1.479123e+09</td>\n",
       "    </tr>\n",
       "  </tbody>\n",
       "</table>\n",
       "</div>"
      ],
      "text/plain": [
       "                               LAT       LONG       DATE  DOY     TIME  FLT  \\\n",
       "iunix                                                                         \n",
       "2016-11-14 11:24:30.000 -53.004590 -70.845986 2016-11-14  319  41070.0  621   \n",
       "2016-11-14 11:24:30.500 -53.004590 -70.845986 2016-11-14  319  41070.5  621   \n",
       "2016-11-14 11:24:31.000 -53.004590 -70.845985 2016-11-14  319  41071.0  621   \n",
       "2016-11-14 11:24:31.500 -53.004590 -70.845985 2016-11-14  319  41071.5  621   \n",
       "2016-11-14 11:24:32.000 -53.004589 -70.845985 2016-11-14  319  41072.0  621   \n",
       "\n",
       "                                PSX         PSY  WGSHGT    FX     FY  \\\n",
       "iunix                                                                  \n",
       "2016-11-14 11:24:30.000 -3929452.26  1364844.81   50.57  5.01 -15.79   \n",
       "2016-11-14 11:24:30.500 -3929452.26  1364844.81   50.57  4.52 -15.33   \n",
       "2016-11-14 11:24:31.000 -3929452.27  1364844.82   50.56  3.46 -14.49   \n",
       "2016-11-14 11:24:31.500 -3929452.27  1364844.83   50.55  2.05 -13.60   \n",
       "2016-11-14 11:24:32.000 -3929452.28  1364844.85   50.54  0.73 -13.01   \n",
       "\n",
       "                                FZ  EOTGRAV  FACOR  INTCOR  FAG070  FAG100  \\\n",
       "iunix                                                                        \n",
       "2016-11-14 11:24:30.000  981296.93      NaN    NaN     NaN     NaN     NaN   \n",
       "2016-11-14 11:24:30.500  981297.13      NaN    NaN     NaN     NaN     NaN   \n",
       "2016-11-14 11:24:31.000  981297.14      NaN    NaN     NaN     NaN     NaN   \n",
       "2016-11-14 11:24:31.500  981296.95      NaN    NaN     NaN     NaN     NaN   \n",
       "2016-11-14 11:24:32.000  981296.61      NaN    NaN     NaN     NaN     NaN   \n",
       "\n",
       "                         FAG140  FLTENVIRO          UNIX  \n",
       "iunix                                                     \n",
       "2016-11-14 11:24:30.000     NaN         -1  1.479123e+09  \n",
       "2016-11-14 11:24:30.500     NaN         -1  1.479123e+09  \n",
       "2016-11-14 11:24:31.000     NaN         -1  1.479123e+09  \n",
       "2016-11-14 11:24:31.500     NaN         -1  1.479123e+09  \n",
       "2016-11-14 11:24:32.000     NaN         -1  1.479123e+09  "
      ]
     },
     "execution_count": 3,
     "metadata": {},
     "output_type": "execute_result"
    }
   ],
   "source": [
    "grav.head()"
   ]
  },
  {
   "cell_type": "markdown",
   "metadata": {
    "pycharm": {}
   },
   "source": [
    "## ADMAP"
   ]
  },
  {
   "cell_type": "code",
   "execution_count": 98,
   "metadata": {
    "pycharm": {}
   },
   "outputs": [
    {
     "name": "stdout",
     "output_type": "stream",
     "text": [
      "['/Users/dporter/Documents/data_local/Antarctica/Geophysical/ADMAP/ADMAP_ORSTEDcombined.llz']\n"
     ]
    },
    {
     "data": {
      "text/html": [
       "<div>\n",
       "<style scoped>\n",
       "    .dataframe tbody tr th:only-of-type {\n",
       "        vertical-align: middle;\n",
       "    }\n",
       "\n",
       "    .dataframe tbody tr th {\n",
       "        vertical-align: top;\n",
       "    }\n",
       "\n",
       "    .dataframe thead th {\n",
       "        text-align: right;\n",
       "    }\n",
       "</style>\n",
       "<table border=\"1\" class=\"dataframe\">\n",
       "  <thead>\n",
       "    <tr style=\"text-align: right;\">\n",
       "      <th></th>\n",
       "      <th>lat</th>\n",
       "      <th>lon</th>\n",
       "      <th>s</th>\n",
       "    </tr>\n",
       "  </thead>\n",
       "  <tbody>\n",
       "    <tr>\n",
       "      <th>0</th>\n",
       "      <td>-61.01263</td>\n",
       "      <td>-90.00000</td>\n",
       "      <td>81.7168</td>\n",
       "    </tr>\n",
       "    <tr>\n",
       "      <th>1</th>\n",
       "      <td>-61.01673</td>\n",
       "      <td>-94.35863</td>\n",
       "      <td>96.8630</td>\n",
       "    </tr>\n",
       "    <tr>\n",
       "      <th>2</th>\n",
       "      <td>-61.02302</td>\n",
       "      <td>-94.18492</td>\n",
       "      <td>95.6766</td>\n",
       "    </tr>\n",
       "    <tr>\n",
       "      <th>3</th>\n",
       "      <td>-61.02905</td>\n",
       "      <td>-94.01113</td>\n",
       "      <td>94.6208</td>\n",
       "    </tr>\n",
       "    <tr>\n",
       "      <th>4</th>\n",
       "      <td>-61.03483</td>\n",
       "      <td>-93.83726</td>\n",
       "      <td>94.4395</td>\n",
       "    </tr>\n",
       "  </tbody>\n",
       "</table>\n",
       "</div>"
      ],
      "text/plain": [
       "        lat       lon        s\n",
       "0 -61.01263 -90.00000  81.7168\n",
       "1 -61.01673 -94.35863  96.8630\n",
       "2 -61.02302 -94.18492  95.6766\n",
       "3 -61.02905 -94.01113  94.6208\n",
       "4 -61.03483 -93.83726  94.4395"
      ]
     },
     "execution_count": 98,
     "metadata": {},
     "output_type": "execute_result"
    }
   ],
   "source": [
    "basedir = '/Users/dporter/Documents/data_local/'\n",
    "datadir = 'Antarctica/Geophysical/ADMAP/'\n",
    "\n",
    "# suffix = '.dat'\n",
    "# pattern = os.path.join(basedir, datadir, 'ant_new*' + suffix)\n",
    "\n",
    "suffix = '.llz'\n",
    "pattern = os.path.join(basedir, datadir, 'ADMAP_ORSTEDcombined' + suffix)\n",
    "\n",
    "filenames = sorted(glob(pattern))  # , key=alphanum_key)\n",
    "print(filenames)\n",
    "\n",
    "admap = pd.read_csv(filenames[0], delimiter=r\"\\s+\", names=('lat','lon','s'), header=None)\n",
    "admap.head()"
   ]
  },
  {
   "cell_type": "code",
   "execution_count": null,
   "metadata": {},
   "outputs": [],
   "source": []
  },
  {
   "cell_type": "code",
   "execution_count": null,
   "metadata": {},
   "outputs": [],
   "source": []
  },
  {
   "cell_type": "code",
   "execution_count": 99,
   "metadata": {
    "pycharm": {}
   },
   "outputs": [
    {
     "name": "stderr",
     "output_type": "stream",
     "text": [
      "/Users/dporter/anaconda2/envs/py36/lib/python3.6/site-packages/ipykernel_launcher.py:23: FutureWarning: \n",
      "The current behaviour of 'Series.argmin' is deprecated, use 'idxmin'\n",
      "instead.\n",
      "The behavior of 'argmin' will be corrected to return the positional\n",
      "minimum in the future. For now, use 'series.values.argmin' or\n",
      "'np.argmin(np.array(values))' to get the position of the minimum\n",
      "row.\n"
     ]
    },
    {
     "data": {
      "text/plain": [
       "2911"
      ]
     },
     "execution_count": 99,
     "metadata": {},
     "output_type": "execute_result"
    }
   ],
   "source": [
    "def get_closest_ADMAP_cell(file_for_latlon, lat, lon):\n",
    "    \"\"\"\n",
    "    SSIA\n",
    "    :param file_for_latlon:\n",
    "    :param lat:\n",
    "    :param lon:\n",
    "    :return:\n",
    "    \"\"\"\n",
    "    LAT = file_for_latlon['lat'][:]\n",
    "    LON = file_for_latlon['lon'][:]\n",
    "#     print('lat,lon', lat,lon)\n",
    "#     a = abs(LON - lon)\n",
    "#     print(a.min())\n",
    "#     print('Closest lat,lon', LAT[a.argmin()], LON[a.argmin()])\n",
    "    \n",
    "#     a = abs(LAT - lat)\n",
    "#     print(a.min())\n",
    "#     print('Closest lat,lon', LAT[a.argmin()], LON[a.argmin()])\n",
    "    \n",
    "#     a = abs(LON - lon) + abs(LAT - lat)\n",
    "#     print(a.min())\n",
    "#     print('Closest lat,lon', LAT[a.argmin()], LON[a.argmin()])\n",
    "    return (abs(LON - lon) + abs(LAT - lat)).idxmin()\n",
    "\n",
    "\n",
    "get_closest_ADMAP_cell(admap, grav['LAT'][0], grav['LONG'][0])"
   ]
  },
  {
   "cell_type": "code",
   "execution_count": 142,
   "metadata": {
    "pycharm": {}
   },
   "outputs": [
    {
     "name": "stderr",
     "output_type": "stream",
     "text": [
      "/Users/dporter/anaconda2/envs/py36/lib/python3.6/site-packages/ipykernel_launcher.py:8: UserWarning: Boolean Series key will be reindexed to match DataFrame index.\n",
      "  \n"
     ]
    },
    {
     "name": "stdout",
     "output_type": "stream",
     "text": [
      "Sampling took 333.6544909477234 sec\n"
     ]
    }
   ],
   "source": [
    "import time\n",
    "start_sample = time.time()\n",
    "\n",
    "grav['test2'] =  np.nan\n",
    "# test2 = np.full([grav.shape[0], ], np.nan)\n",
    "# lat_sample = np.full([grav.shape[0], ], np.nan)\n",
    "# lon_sample = np.full([grav.shape[0], ], np.nan)\n",
    "admap_sub = admap[grav['LONG'].max()+360 > admap['lon']+360][grav['LONG'].min()+360 < admap['lon']+360][grav['LAT'].max() > admap['lat']][grav['LAT'].min() < admap['lat']].describe()\n",
    "\n",
    "\n",
    "for i in range(0, grav.shape[0], 140):\n",
    "# for i in range(0, 30000, 50):\n",
    "#     ii = get_closest_ADMAP_cell(admap, grav['LAT'][i], grav['LONG'][i])\n",
    "    ii = (abs(admap_sub['lon'][:] - grav['LONG'][i]) + abs(admap_sub['lat'][:] - grav['LAT'][i])).idxmin()\n",
    "#     print('ii: {}\\njj: {}'.format(ii, jj))\n",
    "#     lat_sample[i/50] = admap['lat'][ii]\n",
    "#     lon_sample[i/50] = admap['lon'][ii]\n",
    "#     print(lat_sample[i])\n",
    "#     test[i] = ds['bouguer_anomaly'].isel(x=jj, y=ii).values\n",
    "    grav['test2'].iloc[i] = admap_sub['s'][ii]\n",
    "    \n",
    "end_sample = time.time()\n",
    "print(('Sampling took {} sec'.format(end_sample - start_sample)))\n"
   ]
  },
  {
   "cell_type": "code",
   "execution_count": null,
   "metadata": {},
   "outputs": [],
   "source": []
  },
  {
   "cell_type": "code",
   "execution_count": null,
   "metadata": {},
   "outputs": [],
   "source": [
    "start_sample = time.time()\n",
    "def get_closest_cell(df_sample, lat, lon, latkey='lat', lonkey='lon'):\n",
    "    print\n",
    "    LAT = df_llz['lat'][:]\n",
    "    LON = df_llz['lon'][:]\n",
    "    a = abs(LON - lon) + abs(LAT - lat)\n",
    "\n",
    "    return a.idxmin()\n",
    "\n",
    "end_sample = time.time()\n",
    "print(('Sampling took {} sec'.format(end_sample - start_sample)))"
   ]
  },
  {
   "cell_type": "code",
   "execution_count": null,
   "metadata": {},
   "outputs": [],
   "source": []
  },
  {
   "cell_type": "code",
   "execution_count": 101,
   "metadata": {
    "pycharm": {}
   },
   "outputs": [
    {
     "data": {
      "text/plain": [
       "(79716,)"
      ]
     },
     "execution_count": 101,
     "metadata": {},
     "output_type": "execute_result"
    }
   ],
   "source": [
    "# grav['LAT']\n",
    "\n",
    "u, indices = np.unique(grav['LAT'], return_index=True)\n",
    "np.shape(grav['LAT'][indices])\n",
    "# np.shape(grav['LAT'])"
   ]
  },
  {
   "cell_type": "code",
   "execution_count": 102,
   "metadata": {
    "pycharm": {}
   },
   "outputs": [
    {
     "data": {
      "text/plain": [
       "(340037,)"
      ]
     },
     "execution_count": 102,
     "metadata": {},
     "output_type": "execute_result"
    }
   ],
   "source": [
    "np.shape(admap['lon'])"
   ]
  },
  {
   "cell_type": "code",
   "execution_count": 103,
   "metadata": {
    "pycharm": {}
   },
   "outputs": [
    {
     "name": "stdout",
     "output_type": "stream",
     "text": [
      "(228112,)\n"
     ]
    },
    {
     "data": {
      "text/plain": [
       "count    228112.000000\n",
       "mean        -66.480354\n",
       "std           3.452837\n",
       "min         -73.125270\n",
       "25%         -69.344600\n",
       "50%         -66.201175\n",
       "75%         -63.462400\n",
       "max         -61.012630\n",
       "Name: lat, dtype: float64"
      ]
     },
     "execution_count": 103,
     "metadata": {},
     "output_type": "execute_result"
    }
   ],
   "source": [
    "print((np.shape(admap['lat'][grav['LAT'].max() > admap['lat']][grav['LAT'].min() < admap['lat']])))\n",
    "lat_sub = admap['lat'][grav['LAT'].max() > admap['lat']][grav['LAT'].min() < admap['lat']]\n",
    "lat_sub.describe()"
   ]
  },
  {
   "cell_type": "code",
   "execution_count": 104,
   "metadata": {
    "pycharm": {}
   },
   "outputs": [
    {
     "data": {
      "text/plain": [
       "count    91268.000000\n",
       "mean       -67.800935\n",
       "std          2.499773\n",
       "min        -71.215982\n",
       "25%        -70.406652\n",
       "50%        -67.366447\n",
       "75%        -65.719052\n",
       "max        -61.829817\n",
       "Name: LONG, dtype: float64"
      ]
     },
     "execution_count": 104,
     "metadata": {},
     "output_type": "execute_result"
    }
   ],
   "source": [
    "grav['LONG'].describe()"
   ]
  },
  {
   "cell_type": "code",
   "execution_count": 105,
   "metadata": {
    "pycharm": {}
   },
   "outputs": [
    {
     "name": "stdout",
     "output_type": "stream",
     "text": [
      "(8865,)\n"
     ]
    },
    {
     "data": {
      "text/plain": [
       "count    8865.000000\n",
       "mean      -66.522049\n",
       "std         2.709483\n",
       "min       -71.214980\n",
       "25%       -68.868330\n",
       "50%       -66.522600\n",
       "75%       -64.179010\n",
       "max       -61.830100\n",
       "Name: lon, dtype: float64"
      ]
     },
     "execution_count": 105,
     "metadata": {},
     "output_type": "execute_result"
    }
   ],
   "source": [
    "print((np.shape(admap['lon'][grav['LONG'].max() > admap['lon']][grav['LONG'].min() < admap['lon']])))\n",
    "lon_sub = admap['lon'][grav['LONG'].max()+360 > admap['lon']+360][grav['LONG'].min()+360 < admap['lon']+360]\n",
    "lon_sub.describe()"
   ]
  },
  {
   "cell_type": "code",
   "execution_count": 106,
   "metadata": {
    "pycharm": {}
   },
   "outputs": [
    {
     "name": "stderr",
     "output_type": "stream",
     "text": [
      "/Users/dporter/anaconda2/envs/py36/lib/python3.6/site-packages/ipykernel_launcher.py:1: UserWarning: Boolean Series key will be reindexed to match DataFrame index.\n",
      "  \"\"\"Entry point for launching an IPython kernel.\n"
     ]
    },
    {
     "data": {
      "text/html": [
       "<div>\n",
       "<style scoped>\n",
       "    .dataframe tbody tr th:only-of-type {\n",
       "        vertical-align: middle;\n",
       "    }\n",
       "\n",
       "    .dataframe tbody tr th {\n",
       "        vertical-align: top;\n",
       "    }\n",
       "\n",
       "    .dataframe thead th {\n",
       "        text-align: right;\n",
       "    }\n",
       "</style>\n",
       "<table border=\"1\" class=\"dataframe\">\n",
       "  <thead>\n",
       "    <tr style=\"text-align: right;\">\n",
       "      <th></th>\n",
       "      <th>lat</th>\n",
       "      <th>lon</th>\n",
       "      <th>s</th>\n",
       "    </tr>\n",
       "  </thead>\n",
       "  <tbody>\n",
       "    <tr>\n",
       "      <th>count</th>\n",
       "      <td>5947.000000</td>\n",
       "      <td>5947.000000</td>\n",
       "      <td>5947.000000</td>\n",
       "    </tr>\n",
       "    <tr>\n",
       "      <th>mean</th>\n",
       "      <td>-66.479341</td>\n",
       "      <td>-66.523884</td>\n",
       "      <td>70.909998</td>\n",
       "    </tr>\n",
       "    <tr>\n",
       "      <th>std</th>\n",
       "      <td>3.453088</td>\n",
       "      <td>2.709919</td>\n",
       "      <td>113.311809</td>\n",
       "    </tr>\n",
       "    <tr>\n",
       "      <th>min</th>\n",
       "      <td>-73.125270</td>\n",
       "      <td>-71.214980</td>\n",
       "      <td>-386.646200</td>\n",
       "    </tr>\n",
       "    <tr>\n",
       "      <th>25%</th>\n",
       "      <td>-69.345405</td>\n",
       "      <td>-68.870290</td>\n",
       "      <td>10.391350</td>\n",
       "    </tr>\n",
       "    <tr>\n",
       "      <th>50%</th>\n",
       "      <td>-66.195070</td>\n",
       "      <td>-66.522600</td>\n",
       "      <td>63.571000</td>\n",
       "    </tr>\n",
       "    <tr>\n",
       "      <th>75%</th>\n",
       "      <td>-63.462045</td>\n",
       "      <td>-64.179010</td>\n",
       "      <td>125.009000</td>\n",
       "    </tr>\n",
       "    <tr>\n",
       "      <th>max</th>\n",
       "      <td>-61.014680</td>\n",
       "      <td>-61.830100</td>\n",
       "      <td>646.025900</td>\n",
       "    </tr>\n",
       "  </tbody>\n",
       "</table>\n",
       "</div>"
      ],
      "text/plain": [
       "               lat          lon            s\n",
       "count  5947.000000  5947.000000  5947.000000\n",
       "mean    -66.479341   -66.523884    70.909998\n",
       "std       3.453088     2.709919   113.311809\n",
       "min     -73.125270   -71.214980  -386.646200\n",
       "25%     -69.345405   -68.870290    10.391350\n",
       "50%     -66.195070   -66.522600    63.571000\n",
       "75%     -63.462045   -64.179010   125.009000\n",
       "max     -61.014680   -61.830100   646.025900"
      ]
     },
     "execution_count": 106,
     "metadata": {},
     "output_type": "execute_result"
    }
   ],
   "source": [
    "admap[grav['LONG'].max()+360 > admap['lon']+360][grav['LONG'].min()+360 < admap['lon']+360][grav['LAT'].max() > admap['lat']][grav['LAT'].min() < admap['lat']].describe()\n"
   ]
  },
  {
   "cell_type": "code",
   "execution_count": null,
   "metadata": {
    "pycharm": {}
   },
   "outputs": [],
   "source": []
  },
  {
   "cell_type": "markdown",
   "metadata": {
    "pycharm": {}
   },
   "source": [
    "#### Function\n",
    "Sampling took 28.6072530746 sec (i/500)\n",
    "\n",
    "Sampling took 67.8461468219 sec (i/140)\n",
    "\n",
    "Sampling took 308.588253975 sec (i/50)\n",
    "\n",
    "#### NO FUNCTION:\n",
    "Sampling took 33.2082509995 sec (i/500)\n",
    "\n",
    "Sampling took 264.135560036 sec (1/50)\n",
    "\n",
    "### SUBSET ADMAP FIRST:\n",
    "Sampling took 24 sec (i/500)\n",
    "\n",
    "Sampling took 275.727045059 sec (1/50)"
   ]
  },
  {
   "cell_type": "code",
   "execution_count": null,
   "metadata": {
    "pycharm": {}
   },
   "outputs": [],
   "source": []
  },
  {
   "cell_type": "code",
   "execution_count": null,
   "metadata": {
    "pycharm": {}
   },
   "outputs": [],
   "source": []
  },
  {
   "cell_type": "code",
   "execution_count": 78,
   "metadata": {
    "pycharm": {}
   },
   "outputs": [
    {
     "data": {
      "text/plain": [
       "[<matplotlib.lines.Line2D at 0x13285be10>]"
      ]
     },
     "execution_count": 78,
     "metadata": {},
     "output_type": "execute_result"
    },
    {
     "data": {
      "image/png": "[encoded data removed]",
      "text/plain": [
       "<Figure size 432x288 with 1 Axes>"
      ]
     },
     "metadata": {},
     "output_type": "display_data"
    }
   ],
   "source": [
    "plt.plot(lon_sample, lat_sample, 'k,')"
   ]
  },
  {
   "cell_type": "code",
   "execution_count": 75,
   "metadata": {
    "pycharm": {}
   },
   "outputs": [
    {
     "data": {
      "text/plain": [
       "<matplotlib.colorbar.Colorbar at 0x12f6062d0>"
      ]
     },
     "execution_count": 75,
     "metadata": {},
     "output_type": "execute_result"
    },
    {
     "data": {
      "image/png": "[encoded data removed]",
      "text/plain": [
       "<Figure size 432x288 with 2 Axes>"
      ]
     },
     "metadata": {},
     "output_type": "display_data"
    }
   ],
   "source": [
    "def fill_nan(a):\n",
    "    from scipy import interpolate\n",
    "    import numpy.ma as ma\n",
    "    import numpy as np\n",
    "\n",
    "    '''\n",
    "    interpolate to fill nan values\n",
    "    '''\n",
    "    b = ma.filled(a, np.nan)\n",
    "    inds = np.arange(b.shape[0])\n",
    "    good = np.where(np.isfinite(b))\n",
    "    f = interpolate.interp1d(inds[good], b[good], bounds_error=False)\n",
    "    c = np.where(np.isfinite(b), b, f(inds))\n",
    "    return c\n",
    "\n",
    "# grav['test2'] = fill_nan(grav['test2'].values)\n",
    "plt.scatter(lon_sample, lat_sample, c=fill_nan(grav['test2'].values), marker='s')\n",
    "plt.colorbar()"
   ]
  },
  {
   "cell_type": "code",
   "execution_count": 84,
   "metadata": {
    "pycharm": {}
   },
   "outputs": [
    {
     "name": "stdout",
     "output_type": "stream",
     "text": [
      "count    183.000000\n",
      "mean      40.552678\n",
      "std       95.819424\n",
      "min     -122.510000\n",
      "25%       -1.700000\n",
      "50%       12.420000\n",
      "75%       69.520000\n",
      "max      406.340000\n",
      "Name: test2, dtype: float64\n"
     ]
    },
    {
     "data": {
      "image/png": "[encoded data removed]",
      "text/plain": [
       "<Figure size 432x288 with 1 Axes>"
      ]
     },
     "metadata": {},
     "output_type": "display_data"
    }
   ],
   "source": [
    "plt.plot(grav['test2'].values)\n",
    "print((grav['test2'].describe()))"
   ]
  }
 ],
 "metadata": {
  "kernelspec": {
   "display_name": "Python 3",
   "language": "python",
   "name": "python3"
  },
  "language_info": {
   "codemirror_mode": {
    "name": "ipython",
    "version": 3
   },
   "file_extension": ".py",
   "mimetype": "text/x-python",
   "name": "python",
   "nbconvert_exporter": "python",
   "pygments_lexer": "ipython3",
   "version": "3.6.7"
  }
 },
 "nbformat": 4,
 "nbformat_minor": 2
}
