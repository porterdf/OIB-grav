{
 "cells": [
  {
   "cell_type": "code",
   "execution_count": 52,
   "metadata": {},
   "outputs": [],
   "source": [
    "%matplotlib inline\n",
    "\n",
    "import os\n",
    "import re\n",
    "import numpy as np\n",
    "import matplotlib.pyplot as plt\n",
    "import matplotlib.cm as cm\n",
    "import pandas as pd\n",
    "import netCDF4\n",
    "import gsw\n",
    "from glob import glob\n",
    "from collections import OrderedDict\n",
    "import datetime as dt\n",
    "\n",
    "pd.set_option(\"display.max_rows\",30)\n",
    "pd.set_option(\"precision\",18)\n",
    "pd.set_option('expand_frame_repr', False)"
   ]
  },
  {
   "cell_type": "code",
   "execution_count": 14,
   "metadata": {},
   "outputs": [],
   "source": [
    "basedir = '.'\n",
    "datadir = 'data'\n",
    "infile = 'ITGC_TO_2019_ALL_fortiming'\n",
    "suffix = '.csv'\n",
    "itgc_file = os.path.join(basedir,datadir,infile+suffix)\n"
   ]
  },
  {
   "cell_type": "code",
   "execution_count": 15,
   "metadata": {},
   "outputs": [],
   "source": [
    "df = pd.read_csv(itgc_file)\n",
    "df['datestring'] = pd.to_datetime(df['unixtime'],unit='s')\n",
    "df = df.set_index(pd.to_datetime(df['unixtime'],unit='s'))"
   ]
  },
  {
   "cell_type": "code",
   "execution_count": 16,
   "metadata": {},
   "outputs": [
    {
     "data": {
      "text/html": [
       "<div>\n",
       "<style scoped>\n",
       "    .dataframe tbody tr th:only-of-type {\n",
       "        vertical-align: middle;\n",
       "    }\n",
       "\n",
       "    .dataframe tbody tr th {\n",
       "        vertical-align: top;\n",
       "    }\n",
       "\n",
       "    .dataframe thead th {\n",
       "        text-align: right;\n",
       "    }\n",
       "</style>\n",
       "<table border=\"1\" class=\"dataframe\">\n",
       "  <thead>\n",
       "    <tr style=\"text-align: right;\">\n",
       "      <th></th>\n",
       "      <th>LINE</th>\n",
       "      <th>RAW_GRAV_REL</th>\n",
       "      <th>unixtime</th>\n",
       "      <th>ZACC_COR</th>\n",
       "      <th>datestring</th>\n",
       "    </tr>\n",
       "    <tr>\n",
       "      <th>unixtime</th>\n",
       "      <th></th>\n",
       "      <th></th>\n",
       "      <th></th>\n",
       "      <th></th>\n",
       "      <th></th>\n",
       "    </tr>\n",
       "  </thead>\n",
       "  <tbody>\n",
       "    <tr>\n",
       "      <th>2019-02-07 12:34:54.500</th>\n",
       "      <td>14</td>\n",
       "      <td>-124.163157</td>\n",
       "      <td>1.549543e+09</td>\n",
       "      <td>103.988770</td>\n",
       "      <td>2019-02-07 12:34:54.500</td>\n",
       "    </tr>\n",
       "    <tr>\n",
       "      <th>2019-02-07 12:34:55.500</th>\n",
       "      <td>14</td>\n",
       "      <td>-159.799557</td>\n",
       "      <td>1.549543e+09</td>\n",
       "      <td>0.106624</td>\n",
       "      <td>2019-02-07 12:34:55.500</td>\n",
       "    </tr>\n",
       "    <tr>\n",
       "      <th>2019-02-07 12:34:56.500</th>\n",
       "      <td>14</td>\n",
       "      <td>-113.769207</td>\n",
       "      <td>1.549543e+09</td>\n",
       "      <td>1.150509</td>\n",
       "      <td>2019-02-07 12:34:56.500</td>\n",
       "    </tr>\n",
       "    <tr>\n",
       "      <th>2019-02-07 12:34:57.500</th>\n",
       "      <td>14</td>\n",
       "      <td>-156.829857</td>\n",
       "      <td>1.549543e+09</td>\n",
       "      <td>-4.843779</td>\n",
       "      <td>2019-02-07 12:34:57.500</td>\n",
       "    </tr>\n",
       "    <tr>\n",
       "      <th>2019-02-07 12:34:58.500</th>\n",
       "      <td>14</td>\n",
       "      <td>-196.920807</td>\n",
       "      <td>1.549543e+09</td>\n",
       "      <td>2.080389</td>\n",
       "      <td>2019-02-07 12:34:58.500</td>\n",
       "    </tr>\n",
       "  </tbody>\n",
       "</table>\n",
       "</div>"
      ],
      "text/plain": [
       "                         LINE  RAW_GRAV_REL      unixtime    ZACC_COR  \\\n",
       "unixtime                                                                \n",
       "2019-02-07 12:34:54.500    14   -124.163157  1.549543e+09  103.988770   \n",
       "2019-02-07 12:34:55.500    14   -159.799557  1.549543e+09    0.106624   \n",
       "2019-02-07 12:34:56.500    14   -113.769207  1.549543e+09    1.150509   \n",
       "2019-02-07 12:34:57.500    14   -156.829857  1.549543e+09   -4.843779   \n",
       "2019-02-07 12:34:58.500    14   -196.920807  1.549543e+09    2.080389   \n",
       "\n",
       "                                     datestring  \n",
       "unixtime                                         \n",
       "2019-02-07 12:34:54.500 2019-02-07 12:34:54.500  \n",
       "2019-02-07 12:34:55.500 2019-02-07 12:34:55.500  \n",
       "2019-02-07 12:34:56.500 2019-02-07 12:34:56.500  \n",
       "2019-02-07 12:34:57.500 2019-02-07 12:34:57.500  \n",
       "2019-02-07 12:34:58.500 2019-02-07 12:34:58.500  "
      ]
     },
     "execution_count": 16,
     "metadata": {},
     "output_type": "execute_result"
    }
   ],
   "source": [
    "df.head()"
   ]
  },
  {
   "cell_type": "code",
   "execution_count": 17,
   "metadata": {},
   "outputs": [
    {
     "name": "stdout",
     "output_type": "stream",
     "text": [
      "5\n",
      "6\n",
      "7\n",
      "8\n",
      "9\n",
      "11\n",
      "12\n",
      "14\n"
     ]
    }
   ],
   "source": [
    "gb = df.groupby(['LINE'])\n",
    "\n",
    "# gb.describe()\n",
    "\n",
    "# gb['FAG070'].describe()\n",
    "\n",
    "# Group the dataframe by regiment, and for each regiment,\n",
    "for name, group in gb:\n",
    "    print(name)\n",
    "#     print(group['FAG070'].describe())"
   ]
  },
  {
   "cell_type": "code",
   "execution_count": 18,
   "metadata": {},
   "outputs": [],
   "source": [
    "segment = 9\n",
    "# plt.plot(df['LINE'].where((df['LINE'] == segment)))\n",
    "# oib_lineplot_cust(df.where((df['LINE'] == segment)))\n",
    "\n",
    "# gb[[\"TIME\", \"FAG070\"]].get_group(segment)\n",
    "lf = gb.get_group(segment)"
   ]
  },
  {
   "cell_type": "code",
   "execution_count": 20,
   "metadata": {},
   "outputs": [
    {
     "data": {
      "text/plain": [
       "Index(['LINE', 'RAW_GRAV_REL', 'unixtime', 'ZACC_COR', 'datestring'], dtype='object')"
      ]
     },
     "execution_count": 20,
     "metadata": {},
     "output_type": "execute_result"
    }
   ],
   "source": [
    "lf.columns"
   ]
  },
  {
   "cell_type": "code",
   "execution_count": 21,
   "metadata": {},
   "outputs": [],
   "source": [
    "def mapplot_zoom(lon, lat, field, units='', ptitle='test_map', pfile='test_map'):\n",
    "    import matplotlib.pyplot as plt\n",
    "    import cartopy.crs as ccrs\n",
    "    from cartopy.mpl.gridliner import LONGITUDE_FORMATTER, LATITUDE_FORMATTER\n",
    "    import cartopy.feature\n",
    "    import shapely.geometry as sgeom\n",
    "    try:\n",
    "        # box = sgeom.box(minx=0, maxx=360, miny=-88, maxy=-56)\n",
    "        # x0, y0, x1, y1 = box.bounds\n",
    "        myproj = ccrs.SouthPolarStereo(central_longitude=180)\n",
    "\n",
    "        plt.figure(figsize=(8, 4), facecolor='white', dpi=144)\n",
    "        ax = plt.axes(projection=myproj)\n",
    "\n",
    "        #         plt.scatter(data['LONG'], data['LAT'], c='black', s=1, transform=ccrs.PlateCarree())\n",
    "        plt.scatter(lon, lat, c=field, cmap=cm.jet, s=15, transform=ccrs.PlateCarree())\n",
    "        c = plt.colorbar(orientation='vertical', shrink=0.4, pad=0.10)\n",
    "        c.ax.set_yticklabels(c.ax.get_yticklabels(), rotation=0)\n",
    "        c.set_label(units)\n",
    "        # transform = ccrs.PlateCarree()._as_mpl_transform(ax)\n",
    "        # for i, txt in enumerate(field):\n",
    "        #     # print '%s: %s, %s' % (txt, lon[i], lat[i])\n",
    "        #     ax.annotate(txt, (lon[i], lat[i]), xycoords=transform,\n",
    "        #                 ha='right', va='top')\n",
    "\n",
    "        ax.coastlines(resolution='50m')\n",
    "        # ax.add_feature(cartopy.feature.LAND)\n",
    "        # ax.add_feature(cartopy.feature.OCEAN)\n",
    "        # ax.gridlines(draw_labels=False, alpha=0.3, color='grey')\n",
    "        # ax.xformatter = LONGITUDE_FORMATTER\n",
    "        # ax.yformatter = LATITUDE_FORMATTER\n",
    "        # ax.set_extent([x0, x1, y0, y1], ccrs.PlateCarree())\n",
    "\n",
    "        plt.tight_layout()\n",
    "        plt.subplots_adjust(top=1.25)\n",
    "        plt.suptitle(ptitle, y=0.98)\n",
    "        plt.savefig(pfile, bbox_inches='tight')  # save the figure to file\n",
    "        # plt.show()\n",
    "        # plt.close()\n",
    "    except IndexError:\n",
    "        print(\"Couldn't make Map Plot.\")\n",
    "    return\n",
    "\n",
    "\n",
    "# mapplot_zoom(lf[''])"
   ]
  },
  {
   "cell_type": "code",
   "execution_count": 8,
   "metadata": {},
   "outputs": [
    {
     "data": {
      "image/png": "[encoded data removed]",
      "text/plain": [
       "<Figure size 432x288 with 1 Axes>"
      ]
     },
     "metadata": {
      "needs_background": "light"
     },
     "output_type": "display_data"
    }
   ],
   "source": [
    "from pandas.plotting import autocorrelation_plot\n",
    "autocorrelation_plot(lf['RAW_GRAV_REL'], label='RAW_GRAV_REL')\n",
    "# autocorrelation_plot(df['grav_4_70_corr'])\n",
    "autocorrelation_plot(lf['ZACC_COR'], label='ZACC_COR')\n",
    "plt.legend()\n",
    "plt.xlim([0, 250])\n",
    "plt.show()"
   ]
  },
  {
   "cell_type": "code",
   "execution_count": 9,
   "metadata": {},
   "outputs": [
    {
     "data": {
      "text/plain": [
       "[<matplotlib.lines.Line2D at 0x1132042e8>]"
      ]
     },
     "execution_count": 9,
     "metadata": {},
     "output_type": "execute_result"
    },
    {
     "data": {
      "image/png": "[encoded data removed]",
      "text/plain": [
       "<Figure size 432x288 with 1 Axes>"
      ]
     },
     "metadata": {
      "needs_background": "light"
     },
     "output_type": "display_data"
    }
   ],
   "source": [
    "a = lf['RAW_GRAV_REL'].values[:]\n",
    "b = lf['ZACC_COR'].values[:]\n",
    "x = lf['unixtime'].values[:]\n",
    "#\n",
    "# a = lf['RAW_GRAV_REL'].values[9000:9300]\n",
    "# b = lf['ZACC_COR'].values[9000:9300]\n",
    "# x = lf['unixtime'].values[9000:9300]\n",
    "plt.plot(x, a)"
   ]
  },
  {
   "cell_type": "code",
   "execution_count": 10,
   "metadata": {},
   "outputs": [
    {
     "data": {
      "text/plain": [
       "[<matplotlib.lines.Line2D at 0x11b9bf898>]"
      ]
     },
     "execution_count": 10,
     "metadata": {},
     "output_type": "execute_result"
    },
    {
     "data": {
      "image/png": "[encoded data removed]",
      "text/plain": [
       "<Figure size 432x288 with 1 Axes>"
      ]
     },
     "metadata": {
      "needs_background": "light"
     },
     "output_type": "display_data"
    }
   ],
   "source": [
    "plt.plot(x, b)"
   ]
  },
  {
   "cell_type": "code",
   "execution_count": 11,
   "metadata": {},
   "outputs": [
    {
     "data": {
      "image/png": "[encoded data removed]",
      "text/plain": [
       "<Figure size 432x288 with 1 Axes>"
      ]
     },
     "metadata": {
      "needs_background": "light"
     },
     "output_type": "display_data"
    }
   ],
   "source": [
    "# regularize datasets by subtracting mean and dividing by s.d.\n",
    "a -= a.mean(); a /= a.std()\n",
    "b -= b.mean(); b /= b.std()\n",
    "plt.plot(a); plt.plot(b);"
   ]
  },
  {
   "cell_type": "code",
   "execution_count": 12,
   "metadata": {},
   "outputs": [],
   "source": [
    "# #fourier transform both series\n",
    "# FT1 = np.fft.fft(a)\n",
    "# FT2 = np.fft.fft(b)\n",
    "\n",
    "# print(np.log(FT2[1:]/FT1[1:])/(-1.j*np.arange(1,len(a))))"
   ]
  },
  {
   "cell_type": "code",
   "execution_count": 22,
   "metadata": {},
   "outputs": [
    {
     "name": "stdout",
     "output_type": "stream",
     "text": [
      "12722\n",
      "7843\n"
     ]
    }
   ],
   "source": [
    "from scipy import signal, fftpack\n",
    "\n",
    "A = fftpack.fft(a)\n",
    "B = fftpack.fft(b)\n",
    "Ar = -A.conjugate()\n",
    "Br = -B.conjugate()\n",
    "print(np.argmax(np.abs(fftpack.ifft(Ar*B))))\n",
    "print(np.argmax(np.abs(fftpack.ifft(A*Br))))"
   ]
  },
  {
   "cell_type": "code",
   "execution_count": 23,
   "metadata": {},
   "outputs": [
    {
     "name": "stdout",
     "output_type": "stream",
     "text": [
      "7843\n"
     ]
    }
   ],
   "source": [
    "import scipy\n",
    "\n",
    "af = scipy.fft(a)\n",
    "bf = scipy.fft(b)\n",
    "c = scipy.ifft(af * scipy.conj(bf))\n",
    "\n",
    "time_shift = np.argmax(abs(c))\n",
    "print(time_shift)"
   ]
  },
  {
   "cell_type": "code",
   "execution_count": 24,
   "metadata": {},
   "outputs": [
    {
     "name": "stderr",
     "output_type": "stream",
     "text": [
      "/Users/dporter/anaconda2/envs/py36/lib/python3.6/site-packages/numpy/core/numeric.py:538: ComplexWarning: Casting complex values to real discards the imaginary part\n",
      "  return array(a, dtype, copy=False, order=order)\n"
     ]
    },
    {
     "data": {
      "text/plain": [
       "[<matplotlib.lines.Line2D at 0x11fa8cb38>]"
      ]
     },
     "execution_count": 24,
     "metadata": {},
     "output_type": "execute_result"
    },
    {
     "data": {
      "image/png": "[encoded data removed]",
      "text/plain": [
       "<Figure size 432x288 with 1 Axes>"
      ]
     },
     "metadata": {
      "needs_background": "light"
     },
     "output_type": "display_data"
    }
   ],
   "source": [
    "plt.plot(c)"
   ]
  },
  {
   "cell_type": "code",
   "execution_count": 25,
   "metadata": {},
   "outputs": [
    {
     "data": {
      "text/plain": [
       "7843"
      ]
     },
     "execution_count": 25,
     "metadata": {},
     "output_type": "execute_result"
    }
   ],
   "source": [
    "from scipy import signal, fftpack\n",
    "\n",
    "def get_max_correlation(original, match):\n",
    "    z = signal.fftconvolve(original, match[::-1])\n",
    "    lags = np.arange(z.size) - (match.size - 1)\n",
    "    return ( lags[np.argmax(np.abs(z))] )\n",
    "\n",
    "get_max_correlation(a, b)"
   ]
  },
  {
   "cell_type": "code",
   "execution_count": 31,
   "metadata": {},
   "outputs": [
    {
     "name": "stdout",
     "output_type": "stream",
     "text": [
      "Recovered time shift: -1\n"
     ]
    }
   ],
   "source": [
    "from scipy.signal import correlate\n",
    "\n",
    "nsamples = a.size\n",
    "\n",
    "# Find cross-correlation\n",
    "xcorr = correlate(a, b)\n",
    "\n",
    "# delta time array to match xcorr\n",
    "dt = np.arange(1-nsamples, nsamples)\n",
    "\n",
    "recovered_time_shift = dt[xcorr.argmax()]\n",
    "\n",
    "print(\"Recovered time shift: %d\" % (recovered_time_shift))"
   ]
  },
  {
   "cell_type": "code",
   "execution_count": 27,
   "metadata": {},
   "outputs": [
    {
     "data": {
      "text/plain": [
       "20563"
      ]
     },
     "execution_count": 27,
     "metadata": {},
     "output_type": "execute_result"
    }
   ],
   "source": [
    "scipy.signal.signaltools.correlate(a, b).argmax()"
   ]
  },
  {
   "cell_type": "code",
   "execution_count": 29,
   "metadata": {},
   "outputs": [
    {
     "name": "stdout",
     "output_type": "stream",
     "text": [
      "Found   shift:  0.0\n"
     ]
    }
   ],
   "source": [
    "from scipy.interpolate import interp1d\n",
    "from scipy.optimize import leastsq\n",
    "\n",
    "def err_func(p):\n",
    "    return interp1d(x,a)(x[1:-1]+p[0]) - b[1:-1]\n",
    "\n",
    "p0 = [0,] # Inital guess of no shift\n",
    "found_shift = leastsq(err_func,p0)[0][0]\n",
    "\n",
    "print(\"Found   shift: \", found_shift)"
   ]
  },
  {
   "cell_type": "markdown",
   "metadata": {},
   "source": [
    "## Read in 200Hz iMAR data"
   ]
  },
  {
   "cell_type": "code",
   "execution_count": 126,
   "metadata": {},
   "outputs": [
    {
     "data": {
      "text/html": [
       "<div>\n",
       "<style scoped>\n",
       "    .dataframe tbody tr th:only-of-type {\n",
       "        vertical-align: middle;\n",
       "    }\n",
       "\n",
       "    .dataframe tbody tr th {\n",
       "        vertical-align: top;\n",
       "    }\n",
       "\n",
       "    .dataframe thead th {\n",
       "        text-align: right;\n",
       "    }\n",
       "</style>\n",
       "<table border=\"1\" class=\"dataframe\">\n",
       "  <thead>\n",
       "    <tr style=\"text-align: right;\">\n",
       "      <th></th>\n",
       "      <th>Date</th>\n",
       "      <th>Time</th>\n",
       "      <th>Lat_deg</th>\n",
       "      <th>Lon_deg</th>\n",
       "      <th>Hght_GRS80</th>\n",
       "      <th>rel_N</th>\n",
       "      <th>rel_E</th>\n",
       "      <th>rel_H</th>\n",
       "      <th>Roll</th>\n",
       "      <th>Pitch</th>\n",
       "      <th>Heading</th>\n",
       "      <th>FAA</th>\n",
       "      <th>Grav_Ap</th>\n",
       "      <th>Grav_absolute</th>\n",
       "      <th>Grav_normal</th>\n",
       "    </tr>\n",
       "    <tr>\n",
       "      <th>unixtime</th>\n",
       "      <th></th>\n",
       "      <th></th>\n",
       "      <th></th>\n",
       "      <th></th>\n",
       "      <th></th>\n",
       "      <th></th>\n",
       "      <th></th>\n",
       "      <th></th>\n",
       "      <th></th>\n",
       "      <th></th>\n",
       "      <th></th>\n",
       "      <th></th>\n",
       "      <th></th>\n",
       "      <th></th>\n",
       "      <th></th>\n",
       "    </tr>\n",
       "  </thead>\n",
       "  <tbody>\n",
       "    <tr>\n",
       "      <th>2019-02-04 11:45:59.001565</th>\n",
       "      <td>2019/02/04</td>\n",
       "      <td>11:45:59.001565</td>\n",
       "      <td>-76.458149396999999681</td>\n",
       "      <td>-107.781546722999991061</td>\n",
       "      <td>1002.569600000000036744</td>\n",
       "      <td>1.040999999999999925</td>\n",
       "      <td>0.672000000000000042</td>\n",
       "      <td>1.656999999999999806</td>\n",
       "      <td>-0.882729000000000097</td>\n",
       "      <td>0.750570999999999988</td>\n",
       "      <td>96.492800000000002569</td>\n",
       "      <td>13.333199999999999719</td>\n",
       "      <td>-0.0</td>\n",
       "      <td>982637.207900000037625432</td>\n",
       "      <td>982623.874599999981001019</td>\n",
       "    </tr>\n",
       "    <tr>\n",
       "      <th>2019-02-04 11:45:59.101562</th>\n",
       "      <td>2019/02/04</td>\n",
       "      <td>11:45:59.101562</td>\n",
       "      <td>-76.458149396999999681</td>\n",
       "      <td>-107.781546722999991061</td>\n",
       "      <td>1002.569499999999948159</td>\n",
       "      <td>0.198999999999999982</td>\n",
       "      <td>0.145999999999999991</td>\n",
       "      <td>0.925000000000000044</td>\n",
       "      <td>-0.882713999999999888</td>\n",
       "      <td>0.751291999999999960</td>\n",
       "      <td>96.492999999999994998</td>\n",
       "      <td>13.333199999999999719</td>\n",
       "      <td>-0.0</td>\n",
       "      <td>982637.219000000040978193</td>\n",
       "      <td>982623.885800000047311187</td>\n",
       "    </tr>\n",
       "    <tr>\n",
       "      <th>2019-02-04 11:45:59.201560</th>\n",
       "      <td>2019/02/04</td>\n",
       "      <td>11:45:59.201560</td>\n",
       "      <td>-76.458149396999999681</td>\n",
       "      <td>-107.781546722999991061</td>\n",
       "      <td>1002.569399999999973261</td>\n",
       "      <td>0.198999999999999982</td>\n",
       "      <td>0.145999999999999991</td>\n",
       "      <td>0.925000000000000044</td>\n",
       "      <td>-0.882079999999999975</td>\n",
       "      <td>0.751085000000000003</td>\n",
       "      <td>96.492900000000005889</td>\n",
       "      <td>13.333199999999999719</td>\n",
       "      <td>-0.0</td>\n",
       "      <td>982637.219000000040978193</td>\n",
       "      <td>982623.885800000047311187</td>\n",
       "    </tr>\n",
       "    <tr>\n",
       "      <th>2019-02-04 11:45:59.301558</th>\n",
       "      <td>2019/02/04</td>\n",
       "      <td>11:45:59.301558</td>\n",
       "      <td>-76.458149398000003316</td>\n",
       "      <td>-107.781546722999991061</td>\n",
       "      <td>1002.569299999999998363</td>\n",
       "      <td>0.198999999999999982</td>\n",
       "      <td>0.145999999999999991</td>\n",
       "      <td>0.925000000000000044</td>\n",
       "      <td>-0.879900000000000015</td>\n",
       "      <td>0.749951000000000034</td>\n",
       "      <td>96.492800000000002569</td>\n",
       "      <td>13.333199999999999719</td>\n",
       "      <td>-0.0</td>\n",
       "      <td>982637.219000000040978193</td>\n",
       "      <td>982623.885800000047311187</td>\n",
       "    </tr>\n",
       "    <tr>\n",
       "      <th>2019-02-04 11:45:59.401556</th>\n",
       "      <td>2019/02/04</td>\n",
       "      <td>11:45:59.401556</td>\n",
       "      <td>-76.458149398000003316</td>\n",
       "      <td>-107.781546723999994697</td>\n",
       "      <td>1002.569200000000023465</td>\n",
       "      <td>0.198999999999999982</td>\n",
       "      <td>0.145999999999999991</td>\n",
       "      <td>0.925000000000000044</td>\n",
       "      <td>-0.877715999999999941</td>\n",
       "      <td>0.751295999999999964</td>\n",
       "      <td>96.492999999999994998</td>\n",
       "      <td>13.333199999999999719</td>\n",
       "      <td>-0.0</td>\n",
       "      <td>982637.219000000040978193</td>\n",
       "      <td>982623.885800000047311187</td>\n",
       "    </tr>\n",
       "  </tbody>\n",
       "</table>\n",
       "</div>"
      ],
      "text/plain": [
       "                                  Date             Time                Lat_deg                 Lon_deg               Hght_GRS80                 rel_N                 rel_E                 rel_H                  Roll                 Pitch                Heading                    FAA  Grav_Ap              Grav_absolute                Grav_normal\n",
       "unixtime                                                                                                                                                                                                                                                                                                                                                  \n",
       "2019-02-04 11:45:59.001565  2019/02/04  11:45:59.001565 -76.458149396999999681 -107.781546722999991061  1002.569600000000036744  1.040999999999999925  0.672000000000000042  1.656999999999999806 -0.882729000000000097  0.750570999999999988  96.492800000000002569  13.333199999999999719     -0.0  982637.207900000037625432  982623.874599999981001019\n",
       "2019-02-04 11:45:59.101562  2019/02/04  11:45:59.101562 -76.458149396999999681 -107.781546722999991061  1002.569499999999948159  0.198999999999999982  0.145999999999999991  0.925000000000000044 -0.882713999999999888  0.751291999999999960  96.492999999999994998  13.333199999999999719     -0.0  982637.219000000040978193  982623.885800000047311187\n",
       "2019-02-04 11:45:59.201560  2019/02/04  11:45:59.201560 -76.458149396999999681 -107.781546722999991061  1002.569399999999973261  0.198999999999999982  0.145999999999999991  0.925000000000000044 -0.882079999999999975  0.751085000000000003  96.492900000000005889  13.333199999999999719     -0.0  982637.219000000040978193  982623.885800000047311187\n",
       "2019-02-04 11:45:59.301558  2019/02/04  11:45:59.301558 -76.458149398000003316 -107.781546722999991061  1002.569299999999998363  0.198999999999999982  0.145999999999999991  0.925000000000000044 -0.879900000000000015  0.749951000000000034  96.492800000000002569  13.333199999999999719     -0.0  982637.219000000040978193  982623.885800000047311187\n",
       "2019-02-04 11:45:59.401556  2019/02/04  11:45:59.401556 -76.458149398000003316 -107.781546723999994697  1002.569200000000023465  0.198999999999999982  0.145999999999999991  0.925000000000000044 -0.877715999999999941  0.751295999999999964  96.492999999999994998  13.333199999999999719     -0.0  982637.219000000040978193  982623.885800000047311187"
      ]
     },
     "execution_count": 126,
     "metadata": {},
     "output_type": "execute_result"
    }
   ],
   "source": [
    "df_pos=pd.read_csv('/Volumes/C/data/Antarctic/ITGC/Thw_GPS_18_19/09.txt', delimiter=r\"\\s+\", engine='python',\n",
    "                   header=0, skiprows=[0,1,2,4])\n",
    "# df_gps=pd.read_csv('/Volumes/C/data/Antarctic/ITGC/Thw_GPS_18_19/09.txt', delimiter=r\"\\s+\",\n",
    "#                    skiprows=5)  #skiprows=range(0, 50), nrows=10))\n",
    "\n",
    "df_pos['unixtime'] = pd.to_datetime(df_pos['Date'] + ' ' + df_pos['Time'])\n",
    "df_pos = df_pos.set_index('unixtime')\n",
    "df_pos.head()"
   ]
  },
  {
   "cell_type": "code",
   "execution_count": 130,
   "metadata": {},
   "outputs": [
    {
     "data": {
      "text/plain": [
       "<matplotlib.axes._subplots.AxesSubplot at 0x1709a7b00>"
      ]
     },
     "execution_count": 130,
     "metadata": {},
     "output_type": "execute_result"
    },
    {
     "data": {
      "image/png": "[encoded data removed]",
      "text/plain": [
       "<Figure size 432x288 with 1 Axes>"
      ]
     },
     "metadata": {
      "needs_background": "light"
     },
     "output_type": "display_data"
    }
   ],
   "source": [
    "df_pos.loc['2019-02-04 15:00:00':'2019-02-04 15:00:20']['Hght_GRS80'].diff().diff().plot(style='.-')"
   ]
  },
  {
   "cell_type": "code",
   "execution_count": 233,
   "metadata": {},
   "outputs": [
    {
     "name": "stderr",
     "output_type": "stream",
     "text": [
      "/Users/dporter/anaconda2/envs/py36/lib/python3.6/site-packages/pandas/io/parsers.py:678: UserWarning: Duplicate names specified. This will raise an error in the future.\n",
      "  return _read(filepath_or_buffer, kwds)\n"
     ]
    }
   ],
   "source": [
    "# df_gps=pd.read_csv('/Volumes/SeagateBLUE/ITGC_TO_2019/QC/iMAR/TG09_20190204_iMAR_QC_STD.txt', delimiter=r\"\\s+\", engine='python',\n",
    "#                    header=0, skiprows=range(0, 19), nrows=10000)\n",
    "# df_gps = df_gps.iloc[1:]\n",
    "\n",
    "###\n",
    "headers = ('UTCDate','UTCTime','UTCTime','UTCTime','Latitude','Longitude','H-Ell',\n",
    "           'Pitch','Roll','Heading','NS','PDOP','AccBiasZ')\n",
    "# dtypes = {'UTCTime': 'string','Latitude': 'float','Longitude': 'float','H-Ell': 'float',\n",
    "#            'Pitch': 'float','Roll': 'float','Heading': 'float',\n",
    "#            'NS': 'int64','PDOP': 'float','AccBiasZ': 'float'}\n",
    "incols = np.arange(3,np.alen(headers),1)\n",
    "\n",
    "df_gps = pd.read_csv('/Volumes/SeagateBLUE/ITGC_TO_2019/QC/iMAR/TG09_20190204_iMAR_QC_STD.txt',\n",
    "                delimiter=r\"\\s+\", \n",
    "                skiprows=21, \n",
    "                header=None, \n",
    "                names=headers,\n",
    "                usecols=incols)#,\n",
    "#                 nrows=750000)"
   ]
  },
  {
   "cell_type": "code",
   "execution_count": 234,
   "metadata": {},
   "outputs": [
    {
     "data": {
      "text/html": [
       "<div>\n",
       "<style scoped>\n",
       "    .dataframe tbody tr th:only-of-type {\n",
       "        vertical-align: middle;\n",
       "    }\n",
       "\n",
       "    .dataframe tbody tr th {\n",
       "        vertical-align: top;\n",
       "    }\n",
       "\n",
       "    .dataframe thead th {\n",
       "        text-align: right;\n",
       "    }\n",
       "</style>\n",
       "<table border=\"1\" class=\"dataframe\">\n",
       "  <thead>\n",
       "    <tr style=\"text-align: right;\">\n",
       "      <th></th>\n",
       "      <th>UTCTime</th>\n",
       "      <th>Latitude</th>\n",
       "      <th>Longitude</th>\n",
       "      <th>H-Ell</th>\n",
       "      <th>Pitch</th>\n",
       "      <th>Roll</th>\n",
       "      <th>Heading</th>\n",
       "      <th>NS</th>\n",
       "      <th>PDOP</th>\n",
       "      <th>AccBiasZ</th>\n",
       "    </tr>\n",
       "    <tr>\n",
       "      <th>unixtime</th>\n",
       "      <th></th>\n",
       "      <th></th>\n",
       "      <th></th>\n",
       "      <th></th>\n",
       "      <th></th>\n",
       "      <th></th>\n",
       "      <th></th>\n",
       "      <th></th>\n",
       "      <th></th>\n",
       "      <th></th>\n",
       "    </tr>\n",
       "  </thead>\n",
       "  <tbody>\n",
       "    <tr>\n",
       "      <th>2019-02-04 11:45:41.000000000</th>\n",
       "      <td>1.549280741000000000e+09</td>\n",
       "      <td>-76.458148717800000327</td>\n",
       "      <td>-107.781545296000004441</td>\n",
       "      <td>1001.341000000000008185</td>\n",
       "      <td>0.748454767799999976</td>\n",
       "      <td>-0.873348107999999956</td>\n",
       "      <td>96.523059937000013520</td>\n",
       "      <td>5</td>\n",
       "      <td>0.0</td>\n",
       "      <td>-0.0010452047</td>\n",
       "    </tr>\n",
       "    <tr>\n",
       "      <th>2019-02-04 11:45:41.005000192</th>\n",
       "      <td>1.549280741005000114e+09</td>\n",
       "      <td>-76.458148717800000327</td>\n",
       "      <td>-107.781545296000004441</td>\n",
       "      <td>1001.341000000000008185</td>\n",
       "      <td>0.748914244399999984</td>\n",
       "      <td>-0.873172421899999995</td>\n",
       "      <td>96.523317062199993188</td>\n",
       "      <td>5</td>\n",
       "      <td>0.0</td>\n",
       "      <td>-0.0010452405</td>\n",
       "    </tr>\n",
       "    <tr>\n",
       "      <th>2019-02-04 11:45:41.009999872</th>\n",
       "      <td>1.549280741009999990e+09</td>\n",
       "      <td>-76.458148717900002111</td>\n",
       "      <td>-107.781545296000004441</td>\n",
       "      <td>1001.341999999999984539</td>\n",
       "      <td>0.748733589800000043</td>\n",
       "      <td>-0.873042716200000068</td>\n",
       "      <td>96.522969987800010472</td>\n",
       "      <td>5</td>\n",
       "      <td>0.0</td>\n",
       "      <td>-0.0010452764</td>\n",
       "    </tr>\n",
       "    <tr>\n",
       "      <th>2019-02-04 11:45:41.015000064</th>\n",
       "      <td>1.549280741015000105e+09</td>\n",
       "      <td>-76.458148718000003896</td>\n",
       "      <td>-107.781545297000008077</td>\n",
       "      <td>1001.341999999999984539</td>\n",
       "      <td>0.748468447600000086</td>\n",
       "      <td>-0.873345066700000006</td>\n",
       "      <td>96.522810575499988772</td>\n",
       "      <td>5</td>\n",
       "      <td>0.0</td>\n",
       "      <td>-0.0010453121</td>\n",
       "    </tr>\n",
       "    <tr>\n",
       "      <th>2019-02-04 11:45:41.020000000</th>\n",
       "      <td>1.549280741019999981e+09</td>\n",
       "      <td>-76.458148718100005681</td>\n",
       "      <td>-107.781545297000008077</td>\n",
       "      <td>1001.341999999999984539</td>\n",
       "      <td>0.749094402399999915</td>\n",
       "      <td>-0.873351936399999973</td>\n",
       "      <td>96.523215828700003271</td>\n",
       "      <td>5</td>\n",
       "      <td>0.0</td>\n",
       "      <td>-0.0010453480</td>\n",
       "    </tr>\n",
       "  </tbody>\n",
       "</table>\n",
       "</div>"
      ],
      "text/plain": [
       "                                                UTCTime               Latitude               Longitude                    H-Ell                 Pitch                  Roll                Heading  NS  PDOP      AccBiasZ\n",
       "unixtime                                                                                                                                                                                                                  \n",
       "2019-02-04 11:45:41.000000000  1.549280741000000000e+09 -76.458148717800000327 -107.781545296000004441  1001.341000000000008185  0.748454767799999976 -0.873348107999999956  96.523059937000013520   5   0.0 -0.0010452047\n",
       "2019-02-04 11:45:41.005000192  1.549280741005000114e+09 -76.458148717800000327 -107.781545296000004441  1001.341000000000008185  0.748914244399999984 -0.873172421899999995  96.523317062199993188   5   0.0 -0.0010452405\n",
       "2019-02-04 11:45:41.009999872  1.549280741009999990e+09 -76.458148717900002111 -107.781545296000004441  1001.341999999999984539  0.748733589800000043 -0.873042716200000068  96.522969987800010472   5   0.0 -0.0010452764\n",
       "2019-02-04 11:45:41.015000064  1.549280741015000105e+09 -76.458148718000003896 -107.781545297000008077  1001.341999999999984539  0.748468447600000086 -0.873345066700000006  96.522810575499988772   5   0.0 -0.0010453121\n",
       "2019-02-04 11:45:41.020000000  1.549280741019999981e+09 -76.458148718100005681 -107.781545297000008077  1001.341999999999984539  0.749094402399999915 -0.873351936399999973  96.523215828700003271   5   0.0 -0.0010453480"
      ]
     },
     "execution_count": 234,
     "metadata": {},
     "output_type": "execute_result"
    }
   ],
   "source": [
    "df_gps['unixtime'] = pd.to_datetime(df_gps['UTCTime'] * 10 ** 9, unit='ns')\n",
    "df_gps = df_gps.set_index('unixtime')\n",
    "\n",
    "df_gps.head()"
   ]
  },
  {
   "cell_type": "code",
   "execution_count": null,
   "metadata": {},
   "outputs": [],
   "source": [
    "df_gps.loc['2019-02-04 15:00:00':'2019-02-04 15:00:20']['H-Ell'].diff().plot(style=',')\n",
    "\n",
    "# df_gps.loc['2019-02-04 15:00':'2019-02-04 15:01']['H-Ell'].plot()"
   ]
  },
  {
   "cell_type": "code",
   "execution_count": 171,
   "metadata": {},
   "outputs": [
    {
     "name": "stdout",
     "output_type": "stream",
     "text": [
      "Index(['LINE', 'RAW_GRAV_REL', 'unixtime', 'ZACC_COR', 'datestring'], dtype='object')\n"
     ]
    },
    {
     "data": {
      "text/plain": [
       "<matplotlib.axes._subplots.AxesSubplot at 0x1c0204dd8>"
      ]
     },
     "execution_count": 171,
     "metadata": {},
     "output_type": "execute_result"
    },
    {
     "data": {
      "image/png": "[encoded data removed]",
      "text/plain": [
       "<Figure size 432x288 with 1 Axes>"
      ]
     },
     "metadata": {
      "needs_background": "light"
     },
     "output_type": "display_data"
    }
   ],
   "source": [
    "print(lf.columns)\n",
    "lf.loc['2019-02-04 15:00:00':'2019-02-04 15:00:30']['RAW_GRAV_REL'].resample('10L').interpolate().plot(style='.-')\n",
    "# df_pos.loc['2019-02-04 15:00:00':'2019-02-04 15:00:20']['Hght_GRS80'].diff().diff().plot(style='.-')"
   ]
  },
  {
   "cell_type": "code",
   "execution_count": 173,
   "metadata": {},
   "outputs": [
    {
     "data": {
      "text/plain": [
       "<matplotlib.axes._subplots.AxesSubplot at 0x19e44d518>"
      ]
     },
     "execution_count": 173,
     "metadata": {},
     "output_type": "execute_result"
    },
    {
     "data": {
      "image/png": "[encoded data removed]",
      "text/plain": [
       "<Figure size 432x288 with 1 Axes>"
      ]
     },
     "metadata": {
      "needs_background": "light"
     },
     "output_type": "display_data"
    }
   ],
   "source": [
    "df_pos.loc['2019-02-04 15:00:00':'2019-02-04 15:00:30']['Hght_GRS80'].diff().resample('10L').ffill().plot(style='.-')"
   ]
  },
  {
   "cell_type": "code",
   "execution_count": null,
   "metadata": {},
   "outputs": [],
   "source": []
  },
  {
   "cell_type": "code",
   "execution_count": null,
   "metadata": {},
   "outputs": [],
   "source": [
    "fig, ax = plt.subplots()\n",
    "ax2 = ax.twinx()\n",
    "rspine = ax2.spines['right']\n",
    "rspine.set_position(('axes', 1.15))\n",
    "ax2.set_frame_on(True)\n",
    "ax2.patch.set_visible(False)\n",
    "fig.subplots_adjust(right=0.7)\n",
    "\n",
    "lf.loc['2019-02-04 15:00:00':'2019-02-04 15:00:50']['RAW_GRAV_REL'].shift(0).plot(ax=ax, style='.b-')\n",
    "# same ax as above since it's automatically added on the right\n",
    "# df_pos.loc['2019-02-04 15:00:00':'2019-02-04 15:00:50']['Hght_GRS80'].diff().plot(ax=ax, style='.r-', secondary_y=True)\n",
    "df_gps.loc['2019-02-04 15:00:00':'2019-02-04 15:00:50']['H-Ell'].resample('10L').interpolate().diff().plot(ax=ax2, style=',')\n",
    "\n",
    "# df.C.plot(ax=ax3, style='g-')"
   ]
  },
  {
   "cell_type": "code",
   "execution_count": 226,
   "metadata": {},
   "outputs": [],
   "source": [
    "a = df_pos.loc['2019-02-04 15:00:00':'2019-02-04 15:05:30']['Hght_GRS80'].diff().diff().resample('100L').bfill()\n",
    "b = lf.loc['2019-02-04 15:00:00':'2019-02-04 15:05:30']['RAW_GRAV_REL'].resample('100L').interpolate()\n",
    "\n",
    "a -= a.mean(); a /= a.std()\n",
    "b -= b.mean(); b /= b.std()"
   ]
  },
  {
   "cell_type": "code",
   "execution_count": 227,
   "metadata": {},
   "outputs": [
    {
     "name": "stdout",
     "output_type": "stream",
     "text": [
      "Recovered time shift: -3309\n"
     ]
    }
   ],
   "source": [
    "from scipy.signal import correlate\n",
    "\n",
    "nsamples = a.size\n",
    "\n",
    "# Find cross-correlation\n",
    "xcorr = correlate(a, b)\n",
    "\n",
    "# delta time array to match xcorr\n",
    "dt = np.arange(1-nsamples, nsamples)\n",
    "\n",
    "recovered_time_shift = dt[xcorr.argmax()]\n",
    "\n",
    "print(\"Recovered time shift: %d\" % (recovered_time_shift))"
   ]
  },
  {
   "cell_type": "code",
   "execution_count": 228,
   "metadata": {},
   "outputs": [
    {
     "ename": "ValueError",
     "evalue": "operands could not be broadcast together with shapes (3310,) (3291,) ",
     "output_type": "error",
     "traceback": [
      "\u001b[0;31m---------------------------------------------------------------------------\u001b[0m",
      "\u001b[0;31mValueError\u001b[0m                                Traceback (most recent call last)",
      "\u001b[0;32m<ipython-input-228-63ed05374fe3>\u001b[0m in \u001b[0;36m<module>\u001b[0;34m\u001b[0m\n\u001b[1;32m      5\u001b[0m \u001b[0mAr\u001b[0m \u001b[0;34m=\u001b[0m \u001b[0;34m-\u001b[0m\u001b[0mA\u001b[0m\u001b[0;34m.\u001b[0m\u001b[0mconjugate\u001b[0m\u001b[0;34m(\u001b[0m\u001b[0;34m)\u001b[0m\u001b[0;34m\u001b[0m\u001b[0;34m\u001b[0m\u001b[0m\n\u001b[1;32m      6\u001b[0m \u001b[0mBr\u001b[0m \u001b[0;34m=\u001b[0m \u001b[0;34m-\u001b[0m\u001b[0mB\u001b[0m\u001b[0;34m.\u001b[0m\u001b[0mconjugate\u001b[0m\u001b[0;34m(\u001b[0m\u001b[0;34m)\u001b[0m\u001b[0;34m\u001b[0m\u001b[0;34m\u001b[0m\u001b[0m\n\u001b[0;32m----> 7\u001b[0;31m \u001b[0mprint\u001b[0m\u001b[0;34m(\u001b[0m\u001b[0mnp\u001b[0m\u001b[0;34m.\u001b[0m\u001b[0margmax\u001b[0m\u001b[0;34m(\u001b[0m\u001b[0mnp\u001b[0m\u001b[0;34m.\u001b[0m\u001b[0mabs\u001b[0m\u001b[0;34m(\u001b[0m\u001b[0mfftpack\u001b[0m\u001b[0;34m.\u001b[0m\u001b[0mifft\u001b[0m\u001b[0;34m(\u001b[0m\u001b[0mAr\u001b[0m\u001b[0;34m*\u001b[0m\u001b[0mB\u001b[0m\u001b[0;34m)\u001b[0m\u001b[0;34m)\u001b[0m\u001b[0;34m)\u001b[0m\u001b[0;34m)\u001b[0m\u001b[0;34m\u001b[0m\u001b[0;34m\u001b[0m\u001b[0m\n\u001b[0m\u001b[1;32m      8\u001b[0m \u001b[0mprint\u001b[0m\u001b[0;34m(\u001b[0m\u001b[0mnp\u001b[0m\u001b[0;34m.\u001b[0m\u001b[0margmax\u001b[0m\u001b[0;34m(\u001b[0m\u001b[0mnp\u001b[0m\u001b[0;34m.\u001b[0m\u001b[0mabs\u001b[0m\u001b[0;34m(\u001b[0m\u001b[0mfftpack\u001b[0m\u001b[0;34m.\u001b[0m\u001b[0mifft\u001b[0m\u001b[0;34m(\u001b[0m\u001b[0mA\u001b[0m\u001b[0;34m*\u001b[0m\u001b[0mBr\u001b[0m\u001b[0;34m)\u001b[0m\u001b[0;34m)\u001b[0m\u001b[0;34m)\u001b[0m\u001b[0;34m)\u001b[0m\u001b[0;34m\u001b[0m\u001b[0;34m\u001b[0m\u001b[0m\n",
      "\u001b[0;31mValueError\u001b[0m: operands could not be broadcast together with shapes (3310,) (3291,) "
     ]
    }
   ],
   "source": [
    "from scipy import signal, fftpack\n",
    "\n",
    "A = fftpack.fft(a)\n",
    "B = fftpack.fft(b)\n",
    "Ar = -A.conjugate()\n",
    "Br = -B.conjugate()\n",
    "print(np.argmax(np.abs(fftpack.ifft(Ar*B))))\n",
    "print(np.argmax(np.abs(fftpack.ifft(A*Br))))"
   ]
  },
  {
   "cell_type": "code",
   "execution_count": 229,
   "metadata": {},
   "outputs": [
    {
     "data": {
      "text/plain": [
       "-3290"
      ]
     },
     "execution_count": 229,
     "metadata": {},
     "output_type": "execute_result"
    }
   ],
   "source": [
    "get_max_correlation(a, b)"
   ]
  },
  {
   "cell_type": "code",
   "execution_count": 230,
   "metadata": {},
   "outputs": [
    {
     "name": "stdout",
     "output_type": "stream",
     "text": [
      "Recovered time shift: -3309\n"
     ]
    }
   ],
   "source": [
    "from scipy.signal import correlate\n",
    "\n",
    "nsamples = a.size\n",
    "\n",
    "# Find cross-correlation\n",
    "xcorr = correlate(a, b)\n",
    "\n",
    "# delta time array to match xcorr\n",
    "dt = np.arange(1-nsamples, nsamples)\n",
    "\n",
    "recovered_time_shift = dt[xcorr.argmax()]\n",
    "\n",
    "print(\"Recovered time shift: %d\" % (recovered_time_shift))"
   ]
  },
  {
   "cell_type": "code",
   "execution_count": 231,
   "metadata": {},
   "outputs": [
    {
     "data": {
      "text/plain": [
       "3310"
      ]
     },
     "execution_count": 231,
     "metadata": {},
     "output_type": "execute_result"
    }
   ],
   "source": [
    "nsamples"
   ]
  },
  {
   "cell_type": "code",
   "execution_count": null,
   "metadata": {},
   "outputs": [],
   "source": []
  }
 ],
 "metadata": {
  "kernelspec": {
   "display_name": "Python 3",
   "language": "python",
   "name": "python3"
  },
  "language_info": {
   "codemirror_mode": {
    "name": "ipython",
    "version": 3
   },
   "file_extension": ".py",
   "mimetype": "text/x-python",
   "name": "python",
   "nbconvert_exporter": "python",
   "pygments_lexer": "ipython3",
   "version": "3.6.7"
  }
 },
 "nbformat": 4,
 "nbformat_minor": 2
}
