{
 "cells": [
  {
   "cell_type": "code",
   "execution_count": 2,
   "metadata": {
    "collapsed": false
   },
   "outputs": [],
   "source": [
    "import netCDF4\n",
    "import os\n",
    "from glob import glob\n",
    "import numpy as np\n",
    "import scipy.interpolate\n",
    "import matplotlib.pyplot as plt\n",
    "import pickle as pickle"
   ]
  },
  {
   "cell_type": "code",
   "execution_count": 3,
   "metadata": {
    "collapsed": false
   },
   "outputs": [
    {
     "name": "stdout",
     "output_type": "stream",
     "text": [
      "['/Users/dporter/Documents/data_local/Antarctica/Geophysical/Scheinert_2016/antgg2015.nc']\n",
      "Found 444889 longitude records in /Users/dporter/Documents/data_local/Antarctica/Geophysical/Scheinert_2016/antgg2015.nc\n",
      "Found 444889 latitude records in /Users/dporter/Documents/data_local/Antarctica/Geophysical/Scheinert_2016/antgg2015.nc\n",
      "Found 444889 ellipsoidal_height records in /Users/dporter/Documents/data_local/Antarctica/Geophysical/Scheinert_2016/antgg2015.nc\n",
      "Found 444889 orthometric_height records in /Users/dporter/Documents/data_local/Antarctica/Geophysical/Scheinert_2016/antgg2015.nc\n",
      "Found 444889 free_air_anomaly records in /Users/dporter/Documents/data_local/Antarctica/Geophysical/Scheinert_2016/antgg2015.nc\n",
      "Found 444889 accuracy_measure records in /Users/dporter/Documents/data_local/Antarctica/Geophysical/Scheinert_2016/antgg2015.nc\n",
      "Found 444889 bouguer_anomaly records in /Users/dporter/Documents/data_local/Antarctica/Geophysical/Scheinert_2016/antgg2015.nc\n"
     ]
    }
   ],
   "source": [
    "basedir = '/Users/dporter/Documents/data_local/'\n",
    "datadir = 'Antarctica/Geophysical/Scheinert_2016/'\n",
    "suffix = '.nc'\n",
    "\n",
    "# infile = 'R' + float + '_0033'\n",
    "# nc_file = os.path.join(basedir, datadir, infile + suffix)\n",
    "# nc_fid = netCDF4.Dataset(nc_file, 'r')\n",
    "\n",
    "pattern = os.path.join(basedir, datadir, 'antgg*' + suffix)\n",
    "# pattern = './data/NetCDF/10103/R10103_003*.nc'\n",
    "filenames = sorted(glob(pattern))  # , key=alphanum_key)\n",
    "print filenames\n",
    "\n",
    "nc_fid = netCDF4.Dataset(filenames[0], 'r')\n",
    "# nc_attrs, nc_dims, nc_vars = ncdump(nc_fid)\n",
    "nc_vars = [var for var in nc_fid.variables]\n",
    "nc_dims = [dim for dim in nc_fid.dimensions]\n",
    "# print nc_vars\n",
    "# print nc_dims\n",
    "\n",
    "for vnum, var in enumerate(nc_vars, start=0):\n",
    "    if var not in nc_dims:\n",
    "        ###\n",
    "#         print nc_fid.variables[var].dimensions\n",
    "        try:\n",
    "            globals()[var] = nc_fid.variables[var][:]#.flatten()\n",
    "            print 'Found %i %s records in %s' % (globals()[var].size, str(var), str(filenames[0]))\n",
    "        except:\n",
    "            print 'No %s found in file.' % (str(var))\n",
    "            globals()[var] = np.full([333, ], np.nan)\n",
    "            # print 'Original shape of %s: %s' % (nc_vars[vnum], globals()[var].shape)"
   ]
  },
  {
   "cell_type": "code",
   "execution_count": 39,
   "metadata": {
    "collapsed": false
   },
   "outputs": [
    {
     "name": "stdout",
     "output_type": "stream",
     "text": [
      "<type 'numpy.ndarray'>\n",
      "667\n",
      "[[-- -- -- ..., -- -- --]\n",
      " [-- -- -- ..., -- -- --]\n",
      " [-- -- -- ..., -- -- --]\n",
      " ..., \n",
      " [-- -- -- ..., -- -- --]\n",
      " [-- -- -- ..., -- -- --]\n",
      " [-- -- -- ..., -- -- --]]\n",
      "<type 'numpy.ndarray'>\n"
     ]
    }
   ],
   "source": [
    "print type(np.array(ellipsoidal_height))\n",
    "print len(ellipsoidal_height)\n",
    "print ellipsoidal_height[:]\n",
    "print type(latitude)\n",
    "# plt.plot(ellipsoidal_height)"
   ]
  },
  {
   "cell_type": "code",
   "execution_count": 45,
   "metadata": {
    "collapsed": false
   },
   "outputs": [
    {
     "data": {
      "image/png": "[encoded data removed]",
      "text/plain": [
       "<matplotlib.figure.Figure at 0x112bf20d0>"
      ]
     },
     "metadata": {},
     "output_type": "display_data"
    }
   ],
   "source": [
    "import cartopy.crs as ccrs\n",
    "\n",
    "ax = plt.axes(projection=ccrs.SouthPolarStereo())\n",
    "# ax.set_extent([-180, 180, -90, -60])\n",
    "plt.pcolormesh(longitude, latitude, BOU['ell'], transform=ccrs.PlateCarree())\n",
    "# ax.coastlines()\n",
    "plt.show()"
   ]
  },
  {
   "cell_type": "code",
   "execution_count": null,
   "metadata": {
    "collapsed": true
   },
   "outputs": [],
   "source": []
  },
  {
   "cell_type": "code",
   "execution_count": 40,
   "metadata": {
    "collapsed": false
   },
   "outputs": [
    {
     "data": {
      "text/plain": [
       "{'fag': array([[-9999., -9999., -9999., ..., -9999., -9999., -9999.],\n",
       "        [-9999., -9999., -9999., ..., -9999., -9999., -9999.],\n",
       "        [-9999., -9999., -9999., ..., -9999., -9999., -9999.],\n",
       "        ..., \n",
       "        [-9999., -9999., -9999., ..., -9999., -9999., -9999.],\n",
       "        [-9999., -9999., -9999., ..., -9999., -9999., -9999.],\n",
       "        [-9999., -9999., -9999., ..., -9999., -9999., -9999.]]),\n",
       " 'lats': array([[-48.49868444, -48.5558271 , -48.61290439, ..., -48.61290439,\n",
       "         -48.5558271 , -48.49868444],\n",
       "        [-48.5558271 , -48.61307673, -48.67026115, ..., -48.67026115,\n",
       "         -48.61307673, -48.5558271 ],\n",
       "        [-48.61290439, -48.67026115, -48.72755283, ..., -48.72755283,\n",
       "         -48.67026115, -48.61290439],\n",
       "        ..., \n",
       "        [-48.61290439, -48.67026115, -48.72755283, ..., -48.72755283,\n",
       "         -48.67026115, -48.61290439],\n",
       "        [-48.5558271 , -48.61307673, -48.67026115, ..., -48.67026115,\n",
       "         -48.61307673, -48.5558271 ],\n",
       "        [-48.49868444, -48.5558271 , -48.61290439, ..., -48.61290439,\n",
       "         -48.5558271 , -48.49868444]]),\n",
       " 'lons': array([[ -45.        ,  -44.913841  ,  -44.82742287, ...,   44.82742287,\n",
       "           44.913841  ,   45.        ],\n",
       "        [ -45.086159  ,  -45.        ,  -44.91358109, ...,   44.91358109,\n",
       "           45.        ,   45.086159  ],\n",
       "        [ -45.17257713,  -45.08641891,  -45.        , ...,   45.        ,\n",
       "           45.08641891,   45.17257713],\n",
       "        ..., \n",
       "        [-134.82742287, -134.91358109, -135.        , ...,  135.        ,\n",
       "          134.91358109,  134.82742287],\n",
       "        [-134.913841  , -135.        , -135.08641891, ...,  135.08641891,\n",
       "          135.        ,  134.913841  ],\n",
       "        [-135.        , -135.086159  , -135.17257713, ...,  135.17257713,\n",
       "          135.086159  ,  135.        ]])}"
      ]
     },
     "execution_count": 40,
     "metadata": {},
     "output_type": "execute_result"
    }
   ],
   "source": [
    "# Make an empty 'dictionary'... place the 3 grids in it.\n",
    "FAG = {}\n",
    "FAG['lats']=latitude\n",
    "FAG['lons']=longitude\n",
    "FAG['fag']=np.array(free_air_anomaly)\n",
    "# Save (i.e. pickle) the data for later use\n",
    "# This saves the variable TOPO (with all its contents) into the file: topo.p\n",
    "# pickle.dump(FAG, open('antgg2015_fag.p','wb'))\n",
    "np.ma.dump(FAG, open('antgg2015_fag.p','wb'))\n",
    "FAG"
   ]
  },
  {
   "cell_type": "code",
   "execution_count": 44,
   "metadata": {
    "collapsed": false
   },
   "outputs": [
    {
     "data": {
      "text/plain": [
       "array([[-9999., -9999., -9999., ..., -9999., -9999., -9999.],\n",
       "       [-9999., -9999., -9999., ..., -9999., -9999., -9999.],\n",
       "       [-9999., -9999., -9999., ..., -9999., -9999., -9999.],\n",
       "       ..., \n",
       "       [-9999., -9999., -9999., ..., -9999., -9999., -9999.],\n",
       "       [-9999., -9999., -9999., ..., -9999., -9999., -9999.],\n",
       "       [-9999., -9999., -9999., ..., -9999., -9999., -9999.]])"
      ]
     },
     "execution_count": 44,
     "metadata": {},
     "output_type": "execute_result"
    }
   ],
   "source": [
    "# Make an empty 'dictionary'... place the 3 grids in it.\n",
    "BOU = {}\n",
    "BOU['lats']=latitude\n",
    "BOU['lons']=longitude\n",
    "BOU['bou']=np.array(bouguer_anomaly)\n",
    "BOU['ell']=np.array(ellipsoidal_height)\n",
    "# Save (i.e. pickle) the data for later use\n",
    "# This saves the variable TOPO (with all its contents) into the file: topo.p\n",
    "pickle.dump(BOU, open('antgg2015_bouger.p','wb'))\n",
    "BOU['ell']"
   ]
  },
  {
   "cell_type": "code",
   "execution_count": null,
   "metadata": {
    "collapsed": true
   },
   "outputs": [],
   "source": []
  },
  {
   "cell_type": "code",
   "execution_count": null,
   "metadata": {
    "collapsed": true
   },
   "outputs": [],
   "source": []
  },
  {
   "cell_type": "markdown",
   "metadata": {},
   "source": [
    "# Debug"
   ]
  },
  {
   "cell_type": "code",
   "execution_count": 7,
   "metadata": {
    "collapsed": true
   },
   "outputs": [],
   "source": [
    "from shapely import speedups;\n",
    "\n",
    "assert speedups.available;\n",
    "\n",
    "speedups.enable()\n",
    "\n",
    "from shapely.geometry import LineString\n",
    "\n",
    "ls = LineString([(0, 0), (10, 0)])\n",
    "# On OSX causes an abort trap, due to https://github.com/Toblerity/Shapely/issues/177 \n",
    "r = ls.wkt\n",
    "area = ls.buffer(10).area"
   ]
  },
  {
   "cell_type": "code",
   "execution_count": 8,
   "metadata": {
    "collapsed": false
   },
   "outputs": [
    {
     "data": {
      "text/plain": [
       "513.6548490545939"
      ]
     },
     "execution_count": 8,
     "metadata": {},
     "output_type": "execute_result"
    }
   ],
   "source": [
    "area"
   ]
  },
  {
   "cell_type": "code",
   "execution_count": null,
   "metadata": {
    "collapsed": true
   },
   "outputs": [],
   "source": []
  }
 ],
 "metadata": {
  "kernelspec": {
   "display_name": "Python 2",
   "language": "python",
   "name": "python2"
  },
  "language_info": {
   "codemirror_mode": {
    "name": "ipython",
    "version": 2
   },
   "file_extension": ".py",
   "mimetype": "text/x-python",
   "name": "python",
   "nbconvert_exporter": "python",
   "pygments_lexer": "ipython2",
   "version": "2.7.13"
  }
 },
 "nbformat": 4,
 "nbformat_minor": 1
}
