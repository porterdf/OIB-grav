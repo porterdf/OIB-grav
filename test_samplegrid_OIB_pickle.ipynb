{
 "cells": [
  {
   "cell_type": "code",
   "execution_count": 1,
   "metadata": {
    "collapsed": false
   },
   "outputs": [],
   "source": [
    "# those modules are almost always imported when working with model data\n",
    "%matplotlib inline\n",
    "import matplotlib.pyplot as plt\n",
    "import cartopy.crs as ccrs\n",
    "import numpy as np\n",
    "import xarray as xr # the major tool to work with NetCDF data!\n",
    "\n",
    "import netCDF4\n",
    "import os\n",
    "from glob import glob\n",
    "import numpy as np\n",
    "import scipy.interpolate\n",
    "import matplotlib.pyplot as plt\n",
    "import pickle as pickle"
   ]
  },
  {
   "cell_type": "code",
   "execution_count": 2,
   "metadata": {
    "collapsed": true
   },
   "outputs": [
    {
     "name": "stdout",
     "output_type": "stream",
     "text": [
      "['/Users/dporter/Documents/data_local/Antarctica/Geophysical/Scheinert_2016/antgg2015.nc']\n",
      "Found 444889 longitude records in /Users/dporter/Documents/data_local/Antarctica/Geophysical/Scheinert_2016/antgg2015.nc\n",
      "Found 444889 latitude records in /Users/dporter/Documents/data_local/Antarctica/Geophysical/Scheinert_2016/antgg2015.nc\n",
      "Found 444889 ellipsoidal_height records in /Users/dporter/Documents/data_local/Antarctica/Geophysical/Scheinert_2016/antgg2015.nc\n",
      "Found 444889 orthometric_height records in /Users/dporter/Documents/data_local/Antarctica/Geophysical/Scheinert_2016/antgg2015.nc\n",
      "Found 444889 free_air_anomaly records in /Users/dporter/Documents/data_local/Antarctica/Geophysical/Scheinert_2016/antgg2015.nc\n",
      "Found 444889 accuracy_measure records in /Users/dporter/Documents/data_local/Antarctica/Geophysical/Scheinert_2016/antgg2015.nc\n",
      "Found 444889 bouguer_anomaly records in /Users/dporter/Documents/data_local/Antarctica/Geophysical/Scheinert_2016/antgg2015.nc\n"
     ]
    }
   ],
   "source": [
    "basedir = '/Users/dporter/Documents/data_local/'\n",
    "datadir = 'Antarctica/Geophysical/Scheinert_2016/'\n",
    "suffix = '.nc'\n",
    "\n",
    "pattern = os.path.join(basedir, datadir, 'antgg*' + suffix)\n",
    "filenames = sorted(glob(pattern))  # , key=alphanum_key)\n",
    "print filenames\n",
    "\n",
    "nc_fid = netCDF4.Dataset(filenames[0], 'r')\n",
    "# nc_attrs, nc_dims, nc_vars = ncdump(nc_fid)\n",
    "nc_vars = [var for var in nc_fid.variables]\n",
    "nc_dims = [dim for dim in nc_fid.dimensions]\n",
    "# print nc_vars\n",
    "# print nc_dims\n",
    "\n",
    "for vnum, var in enumerate(nc_vars, start=0):\n",
    "    if var not in nc_dims:\n",
    "        ###\n",
    "#         print nc_fid.variables[var].dimensions\n",
    "        try:\n",
    "            globals()[var] = nc_fid.variables[var][:]#.flatten()\n",
    "            print 'Found %i %s records in %s' % (globals()[var].size, str(var), str(filenames[0]))\n",
    "        except:\n",
    "            print 'No %s found in file.' % (str(var))\n",
    "            globals()[var] = np.full([333, ], np.nan)\n",
    "            # print 'Original shape of %s: %s' % (nc_vars[vnum], globals()[var].shape)"
   ]
  },
  {
   "cell_type": "code",
   "execution_count": 3,
   "metadata": {
    "collapsed": false
   },
   "outputs": [
    {
     "name": "stdout",
     "output_type": "stream",
     "text": [
      "<type 'numpy.ndarray'>\n",
      "667\n",
      "[[-- -- -- ..., -- -- --]\n",
      " [-- -- -- ..., -- -- --]\n",
      " [-- -- -- ..., -- -- --]\n",
      " ..., \n",
      " [-- -- -- ..., -- -- --]\n",
      " [-- -- -- ..., -- -- --]\n",
      " [-- -- -- ..., -- -- --]]\n",
      "<type 'numpy.ndarray'>\n"
     ]
    }
   ],
   "source": [
    "print type(np.array(ellipsoidal_height))\n",
    "print len(ellipsoidal_height)\n",
    "print ellipsoidal_height[:]\n",
    "print type(latitude)\n",
    "# plt.plot(ellipsoidal_height)"
   ]
  },
  {
   "cell_type": "code",
   "execution_count": null,
   "metadata": {
    "collapsed": true
   },
   "outputs": [],
   "source": []
  },
  {
   "cell_type": "code",
   "execution_count": 4,
   "metadata": {
    "collapsed": false
   },
   "outputs": [
    {
     "data": {
      "text/plain": [
       "{'fag': array([[-9999., -9999., -9999., ..., -9999., -9999., -9999.],\n",
       "        [-9999., -9999., -9999., ..., -9999., -9999., -9999.],\n",
       "        [-9999., -9999., -9999., ..., -9999., -9999., -9999.],\n",
       "        ..., \n",
       "        [-9999., -9999., -9999., ..., -9999., -9999., -9999.],\n",
       "        [-9999., -9999., -9999., ..., -9999., -9999., -9999.],\n",
       "        [-9999., -9999., -9999., ..., -9999., -9999., -9999.]]),\n",
       " 'lats': array([[-48.49868444, -48.5558271 , -48.61290439, ..., -48.61290439,\n",
       "         -48.5558271 , -48.49868444],\n",
       "        [-48.5558271 , -48.61307673, -48.67026115, ..., -48.67026115,\n",
       "         -48.61307673, -48.5558271 ],\n",
       "        [-48.61290439, -48.67026115, -48.72755283, ..., -48.72755283,\n",
       "         -48.67026115, -48.61290439],\n",
       "        ..., \n",
       "        [-48.61290439, -48.67026115, -48.72755283, ..., -48.72755283,\n",
       "         -48.67026115, -48.61290439],\n",
       "        [-48.5558271 , -48.61307673, -48.67026115, ..., -48.67026115,\n",
       "         -48.61307673, -48.5558271 ],\n",
       "        [-48.49868444, -48.5558271 , -48.61290439, ..., -48.61290439,\n",
       "         -48.5558271 , -48.49868444]]),\n",
       " 'lons': array([[ -45.        ,  -44.913841  ,  -44.82742287, ...,   44.82742287,\n",
       "           44.913841  ,   45.        ],\n",
       "        [ -45.086159  ,  -45.        ,  -44.91358109, ...,   44.91358109,\n",
       "           45.        ,   45.086159  ],\n",
       "        [ -45.17257713,  -45.08641891,  -45.        , ...,   45.        ,\n",
       "           45.08641891,   45.17257713],\n",
       "        ..., \n",
       "        [-134.82742287, -134.91358109, -135.        , ...,  135.        ,\n",
       "          134.91358109,  134.82742287],\n",
       "        [-134.913841  , -135.        , -135.08641891, ...,  135.08641891,\n",
       "          135.        ,  134.913841  ],\n",
       "        [-135.        , -135.086159  , -135.17257713, ...,  135.17257713,\n",
       "          135.086159  ,  135.        ]])}"
      ]
     },
     "execution_count": 4,
     "metadata": {},
     "output_type": "execute_result"
    }
   ],
   "source": [
    "# Make an empty 'dictionary'... place the 3 grids in it.\n",
    "FAG = {}\n",
    "FAG['lats']=latitude\n",
    "FAG['lons']=longitude\n",
    "FAG['fag']=np.array(free_air_anomaly)\n",
    "# Save (i.e. pickle) the data for later use\n",
    "# This saves the variable TOPO (with all its contents) into the file: topo.p\n",
    "# pickle.dump(FAG, open('antgg2015_fag.p','wb'))\n",
    "np.ma.dump(FAG, open('antgg2015_fag.p','wb'))\n",
    "FAG"
   ]
  },
  {
   "cell_type": "code",
   "execution_count": 5,
   "metadata": {
    "collapsed": false
   },
   "outputs": [
    {
     "data": {
      "text/plain": [
       "array([[-9999., -9999., -9999., ..., -9999., -9999., -9999.],\n",
       "       [-9999., -9999., -9999., ..., -9999., -9999., -9999.],\n",
       "       [-9999., -9999., -9999., ..., -9999., -9999., -9999.],\n",
       "       ..., \n",
       "       [-9999., -9999., -9999., ..., -9999., -9999., -9999.],\n",
       "       [-9999., -9999., -9999., ..., -9999., -9999., -9999.],\n",
       "       [-9999., -9999., -9999., ..., -9999., -9999., -9999.]])"
      ]
     },
     "execution_count": 5,
     "metadata": {},
     "output_type": "execute_result"
    }
   ],
   "source": [
    "# Make an empty 'dictionary'... place the 3 grids in it.\n",
    "BOU = {}\n",
    "BOU['lats']=latitude\n",
    "BOU['lons']=longitude\n",
    "BOU['bou']=np.array(bouguer_anomaly)\n",
    "BOU['ell']=np.array(ellipsoidal_height)\n",
    "# Save (i.e. pickle) the data for later use\n",
    "# This saves the variable TOPO (with all its contents) into the file: topo.p\n",
    "pickle.dump(BOU, open('antgg2015_bouger.p','wb'))\n",
    "BOU['ell']"
   ]
  },
  {
   "cell_type": "code",
   "execution_count": 6,
   "metadata": {
    "collapsed": false
   },
   "outputs": [
    {
     "data": {
      "image/png": "[encoded data removed]",
      "text/plain": [
       "<Figure size 432x288 with 1 Axes>"
      ]
     },
     "metadata": {},
     "output_type": "display_data"
    }
   ],
   "source": [
    "import cartopy.crs as ccrs\n",
    "\n",
    "ax = plt.axes(projection=ccrs.SouthPolarStereo())\n",
    "# ax.set_extent([-180, 180, -90, -60])\n",
    "plt.pcolormesh(longitude, latitude, BOU['bou'], transform=ccrs.PlateCarree())\n",
    "# ax.coastlines()\n",
    "plt.show()"
   ]
  },
  {
   "cell_type": "markdown",
   "metadata": {},
   "source": [
    "## XARRAY"
   ]
  },
  {
   "cell_type": "code",
   "execution_count": 7,
   "metadata": {},
   "outputs": [
    {
     "data": {
      "text/plain": [
       "<xarray.Dataset>\n",
       "Dimensions:             (x: 667, y: 667)\n",
       "Coordinates:\n",
       "  * x                   (x) int32 -3330 -3320 -3310 -3300 -3290 -3280 -3270 ...\n",
       "  * y                   (y) int32 3330 3320 3310 3300 3290 3280 3270 3260 ...\n",
       "Data variables:\n",
       "    longitude           (y, x) float64 -45.0 -44.91 -44.83 -44.74 -44.65 ...\n",
       "    latitude            (y, x) float64 -48.5 -48.56 -48.61 -48.67 -48.73 ...\n",
       "    crs                 int32 -2147483647\n",
       "    ellipsoidal_height  (y, x) float64 nan nan nan nan nan nan nan nan nan ...\n",
       "    orthometric_height  (y, x) float64 0.0 0.0 0.0 0.0 0.0 0.0 0.0 0.0 0.0 ...\n",
       "    free_air_anomaly    (y, x) float64 nan nan nan nan nan nan nan nan nan ...\n",
       "    accuracy_measure    (y, x) float64 nan nan nan nan nan nan nan nan nan ...\n",
       "    bouguer_anomaly     (y, x) float64 nan nan nan nan nan nan nan nan nan ...\n",
       "Attributes:\n",
       "    Conventions:  CF-1.6\n",
       "    title:        Antarctic Gravity Grid\n",
       "    institution:  TU Dresden\n",
       "    source:       http://dx.doi.org/10.1594/PANGAEA.848168\n",
       "    comment:      Reference: Scheinert et al. (2015)"
      ]
     },
     "execution_count": 7,
     "metadata": {},
     "output_type": "execute_result"
    }
   ],
   "source": [
    "ds = xr.open_dataset(filenames[0])\n",
    "ds\n"
   ]
  },
  {
   "cell_type": "code",
   "execution_count": 8,
   "metadata": {},
   "outputs": [
    {
     "data": {
      "text/plain": [
       "<matplotlib.collections.QuadMesh at 0x1192b9450>"
      ]
     },
     "execution_count": 8,
     "metadata": {},
     "output_type": "execute_result"
    },
    {
     "data": {
      "image/png": "[encoded data removed]",
      "text/plain": [
       "<Figure size 432x288 with 2 Axes>"
      ]
     },
     "metadata": {},
     "output_type": "display_data"
    }
   ],
   "source": [
    "ds['free_air_anomaly'].plot()"
   ]
  },
  {
   "cell_type": "code",
   "execution_count": 9,
   "metadata": {},
   "outputs": [
    {
     "data": {
      "image/png": "[encoded data removed]",
      "text/plain": [
       "<Figure size 648x216 with 4 Axes>"
      ]
     },
     "metadata": {},
     "output_type": "display_data"
    }
   ],
   "source": [
    "fig, (ax1, ax2) = plt.subplots(ncols=2, figsize=(9,3))\n",
    "ds.longitude.plot(ax=ax1);\n",
    "ds.latitude.plot(ax=ax2);"
   ]
  },
  {
   "cell_type": "code",
   "execution_count": 10,
   "metadata": {},
   "outputs": [],
   "source": [
    "# plt.figure(figsize=(7,2));\n",
    "# ax = plt.axes(projection=ccrs.PlateCarree());\n",
    "# ds['free_air_anomaly'].plot.pcolormesh(ax=ax, transform=ccrs.PlateCarree(),\n",
    "#                           x='longitude', y='latitude', add_colorbar=False);\n",
    "# ax.coastlines();\n",
    "# plt.tight_layout();"
   ]
  },
  {
   "cell_type": "code",
   "execution_count": 11,
   "metadata": {},
   "outputs": [
    {
     "name": "stdout",
     "output_type": "stream",
     "text": [
      "Reading gravity file: /Users/dporter/Documents/data_local/Antarctica/OIB/IGGRV1B/2016/IGGRV1B_20161114_11243000_V017.txt.txt\n"
     ]
    }
   ],
   "source": [
    "import pandas as pd\n",
    "from glob import glob\n",
    "def importOIBgrav(basedir, timedir):\n",
    "    # datadir = 'IGGRV1B/temp'\n",
    "    # infile = 'IGGRV1B_20091104_13100500_V016'\n",
    "    # infile = 'IGGRV1B_20091031_11020500_V016'\n",
    "    # infile = 'IGGRV1B_20091116_15124500_V016'\n",
    "    suffix = '.txt'\n",
    "    pattern = os.path.join(basedir, timedir, 'IGGRV1B_20161114_11243000_V017*' + suffix)\n",
    "    infile = sorted(glob(pattern))  # , key=alphanum_key)\n",
    "\n",
    "    ### Read ascii file as csv\n",
    "    # metadata ends on line 69, column names on line 70\n",
    "    headers = (\n",
    "        'LAT', 'LONG', 'DATE', 'DOY', 'TIME', 'FLT', 'PSX', 'PSY', 'WGSHGT', 'FX', 'FY', 'FZ', 'EOTGRAV', 'FACOR',\n",
    "        'INTCOR',\n",
    "        'FAG070', 'FAG100', 'FAG140', 'FLTENVIRO')\n",
    "    # print \"Reading gravity file: %s\" % infile[0] + suffix %TODO why did I think this would be a list?\n",
    "    print \"Reading gravity file: %s\" % infile[0] + suffix\n",
    "    df = pd.read_csv(infile[0], delimiter=r\"\\s+\", header=None, names=headers, skiprows=70)\n",
    "    # headers = df.columns[1:df.shape[1]]\n",
    "    # df.rename(columns=dict(zip(df.columns,headers)), inplace=True)\n",
    "    # df.rename(columns={'LONG': 'LON'}, inplace=True)\n",
    "    # df['ENVIRO'] = df.columns[[19]]\n",
    "    # df.drop(df.columns['FLTENVIRO'],axis=1,inplace=True)\n",
    "\n",
    "    ### do some DATETIME operations\n",
    "    df['DATETIME'] = (df.DATE * 1e5) + df.TIME\n",
    "    df['DATE'] = pd.to_datetime(df['DATE'], format='%Y%m%d')\n",
    "    df['UNIX'] = df['DATE'].astype(np.int64) // 10 ** 9\n",
    "    df['UNIX'] = df['UNIX'] + df['TIME']\n",
    "    df['iunix'] = pd.to_datetime(df['UNIX'] * 10 ** 3, unit='ms')\n",
    "    df.drop(['DATETIME'], axis=1, inplace=True)\n",
    "    df = df.set_index('iunix')\n",
    "    return df\n",
    "\n",
    "basedir = '/Users/dporter/Documents/data_local/Antarctica/OIB/'\n",
    "datadir = 'IGGRV1B'\n",
    "timedir = 2016\n",
    "grav = importOIBgrav(os.path.join(basedir, datadir), str(timedir))\n"
   ]
  },
  {
   "cell_type": "code",
   "execution_count": 12,
   "metadata": {},
   "outputs": [
    {
     "data": {
      "text/html": [
       "<div>\n",
       "<style>\n",
       "    .dataframe thead tr:only-child th {\n",
       "        text-align: right;\n",
       "    }\n",
       "\n",
       "    .dataframe thead th {\n",
       "        text-align: left;\n",
       "    }\n",
       "\n",
       "    .dataframe tbody tr th {\n",
       "        vertical-align: top;\n",
       "    }\n",
       "</style>\n",
       "<table border=\"1\" class=\"dataframe\">\n",
       "  <thead>\n",
       "    <tr style=\"text-align: right;\">\n",
       "      <th></th>\n",
       "      <th>LAT</th>\n",
       "      <th>LONG</th>\n",
       "      <th>DATE</th>\n",
       "      <th>DOY</th>\n",
       "      <th>TIME</th>\n",
       "      <th>FLT</th>\n",
       "      <th>PSX</th>\n",
       "      <th>PSY</th>\n",
       "      <th>WGSHGT</th>\n",
       "      <th>FX</th>\n",
       "      <th>FY</th>\n",
       "      <th>FZ</th>\n",
       "      <th>EOTGRAV</th>\n",
       "      <th>FACOR</th>\n",
       "      <th>INTCOR</th>\n",
       "      <th>FAG070</th>\n",
       "      <th>FAG100</th>\n",
       "      <th>FAG140</th>\n",
       "      <th>FLTENVIRO</th>\n",
       "      <th>UNIX</th>\n",
       "    </tr>\n",
       "    <tr>\n",
       "      <th>iunix</th>\n",
       "      <th></th>\n",
       "      <th></th>\n",
       "      <th></th>\n",
       "      <th></th>\n",
       "      <th></th>\n",
       "      <th></th>\n",
       "      <th></th>\n",
       "      <th></th>\n",
       "      <th></th>\n",
       "      <th></th>\n",
       "      <th></th>\n",
       "      <th></th>\n",
       "      <th></th>\n",
       "      <th></th>\n",
       "      <th></th>\n",
       "      <th></th>\n",
       "      <th></th>\n",
       "      <th></th>\n",
       "      <th></th>\n",
       "      <th></th>\n",
       "    </tr>\n",
       "  </thead>\n",
       "  <tbody>\n",
       "    <tr>\n",
       "      <th>2016-11-14 11:24:30.000</th>\n",
       "      <td>-53.004590</td>\n",
       "      <td>-70.845986</td>\n",
       "      <td>2016-11-14</td>\n",
       "      <td>319</td>\n",
       "      <td>41070.0</td>\n",
       "      <td>621</td>\n",
       "      <td>-3929452.26</td>\n",
       "      <td>1364844.81</td>\n",
       "      <td>50.57</td>\n",
       "      <td>5.01</td>\n",
       "      <td>-15.79</td>\n",
       "      <td>981296.93</td>\n",
       "      <td>NaN</td>\n",
       "      <td>NaN</td>\n",
       "      <td>NaN</td>\n",
       "      <td>NaN</td>\n",
       "      <td>NaN</td>\n",
       "      <td>NaN</td>\n",
       "      <td>-1</td>\n",
       "      <td>1.479123e+09</td>\n",
       "    </tr>\n",
       "    <tr>\n",
       "      <th>2016-11-14 11:24:30.500</th>\n",
       "      <td>-53.004590</td>\n",
       "      <td>-70.845986</td>\n",
       "      <td>2016-11-14</td>\n",
       "      <td>319</td>\n",
       "      <td>41070.5</td>\n",
       "      <td>621</td>\n",
       "      <td>-3929452.26</td>\n",
       "      <td>1364844.81</td>\n",
       "      <td>50.57</td>\n",
       "      <td>4.52</td>\n",
       "      <td>-15.33</td>\n",
       "      <td>981297.13</td>\n",
       "      <td>NaN</td>\n",
       "      <td>NaN</td>\n",
       "      <td>NaN</td>\n",
       "      <td>NaN</td>\n",
       "      <td>NaN</td>\n",
       "      <td>NaN</td>\n",
       "      <td>-1</td>\n",
       "      <td>1.479123e+09</td>\n",
       "    </tr>\n",
       "    <tr>\n",
       "      <th>2016-11-14 11:24:31.000</th>\n",
       "      <td>-53.004590</td>\n",
       "      <td>-70.845985</td>\n",
       "      <td>2016-11-14</td>\n",
       "      <td>319</td>\n",
       "      <td>41071.0</td>\n",
       "      <td>621</td>\n",
       "      <td>-3929452.27</td>\n",
       "      <td>1364844.82</td>\n",
       "      <td>50.56</td>\n",
       "      <td>3.46</td>\n",
       "      <td>-14.49</td>\n",
       "      <td>981297.14</td>\n",
       "      <td>NaN</td>\n",
       "      <td>NaN</td>\n",
       "      <td>NaN</td>\n",
       "      <td>NaN</td>\n",
       "      <td>NaN</td>\n",
       "      <td>NaN</td>\n",
       "      <td>-1</td>\n",
       "      <td>1.479123e+09</td>\n",
       "    </tr>\n",
       "    <tr>\n",
       "      <th>2016-11-14 11:24:31.500</th>\n",
       "      <td>-53.004590</td>\n",
       "      <td>-70.845985</td>\n",
       "      <td>2016-11-14</td>\n",
       "      <td>319</td>\n",
       "      <td>41071.5</td>\n",
       "      <td>621</td>\n",
       "      <td>-3929452.27</td>\n",
       "      <td>1364844.83</td>\n",
       "      <td>50.55</td>\n",
       "      <td>2.05</td>\n",
       "      <td>-13.60</td>\n",
       "      <td>981296.95</td>\n",
       "      <td>NaN</td>\n",
       "      <td>NaN</td>\n",
       "      <td>NaN</td>\n",
       "      <td>NaN</td>\n",
       "      <td>NaN</td>\n",
       "      <td>NaN</td>\n",
       "      <td>-1</td>\n",
       "      <td>1.479123e+09</td>\n",
       "    </tr>\n",
       "    <tr>\n",
       "      <th>2016-11-14 11:24:32.000</th>\n",
       "      <td>-53.004589</td>\n",
       "      <td>-70.845985</td>\n",
       "      <td>2016-11-14</td>\n",
       "      <td>319</td>\n",
       "      <td>41072.0</td>\n",
       "      <td>621</td>\n",
       "      <td>-3929452.28</td>\n",
       "      <td>1364844.85</td>\n",
       "      <td>50.54</td>\n",
       "      <td>0.73</td>\n",
       "      <td>-13.01</td>\n",
       "      <td>981296.61</td>\n",
       "      <td>NaN</td>\n",
       "      <td>NaN</td>\n",
       "      <td>NaN</td>\n",
       "      <td>NaN</td>\n",
       "      <td>NaN</td>\n",
       "      <td>NaN</td>\n",
       "      <td>-1</td>\n",
       "      <td>1.479123e+09</td>\n",
       "    </tr>\n",
       "  </tbody>\n",
       "</table>\n",
       "</div>"
      ],
      "text/plain": [
       "                               LAT       LONG       DATE  DOY     TIME  FLT  \\\n",
       "iunix                                                                         \n",
       "2016-11-14 11:24:30.000 -53.004590 -70.845986 2016-11-14  319  41070.0  621   \n",
       "2016-11-14 11:24:30.500 -53.004590 -70.845986 2016-11-14  319  41070.5  621   \n",
       "2016-11-14 11:24:31.000 -53.004590 -70.845985 2016-11-14  319  41071.0  621   \n",
       "2016-11-14 11:24:31.500 -53.004590 -70.845985 2016-11-14  319  41071.5  621   \n",
       "2016-11-14 11:24:32.000 -53.004589 -70.845985 2016-11-14  319  41072.0  621   \n",
       "\n",
       "                                PSX         PSY  WGSHGT    FX     FY  \\\n",
       "iunix                                                                  \n",
       "2016-11-14 11:24:30.000 -3929452.26  1364844.81   50.57  5.01 -15.79   \n",
       "2016-11-14 11:24:30.500 -3929452.26  1364844.81   50.57  4.52 -15.33   \n",
       "2016-11-14 11:24:31.000 -3929452.27  1364844.82   50.56  3.46 -14.49   \n",
       "2016-11-14 11:24:31.500 -3929452.27  1364844.83   50.55  2.05 -13.60   \n",
       "2016-11-14 11:24:32.000 -3929452.28  1364844.85   50.54  0.73 -13.01   \n",
       "\n",
       "                                FZ  EOTGRAV  FACOR  INTCOR  FAG070  FAG100  \\\n",
       "iunix                                                                        \n",
       "2016-11-14 11:24:30.000  981296.93      NaN    NaN     NaN     NaN     NaN   \n",
       "2016-11-14 11:24:30.500  981297.13      NaN    NaN     NaN     NaN     NaN   \n",
       "2016-11-14 11:24:31.000  981297.14      NaN    NaN     NaN     NaN     NaN   \n",
       "2016-11-14 11:24:31.500  981296.95      NaN    NaN     NaN     NaN     NaN   \n",
       "2016-11-14 11:24:32.000  981296.61      NaN    NaN     NaN     NaN     NaN   \n",
       "\n",
       "                         FAG140  FLTENVIRO          UNIX  \n",
       "iunix                                                     \n",
       "2016-11-14 11:24:30.000     NaN         -1  1.479123e+09  \n",
       "2016-11-14 11:24:30.500     NaN         -1  1.479123e+09  \n",
       "2016-11-14 11:24:31.000     NaN         -1  1.479123e+09  \n",
       "2016-11-14 11:24:31.500     NaN         -1  1.479123e+09  \n",
       "2016-11-14 11:24:32.000     NaN         -1  1.479123e+09  "
      ]
     },
     "execution_count": 12,
     "metadata": {},
     "output_type": "execute_result"
    }
   ],
   "source": [
    "grav.head()"
   ]
  },
  {
   "cell_type": "code",
   "execution_count": 52,
   "metadata": {},
   "outputs": [],
   "source": [
    "def get_closest_MAR_cell(file_for_latlon, lat, lon):\n",
    "    \"\"\"\n",
    "    SSIA\n",
    "    :param file_for_latlon:\n",
    "    :param lat:\n",
    "    :param lon:\n",
    "    :return:\n",
    "    \"\"\"\n",
    "    LAT = file_for_latlon['latitude'][:]\n",
    "    LON = file_for_latlon['longitude'][:]\n",
    "#     print(lat,lon)\n",
    "    a = abs(LON - lon) + abs(LAT - lat)\n",
    "    iii, jjj = np.unravel_index(a.argmin(), a.shape)\n",
    "    return iii, jjj"
   ]
  },
  {
   "cell_type": "code",
   "execution_count": 52,
   "metadata": {},
   "outputs": [],
   "source": [
    "grav['test'] =  np.nan\n",
    "test = np.full([grav.shape[0], ], np.nan)\n",
    "lat_sample = np.full([grav.shape[0], ], np.nan)\n",
    "lon_sample = np.full([grav.shape[0], ], np.nan)\n",
    "\n",
    "for i in range(0, grav.shape[0], 50):\n",
    "# for i in range(0, 30000, 50):\n",
    "    ii, jj = get_closest_MAR_cell(ds, grav['LAT'][i], grav['LONG'][i])\n",
    "#     print('ii: {}\\njj: {}'.format(ii, jj))\n",
    "    lat_sample[i/50] = ds['latitude'][ii,jj].values\n",
    "    lon_sample[i/50] = ds['longitude'][ii,jj].values\n",
    "#     print(lat_sample[i])\n",
    "#     test[i] = ds['bouguer_anomaly'].isel(x=jj, y=ii).values\n",
    "    grav['test'].iloc[i] = ds['ellipsoidal_height'][ii, jj].values\n",
    "#     print(test[i])\n",
    "\n",
    "#     print(ds['latitude'].isel(x=jj, y=ii).values.flatten()[0], ds['longitude'].isel(x=jj, y=ii).values)"
   ]
  },
  {
   "cell_type": "code",
   "execution_count": 53,
   "metadata": {},
   "outputs": [
    {
     "data": {
      "text/plain": [
       "<matplotlib.axes._subplots.AxesSubplot at 0x120cf3c90>"
      ]
     },
     "execution_count": 53,
     "metadata": {},
     "output_type": "execute_result"
    },
    {
     "data": {
      "image/png": "[encoded data removed]",
      "text/plain": [
       "<Figure size 432x288 with 1 Axes>"
      ]
     },
     "metadata": {},
     "output_type": "display_data"
    }
   ],
   "source": [
    "# plt.plot(test)\n",
    "grav['test'].plot()"
   ]
  },
  {
   "cell_type": "code",
   "execution_count": 55,
   "metadata": {},
   "outputs": [
    {
     "data": {
      "text/plain": [
       "count    1246.000000\n",
       "mean      767.011717\n",
       "std       678.367487\n",
       "min         6.600000\n",
       "25%        27.900000\n",
       "50%       771.200000\n",
       "75%      1345.025000\n",
       "max      2103.600000\n",
       "Name: test, dtype: float64"
      ]
     },
     "execution_count": 55,
     "metadata": {},
     "output_type": "execute_result"
    }
   ],
   "source": [
    "grav['test'].describe()"
   ]
  },
  {
   "cell_type": "code",
   "execution_count": 61,
   "metadata": {},
   "outputs": [
    {
     "data": {
      "text/plain": [
       "[<matplotlib.lines.Line2D at 0x124968fd0>]"
      ]
     },
     "execution_count": 61,
     "metadata": {},
     "output_type": "execute_result"
    },
    {
     "data": {
      "image/png": "[encoded data removed]",
      "text/plain": [
       "<Figure size 432x288 with 1 Axes>"
      ]
     },
     "metadata": {},
     "output_type": "display_data"
    }
   ],
   "source": [
    "plt.plot(lon_sample, lat_sample, 'k,')"
   ]
  },
  {
   "cell_type": "code",
   "execution_count": 59,
   "metadata": {},
   "outputs": [
    {
     "data": {
      "text/plain": [
       "<matplotlib.colorbar.Colorbar at 0x124a36dd0>"
      ]
     },
     "execution_count": 59,
     "metadata": {},
     "output_type": "execute_result"
    },
    {
     "data": {
      "image/png": "[encoded data removed]",
      "text/plain": [
       "<Figure size 432x288 with 2 Axes>"
      ]
     },
     "metadata": {},
     "output_type": "display_data"
    }
   ],
   "source": [
    "plt.scatter(lon_sample, lat_sample, c=grav['test'], marker='s')\n",
    "plt.colorbar()"
   ]
  },
  {
   "cell_type": "code",
   "execution_count": 17,
   "metadata": {},
   "outputs": [
    {
     "data": {
      "text/plain": [
       "-73.183900064300005"
      ]
     },
     "execution_count": 17,
     "metadata": {},
     "output_type": "execute_result"
    }
   ],
   "source": [
    "np.nanmin(lat_sample)"
   ]
  },
  {
   "cell_type": "code",
   "execution_count": 18,
   "metadata": {},
   "outputs": [
    {
     "data": {
      "text/plain": [
       "(667, 667)"
      ]
     },
     "execution_count": 18,
     "metadata": {},
     "output_type": "execute_result"
    }
   ],
   "source": [
    "ds.latitude.shape"
   ]
  },
  {
   "cell_type": "code",
   "execution_count": 48,
   "metadata": {},
   "outputs": [],
   "source": [
    "# ds.sel(latitude=-79)"
   ]
  },
  {
   "cell_type": "code",
   "execution_count": 49,
   "metadata": {},
   "outputs": [
    {
     "data": {
      "text/plain": [
       "29.0"
      ]
     },
     "execution_count": 49,
     "metadata": {},
     "output_type": "execute_result"
    }
   ],
   "source": [
    "np.sqrt(841)"
   ]
  },
  {
   "cell_type": "markdown",
   "metadata": {},
   "source": [
    "## IBCSO"
   ]
  },
  {
   "cell_type": "code",
   "execution_count": 20,
   "metadata": {},
   "outputs": [
    {
     "ename": "ImportError",
     "evalue": "dlopen(/Users/dporter/anaconda2/lib/python2.7/site-packages/osgeo/_gdal.so, 2): Library not loaded: @rpath/libpoppler.71.dylib\n  Referenced from: /Users/dporter/anaconda2/lib/libgdal.20.dylib\n  Reason: image not found",
     "output_type": "error",
     "traceback": [
      "\u001b[0;31m---------------------------------------------------------------------------\u001b[0m",
      "\u001b[0;31mImportError\u001b[0m                               Traceback (most recent call last)",
      "\u001b[0;32m<ipython-input-20-48a6c20e71e2>\u001b[0m in \u001b[0;36m<module>\u001b[0;34m()\u001b[0m\n\u001b[0;32m----> 1\u001b[0;31m \u001b[0;32mfrom\u001b[0m \u001b[0mosgeo\u001b[0m \u001b[0;32mimport\u001b[0m \u001b[0mgdal\u001b[0m\u001b[0;34m\u001b[0m\u001b[0m\n\u001b[0m\u001b[1;32m      2\u001b[0m \u001b[0;34m\u001b[0m\u001b[0m\n\u001b[1;32m      3\u001b[0m \u001b[0mbasedir\u001b[0m \u001b[0;34m=\u001b[0m \u001b[0;34m'/Users/dporter/Documents/'\u001b[0m\u001b[0;34m\u001b[0m\u001b[0m\n\u001b[1;32m      4\u001b[0m \u001b[0mdatadir\u001b[0m \u001b[0;34m=\u001b[0m \u001b[0;34m'Research/Projects/Quantarctica3/TerrainModels/IBCSO'\u001b[0m\u001b[0;34m\u001b[0m\u001b[0m\n\u001b[1;32m      5\u001b[0m \u001b[0msuffix\u001b[0m \u001b[0;34m=\u001b[0m \u001b[0;34m'.tif'\u001b[0m\u001b[0;34m\u001b[0m\u001b[0m\n",
      "\u001b[0;32m/Users/dporter/anaconda2/lib/python2.7/site-packages/osgeo/__init__.py\u001b[0m in \u001b[0;36m<module>\u001b[0;34m()\u001b[0m\n\u001b[1;32m     19\u001b[0m                 \u001b[0mfp\u001b[0m\u001b[0;34m.\u001b[0m\u001b[0mclose\u001b[0m\u001b[0;34m(\u001b[0m\u001b[0;34m)\u001b[0m\u001b[0;34m\u001b[0m\u001b[0m\n\u001b[1;32m     20\u001b[0m             \u001b[0;32mreturn\u001b[0m \u001b[0m_mod\u001b[0m\u001b[0;34m\u001b[0m\u001b[0m\n\u001b[0;32m---> 21\u001b[0;31m     \u001b[0m_gdal\u001b[0m \u001b[0;34m=\u001b[0m \u001b[0mswig_import_helper\u001b[0m\u001b[0;34m(\u001b[0m\u001b[0;34m)\u001b[0m\u001b[0;34m\u001b[0m\u001b[0m\n\u001b[0m\u001b[1;32m     22\u001b[0m     \u001b[0;32mdel\u001b[0m \u001b[0mswig_import_helper\u001b[0m\u001b[0;34m\u001b[0m\u001b[0m\n\u001b[1;32m     23\u001b[0m \u001b[0;32melse\u001b[0m\u001b[0;34m:\u001b[0m\u001b[0;34m\u001b[0m\u001b[0m\n",
      "\u001b[0;32m/Users/dporter/anaconda2/lib/python2.7/site-packages/osgeo/__init__.py\u001b[0m in \u001b[0;36mswig_import_helper\u001b[0;34m()\u001b[0m\n\u001b[1;32m     15\u001b[0m         \u001b[0;32mif\u001b[0m \u001b[0mfp\u001b[0m \u001b[0;32mis\u001b[0m \u001b[0;32mnot\u001b[0m \u001b[0mNone\u001b[0m\u001b[0;34m:\u001b[0m\u001b[0;34m\u001b[0m\u001b[0m\n\u001b[1;32m     16\u001b[0m             \u001b[0;32mtry\u001b[0m\u001b[0;34m:\u001b[0m\u001b[0;34m\u001b[0m\u001b[0m\n\u001b[0;32m---> 17\u001b[0;31m                 \u001b[0m_mod\u001b[0m \u001b[0;34m=\u001b[0m \u001b[0mimp\u001b[0m\u001b[0;34m.\u001b[0m\u001b[0mload_module\u001b[0m\u001b[0;34m(\u001b[0m\u001b[0;34m'_gdal'\u001b[0m\u001b[0;34m,\u001b[0m \u001b[0mfp\u001b[0m\u001b[0;34m,\u001b[0m \u001b[0mpathname\u001b[0m\u001b[0;34m,\u001b[0m \u001b[0mdescription\u001b[0m\u001b[0;34m)\u001b[0m\u001b[0;34m\u001b[0m\u001b[0m\n\u001b[0m\u001b[1;32m     18\u001b[0m             \u001b[0;32mfinally\u001b[0m\u001b[0;34m:\u001b[0m\u001b[0;34m\u001b[0m\u001b[0m\n\u001b[1;32m     19\u001b[0m                 \u001b[0mfp\u001b[0m\u001b[0;34m.\u001b[0m\u001b[0mclose\u001b[0m\u001b[0;34m(\u001b[0m\u001b[0;34m)\u001b[0m\u001b[0;34m\u001b[0m\u001b[0m\n",
      "\u001b[0;31mImportError\u001b[0m: dlopen(/Users/dporter/anaconda2/lib/python2.7/site-packages/osgeo/_gdal.so, 2): Library not loaded: @rpath/libpoppler.71.dylib\n  Referenced from: /Users/dporter/anaconda2/lib/libgdal.20.dylib\n  Reason: image not found"
     ]
    }
   ],
   "source": [
    "# from osgeo import gdal\n",
    "\n",
    "# basedir = '/Users/dporter/Documents/'\n",
    "# datadir = 'Research/Projects/Quantarctica3/TerrainModels/IBCSO'\n",
    "# suffix = '.tif'\n",
    "# pattern = os.path.join(basedir, datadir, 'ibcso_v1_sid_*' + suffix)\n",
    "# filenames = sorted(glob(pattern))  # , key=alphanum_key)\n",
    "# print filenames\n",
    "# gtif = gdal.Open(filenames[0])\n",
    "\n",
    "basedir = '/Users/dporter/Documents/'\n",
    "datadir = 'Research/Projects/Quantarctica3/TerrainModels/IBCSO'\n",
    "suffix = '.tif'\n",
    "pattern = os.path.join(basedir, datadir, 'ibcso_v1_sid_*' + suffix)\n",
    "filenames = sorted(glob(pattern))  # , key=alphanum_key)\n",
    "print filenames\n",
    "ds = xr.open_dataset(filenames[0])"
   ]
  },
  {
   "cell_type": "code",
   "execution_count": 172,
   "metadata": {},
   "outputs": [
    {
     "name": "stdout",
     "output_type": "stream",
     "text": [
      "['/Users/dporter/Documents/data_local/Antarctica/DEM/RTopo-2.0.1_1min_aux.nc']\n"
     ]
    },
    {
     "data": {
      "text/plain": [
       "<xarray.Dataset>\n",
       "Dimensions:      (latdim: 10801, londim: 21601)\n",
       "Coordinates:\n",
       "    lon          (londim) float32 -180.0 -179.983 -179.967 -179.95 -179.933 ...\n",
       "    lat          (latdim) float32 -90.0 -89.9833 -89.9667 -89.95 -89.9333 ...\n",
       "Dimensions without coordinates: latdim, londim\n",
       "Data variables:\n",
       "    sourcebathy  (latdim, londim) int8 4 4 4 4 4 4 4 4 4 4 4 4 4 4 4 4 4 4 4 ...\n",
       "    sourcedraft  (latdim, londim) int8 4 4 4 4 4 4 4 4 4 4 4 4 4 4 4 4 4 4 4 ...\n",
       "    amask        (latdim, londim) int8 1 1 1 1 1 1 1 1 1 1 1 1 1 1 1 1 1 1 1 ...\n",
       "Attributes:\n",
       "    Title:        RTopo-2 global topography data set\n",
       "    Author:       Janin Schaffer and Ralph Timmermann\n",
       "    Institution:  Alfred Wegener Institute, Helmholtz Centre for Polar and Ma...\n",
       "    Source:       Compilation of several original or gridded data sets\n",
       "    References:   Schaffer, J., R. Timmermann, J.E. Arndt, S.S. Kristensen C....\n",
       "    Version:      2.0\n",
       "    Comment:      Use ncview -no_auto_overlay for a simple and efficient data..."
      ]
     },
     "execution_count": 172,
     "metadata": {},
     "output_type": "execute_result"
    }
   ],
   "source": [
    "basedir = '/Users/dporter/Documents/data_local/'\n",
    "datadir = 'Antarctica/DEM'\n",
    "suffix = '.nc'\n",
    "pattern = os.path.join(basedir, datadir, 'RTopo-2.0.1_1min_aux*' + suffix)\n",
    "filenames = sorted(glob(pattern))  # , key=alphanum_key)\n",
    "print filenames\n",
    "rtopo2 = xr.open_dataset(filenames[0])\n",
    "rtopo2"
   ]
  },
  {
   "cell_type": "code",
   "execution_count": 177,
   "metadata": {},
   "outputs": [],
   "source": [
    "def get_closest_RTOPO_cell(file_for_latlon, lat, lon):\n",
    "    \"\"\"\n",
    "    SSIA\n",
    "    :param file_for_latlon:\n",
    "    :param lat:\n",
    "    :param lon:\n",
    "    :return:\n",
    "    \"\"\"\n",
    "    LAT = file_for_latlon['lat'][:]\n",
    "    LON = file_for_latlon['lon'][:]\n",
    "#     print(lat,lon)\n",
    "    a = abs(LON - lon) + abs(LAT - lat)\n",
    "    iii, jjj = np.unravel_index(a.argmin(), a.shape)\n",
    "    return iii, jjj"
   ]
  },
  {
   "cell_type": "code",
   "execution_count": 187,
   "metadata": {},
   "outputs": [
    {
     "name": "stdout",
     "output_type": "stream",
     "text": [
      "Sampling took 2494.81481004 sec\n"
     ]
    }
   ],
   "source": [
    "import time\n",
    "start_sample = time.time()\n",
    "\n",
    "grav['test3'] =  np.nan\n",
    "# test2 = np.full([grav.shape[0], ], np.nan)\n",
    "lat_sample = np.full([grav.shape[0], ], np.nan)\n",
    "lon_sample = np.full([grav.shape[0], ], np.nan)\n",
    "# admap_sub = admap[grav['LONG'].max()+360 > admap['lon']+360][grav['LONG'].min()+360 < admap['lon']+360][grav['LAT'].max() > admap['lat']][grav['LAT'].min() < admap['lat']].describe()\n",
    "\n",
    "\n",
    "# for i in range(0, grav.shape[0], 50):\n",
    "# # for i in range(0, 30000, 50):\n",
    "#     ii, jj = get_closest_RTOPO_cell(rtopo2, grav['LAT'][i], grav['LONG'][i])   \n",
    "# #     ii = get_closest_ADMAP_cell(admap, grav['LAT'][i], grav['LONG'][i])\n",
    "# #     ii = (abs(rtopo2['lon'][:] - grav['LONG'][i]) + abs(rtopo2['lat'][:] - grav['LAT'][i])).argmin()\n",
    "# #     print(ii)\n",
    "# #     print('ii: {}\\njj: {}'.format(ii, jj))\n",
    "#     lat_sample[i/50] = admap['lat'][ii]\n",
    "#     lon_sample[i/50] = admap['lon'][ii]\n",
    "# #     print(lat_sample[i])\n",
    "# #     test[i] = ds['bouguer_anomaly'].isel(x=jj, y=ii).values\n",
    "\n",
    "#     grav['test3'].iloc[i] = rtopo2['amask'].isel(londim=jj, latdim=ii).values\n",
    "# #     grav['test'].iloc[i] = ds['ellipsoidal_height'][ii, jj].values\n",
    "# #     grav['test3'].iloc[i] = rtopo2['s'][ii]\n",
    "    \n",
    "# end_sample = time.time()\n",
    "# print('Sampling took {} sec'.format(end_sample - start_sample))"
   ]
  },
  {
   "cell_type": "code",
   "execution_count": 199,
   "metadata": {},
   "outputs": [
    {
     "data": {
      "text/plain": [
       "<xarray.Dataset>\n",
       "Dimensions:      (latdim: 10801, londim: 21601)\n",
       "Coordinates:\n",
       "  * latdim       (latdim) float64 -90.0 -89.98 -89.97 -89.95 -89.93 -89.92 ...\n",
       "  * londim       (londim) float64 -180.0 -180.0 -180.0 -179.9 -179.9 -179.9 ...\n",
       "Data variables:\n",
       "    sourcebathy  (latdim, londim) int8 4 4 4 4 4 4 4 4 4 4 4 4 4 4 4 4 4 4 4 ...\n",
       "    sourcedraft  (latdim, londim) int8 4 4 4 4 4 4 4 4 4 4 4 4 4 4 4 4 4 4 4 ...\n",
       "    amask        (latdim, londim) int8 1 1 1 1 1 1 1 1 1 1 1 1 1 1 1 1 1 1 1 ...\n",
       "Attributes:\n",
       "    Title:        RTopo-2 global topography data set\n",
       "    Author:       Janin Schaffer and Ralph Timmermann\n",
       "    Institution:  Alfred Wegener Institute, Helmholtz Centre for Polar and Ma...\n",
       "    Source:       Compilation of several original or gridded data sets\n",
       "    References:   Schaffer, J., R. Timmermann, J.E. Arndt, S.S. Kristensen C....\n",
       "    Version:      2.0\n",
       "    Comment:      Use ncview -no_auto_overlay for a simple and efficient data..."
      ]
     },
     "execution_count": 199,
     "metadata": {},
     "output_type": "execute_result"
    }
   ],
   "source": [
    "rtopo2.set_index(latdim='lat', inplace=True)\n",
    "rtopo2.set_index(londim='lon', inplace=True)\n",
    "rtopo2"
   ]
  },
  {
   "cell_type": "markdown",
   "metadata": {},
   "source": [
    "Sampling took 2494.81481004 sec"
   ]
  },
  {
   "cell_type": "code",
   "execution_count": 208,
   "metadata": {},
   "outputs": [
    {
     "data": {
      "text/plain": [
       "array([[1, 0, 0],\n",
       "       [0, 0, 0],\n",
       "       [0, 0, 0],\n",
       "       [0, 0, 0]], dtype=int8)"
      ]
     },
     "execution_count": 208,
     "metadata": {},
     "output_type": "execute_result"
    }
   ],
   "source": [
    "# rtopo2['amask'].sel(latdim=[-79], method='nearest').values\n",
    "# rtopo2.where(rtopo2.lat==-79, drop=True)\n",
    "rtopo2.sel(latdim=[-72, -73, -74, -75], londim=[170, 171, 171])['amask'].values"
   ]
  },
  {
   "cell_type": "code",
   "execution_count": 210,
   "metadata": {},
   "outputs": [
    {
     "data": {
      "text/plain": [
       "<xarray.DataArray 'amask' (latdim: 10801, londim: 21601)>\n",
       "[233312401 values with dtype=int8]\n",
       "Coordinates:\n",
       "  * latdim   (latdim) float64 -90.0 -89.98 -89.97 -89.95 -89.93 -89.92 -89.9 ...\n",
       "  * londim   (londim) float64 -180.0 -180.0 -180.0 -179.9 -179.9 -179.9 ...\n",
       "Attributes:\n",
       "    title:      amask\n",
       "    long_name:  ice ocean rock mask\n",
       "    units:       \n",
       "    valid_min:  0\n",
       "    valid_max:  3"
      ]
     },
     "execution_count": 210,
     "metadata": {},
     "output_type": "execute_result"
    }
   ],
   "source": [
    "rtopo2['amask']"
   ]
  },
  {
   "cell_type": "code",
   "execution_count": null,
   "metadata": {},
   "outputs": [],
   "source": [
    "x = xr.DataArray(grav['LONG'].values, dims='z')\n",
    "y = xr.DataArray(grav['LAT'].values, dims='z')\n",
    "plt.pcolormesh(rtopo2.sel(londim=x, latdim=y, method='nearest')['amask'])"
   ]
  },
  {
   "cell_type": "code",
   "execution_count": 189,
   "metadata": {},
   "outputs": [
    {
     "data": {
      "text/plain": [
       "<matplotlib.colorbar.Colorbar at 0x19b58ec50>"
      ]
     },
     "execution_count": 189,
     "metadata": {},
     "output_type": "execute_result"
    },
    {
     "data": {
      "image/png": "[encoded data removed]",
      "text/plain": [
       "<Figure size 432x288 with 2 Axes>"
      ]
     },
     "metadata": {},
     "output_type": "display_data"
    }
   ],
   "source": [
    "plt.scatter(grav['LONG'], grav['LAT'], c=np.round(fill_nan(grav['test3'])), marker='s')\n",
    "plt.colorbar()"
   ]
  },
  {
   "cell_type": "markdown",
   "metadata": {},
   "source": [
    "## ADMAP"
   ]
  },
  {
   "cell_type": "code",
   "execution_count": 161,
   "metadata": {},
   "outputs": [
    {
     "name": "stdout",
     "output_type": "stream",
     "text": [
      "['/Users/dporter/Documents/data_local/Antarctica/Geophysical/ADMAP/ADMAP_ORSTEDcombined.llz']\n"
     ]
    },
    {
     "data": {
      "text/html": [
       "<div>\n",
       "<style>\n",
       "    .dataframe thead tr:only-child th {\n",
       "        text-align: right;\n",
       "    }\n",
       "\n",
       "    .dataframe thead th {\n",
       "        text-align: left;\n",
       "    }\n",
       "\n",
       "    .dataframe tbody tr th {\n",
       "        vertical-align: top;\n",
       "    }\n",
       "</style>\n",
       "<table border=\"1\" class=\"dataframe\">\n",
       "  <thead>\n",
       "    <tr style=\"text-align: right;\">\n",
       "      <th></th>\n",
       "      <th>lat</th>\n",
       "      <th>lon</th>\n",
       "      <th>s</th>\n",
       "    </tr>\n",
       "  </thead>\n",
       "  <tbody>\n",
       "    <tr>\n",
       "      <th>0</th>\n",
       "      <td>-61.01263</td>\n",
       "      <td>-90.00000</td>\n",
       "      <td>81.7168</td>\n",
       "    </tr>\n",
       "    <tr>\n",
       "      <th>1</th>\n",
       "      <td>-61.01673</td>\n",
       "      <td>-94.35863</td>\n",
       "      <td>96.8630</td>\n",
       "    </tr>\n",
       "    <tr>\n",
       "      <th>2</th>\n",
       "      <td>-61.02302</td>\n",
       "      <td>-94.18492</td>\n",
       "      <td>95.6766</td>\n",
       "    </tr>\n",
       "    <tr>\n",
       "      <th>3</th>\n",
       "      <td>-61.02905</td>\n",
       "      <td>-94.01113</td>\n",
       "      <td>94.6208</td>\n",
       "    </tr>\n",
       "    <tr>\n",
       "      <th>4</th>\n",
       "      <td>-61.03483</td>\n",
       "      <td>-93.83726</td>\n",
       "      <td>94.4395</td>\n",
       "    </tr>\n",
       "  </tbody>\n",
       "</table>\n",
       "</div>"
      ],
      "text/plain": [
       "        lat       lon        s\n",
       "0 -61.01263 -90.00000  81.7168\n",
       "1 -61.01673 -94.35863  96.8630\n",
       "2 -61.02302 -94.18492  95.6766\n",
       "3 -61.02905 -94.01113  94.6208\n",
       "4 -61.03483 -93.83726  94.4395"
      ]
     },
     "execution_count": 161,
     "metadata": {},
     "output_type": "execute_result"
    }
   ],
   "source": [
    "basedir = '/Users/dporter/Documents/data_local/'\n",
    "datadir = 'Antarctica/Geophysical/ADMAP/'\n",
    "\n",
    "# suffix = '.dat'\n",
    "# pattern = os.path.join(basedir, datadir, 'ant_new*' + suffix)\n",
    "\n",
    "suffix = '.llz'\n",
    "pattern = os.path.join(basedir, datadir, 'ADMAP_ORSTEDcombined' + suffix)\n",
    "\n",
    "filenames = sorted(glob(pattern))  # , key=alphanum_key)\n",
    "print filenames\n",
    "\n",
    "admap = pd.read_csv(filenames[0], delimiter=r\"\\s+\", names=('lat','lon','s'), header=None)\n",
    "admap.head()"
   ]
  },
  {
   "cell_type": "code",
   "execution_count": 162,
   "metadata": {},
   "outputs": [
    {
     "data": {
      "text/plain": [
       "2911"
      ]
     },
     "execution_count": 162,
     "metadata": {},
     "output_type": "execute_result"
    }
   ],
   "source": [
    "def get_closest_ADMAP_cell(file_for_latlon, lat, lon):\n",
    "    \"\"\"\n",
    "    SSIA\n",
    "    :param file_for_latlon:\n",
    "    :param lat:\n",
    "    :param lon:\n",
    "    :return:\n",
    "    \"\"\"\n",
    "    LAT = file_for_latlon['lat'][:]\n",
    "    LON = file_for_latlon['lon'][:]\n",
    "#     print('lat,lon', lat,lon)\n",
    "#     a = abs(LON - lon)\n",
    "#     print(a.min())\n",
    "#     print('Closest lat,lon', LAT[a.argmin()], LON[a.argmin()])\n",
    "    \n",
    "#     a = abs(LAT - lat)\n",
    "#     print(a.min())\n",
    "#     print('Closest lat,lon', LAT[a.argmin()], LON[a.argmin()])\n",
    "    \n",
    "#     a = abs(LON - lon) + abs(LAT - lat)\n",
    "#     print(a.min())\n",
    "#     print('Closest lat,lon', LAT[a.argmin()], LON[a.argmin()])\n",
    "    return (abs(LON - lon) + abs(LAT - lat)).argmin()\n",
    "\n",
    "    return (abs(LON - lon) + abs(LAT - lat)).argmin()\n",
    "\n",
    "get_closest_ADMAP_cell(admap, grav['LAT'][0], grav['LONG'][0])"
   ]
  },
  {
   "cell_type": "code",
   "execution_count": 163,
   "metadata": {},
   "outputs": [
    {
     "name": "stderr",
     "output_type": "stream",
     "text": [
      "/Users/dporter/anaconda2/lib/python2.7/site-packages/ipykernel_launcher.py:8: UserWarning: Boolean Series key will be reindexed to match DataFrame index.\n",
      "  \n"
     ]
    },
    {
     "name": "stdout",
     "output_type": "stream",
     "text": [
      "Sampling took 27.730246067 sec\n"
     ]
    }
   ],
   "source": [
    "import time\n",
    "start_sample = time.time()\n",
    "\n",
    "grav['test2'] =  np.nan\n",
    "# test2 = np.full([grav.shape[0], ], np.nan)\n",
    "# lat_sample = np.full([grav.shape[0], ], np.nan)\n",
    "# lon_sample = np.full([grav.shape[0], ], np.nan)\n",
    "admap_sub = admap[grav['LONG'].max()+360 > admap['lon']+360][grav['LONG'].min()+360 < admap['lon']+360][grav['LAT'].max() > admap['lat']][grav['LAT'].min() < admap['lat']].describe()\n",
    "\n",
    "\n",
    "for i in range(0, grav.shape[0], 500):\n",
    "# for i in range(0, 30000, 50):\n",
    "#     ii = get_closest_ADMAP_cell(admap, grav['LAT'][i], grav['LONG'][i])\n",
    "    ii = (abs(admap_sub['lon'][:] - grav['LONG'][i]) + abs(admap_sub['lat'][:] - grav['LAT'][i])).argmin()\n",
    "#     print('ii: {}\\njj: {}'.format(ii, jj))\n",
    "#     lat_sample[i/50] = admap['lat'][ii]\n",
    "#     lon_sample[i/50] = admap['lon'][ii]\n",
    "#     print(lat_sample[i])\n",
    "#     test[i] = ds['bouguer_anomaly'].isel(x=jj, y=ii).values\n",
    "    grav['test2'].iloc[i] = admap_sub['s'][ii]\n",
    "    \n",
    "end_sample = time.time()\n",
    "print('Sampling took {} sec'.format(end_sample - start_sample))\n"
   ]
  },
  {
   "cell_type": "code",
   "execution_count": 160,
   "metadata": {},
   "outputs": [
    {
     "data": {
      "text/plain": [
       "(79716,)"
      ]
     },
     "execution_count": 160,
     "metadata": {},
     "output_type": "execute_result"
    }
   ],
   "source": [
    "# grav['LAT']\n",
    "\n",
    "u, indices = np.unique(grav['LAT'], return_index=True)\n",
    "np.shape(grav['LAT'][indices])\n",
    "# np.shape(grav['LAT'])"
   ]
  },
  {
   "cell_type": "code",
   "execution_count": 118,
   "metadata": {},
   "outputs": [
    {
     "data": {
      "text/plain": [
       "(969479,)"
      ]
     },
     "execution_count": 118,
     "metadata": {},
     "output_type": "execute_result"
    }
   ],
   "source": [
    "np.shape(admap['lon'])"
   ]
  },
  {
   "cell_type": "code",
   "execution_count": 128,
   "metadata": {},
   "outputs": [
    {
     "name": "stdout",
     "output_type": "stream",
     "text": [
      "(700027,)\n"
     ]
    },
    {
     "data": {
      "text/plain": [
       "count    700027.000000\n",
       "mean        -65.601109\n",
       "std           3.617698\n",
       "min         -73.126600\n",
       "25%         -68.424400\n",
       "50%         -65.132500\n",
       "75%         -62.515100\n",
       "max         -60.000400\n",
       "Name: lat, dtype: float64"
      ]
     },
     "execution_count": 128,
     "metadata": {},
     "output_type": "execute_result"
    }
   ],
   "source": [
    "print(np.shape(admap['lat'][grav['LAT'].max() > admap['lat']][grav['LAT'].min() < admap['lat']]))\n",
    "lat_sub = admap['lat'][grav['LAT'].max() > admap['lat']][grav['LAT'].min() < admap['lat']]\n",
    "lat_sub.describe()"
   ]
  },
  {
   "cell_type": "code",
   "execution_count": 135,
   "metadata": {},
   "outputs": [
    {
     "data": {
      "text/plain": [
       "count    91268.000000\n",
       "mean       -67.800935\n",
       "std          2.499773\n",
       "min        -71.215982\n",
       "25%        -70.406652\n",
       "50%        -67.366447\n",
       "75%        -65.719052\n",
       "max        -61.829817\n",
       "Name: LONG, dtype: float64"
      ]
     },
     "execution_count": 135,
     "metadata": {},
     "output_type": "execute_result"
    }
   ],
   "source": [
    "grav['LONG'].describe()"
   ]
  },
  {
   "cell_type": "code",
   "execution_count": 136,
   "metadata": {},
   "outputs": [
    {
     "name": "stdout",
     "output_type": "stream",
     "text": [
      "(38142,)\n"
     ]
    },
    {
     "data": {
      "text/plain": [
       "count    38142.000000\n",
       "mean       -66.528937\n",
       "std          2.706618\n",
       "min        -71.215700\n",
       "25%        -68.873050\n",
       "50%        -66.529000\n",
       "75%        -64.185625\n",
       "max        -61.830100\n",
       "Name: lon, dtype: float64"
      ]
     },
     "execution_count": 136,
     "metadata": {},
     "output_type": "execute_result"
    }
   ],
   "source": [
    "print(np.shape(admap['lon'][grav['LONG'].max() > admap['lon']][grav['LONG'].min() < admap['lon']]))\n",
    "lon_sub = admap['lon'][grav['LONG'].max()+360 > admap['lon']+360][grav['LONG'].min()+360 < admap['lon']+360]\n",
    "lon_sub.describe()"
   ]
  },
  {
   "cell_type": "code",
   "execution_count": 140,
   "metadata": {},
   "outputs": [
    {
     "name": "stderr",
     "output_type": "stream",
     "text": [
      "/Users/dporter/anaconda2/lib/python2.7/site-packages/ipykernel_launcher.py:1: UserWarning: Boolean Series key will be reindexed to match DataFrame index.\n",
      "  \"\"\"Entry point for launching an IPython kernel.\n"
     ]
    },
    {
     "data": {
      "text/html": [
       "<div>\n",
       "<style>\n",
       "    .dataframe thead tr:only-child th {\n",
       "        text-align: right;\n",
       "    }\n",
       "\n",
       "    .dataframe thead th {\n",
       "        text-align: left;\n",
       "    }\n",
       "\n",
       "    .dataframe tbody tr th {\n",
       "        vertical-align: top;\n",
       "    }\n",
       "</style>\n",
       "<table border=\"1\" class=\"dataframe\">\n",
       "  <thead>\n",
       "    <tr style=\"text-align: right;\">\n",
       "      <th></th>\n",
       "      <th>lat</th>\n",
       "      <th>lon</th>\n",
       "      <th>s</th>\n",
       "    </tr>\n",
       "  </thead>\n",
       "  <tbody>\n",
       "    <tr>\n",
       "      <th>count</th>\n",
       "      <td>26414.000000</td>\n",
       "      <td>26414.000000</td>\n",
       "      <td>26414.000000</td>\n",
       "    </tr>\n",
       "    <tr>\n",
       "      <th>mean</th>\n",
       "      <td>-65.898489</td>\n",
       "      <td>-66.532018</td>\n",
       "      <td>-0.324844</td>\n",
       "    </tr>\n",
       "    <tr>\n",
       "      <th>std</th>\n",
       "      <td>3.728021</td>\n",
       "      <td>2.705420</td>\n",
       "      <td>105.839510</td>\n",
       "    </tr>\n",
       "    <tr>\n",
       "      <th>min</th>\n",
       "      <td>-73.126200</td>\n",
       "      <td>-71.215700</td>\n",
       "      <td>-515.940000</td>\n",
       "    </tr>\n",
       "    <tr>\n",
       "      <th>25%</th>\n",
       "      <td>-68.987000</td>\n",
       "      <td>-68.875300</td>\n",
       "      <td>-54.485000</td>\n",
       "    </tr>\n",
       "    <tr>\n",
       "      <th>50%</th>\n",
       "      <td>-65.569800</td>\n",
       "      <td>-66.532800</td>\n",
       "      <td>-9.820000</td>\n",
       "    </tr>\n",
       "    <tr>\n",
       "      <th>75%</th>\n",
       "      <td>-62.640800</td>\n",
       "      <td>-64.190375</td>\n",
       "      <td>39.897500</td>\n",
       "    </tr>\n",
       "    <tr>\n",
       "      <th>max</th>\n",
       "      <td>-60.030100</td>\n",
       "      <td>-61.830100</td>\n",
       "      <td>615.420000</td>\n",
       "    </tr>\n",
       "  </tbody>\n",
       "</table>\n",
       "</div>"
      ],
      "text/plain": [
       "                lat           lon             s\n",
       "count  26414.000000  26414.000000  26414.000000\n",
       "mean     -65.898489    -66.532018     -0.324844\n",
       "std        3.728021      2.705420    105.839510\n",
       "min      -73.126200    -71.215700   -515.940000\n",
       "25%      -68.987000    -68.875300    -54.485000\n",
       "50%      -65.569800    -66.532800     -9.820000\n",
       "75%      -62.640800    -64.190375     39.897500\n",
       "max      -60.030100    -61.830100    615.420000"
      ]
     },
     "execution_count": 140,
     "metadata": {},
     "output_type": "execute_result"
    }
   ],
   "source": [
    "admap[grav['LONG'].max()+360 > admap['lon']+360][grav['LONG'].min()+360 < admap['lon']+360][grav['LAT'].max() > admap['lat']][grav['LAT'].min() < admap['lat']].describe()\n"
   ]
  },
  {
   "cell_type": "code",
   "execution_count": null,
   "metadata": {},
   "outputs": [],
   "source": []
  },
  {
   "cell_type": "markdown",
   "metadata": {},
   "source": [
    "#### Function\n",
    "Sampling took 28.6072530746 sec (i/500)\n",
    "\n",
    "Sampling took 308.588253975 sec (i/50)\n",
    "\n",
    "#### NO FUNCTION:\n",
    "Sampling took 33.2082509995 sec (i/500)\n",
    "\n",
    "Sampling took 264.135560036 sec (1/50)\n",
    "\n",
    "### SUBSET ADMAP FIRST:\n",
    "Sampling took 24 sec (i/500)\n",
    "\n",
    "Sampling took 275.727045059 sec (1/50)"
   ]
  },
  {
   "cell_type": "code",
   "execution_count": null,
   "metadata": {},
   "outputs": [],
   "source": []
  },
  {
   "cell_type": "code",
   "execution_count": null,
   "metadata": {},
   "outputs": [],
   "source": []
  },
  {
   "cell_type": "code",
   "execution_count": 78,
   "metadata": {},
   "outputs": [
    {
     "data": {
      "text/plain": [
       "[<matplotlib.lines.Line2D at 0x13285be10>]"
      ]
     },
     "execution_count": 78,
     "metadata": {},
     "output_type": "execute_result"
    },
    {
     "data": {
      "image/png": "[encoded data removed]",
      "text/plain": [
       "<Figure size 432x288 with 1 Axes>"
      ]
     },
     "metadata": {},
     "output_type": "display_data"
    }
   ],
   "source": [
    "plt.plot(lon_sample, lat_sample, 'k,')"
   ]
  },
  {
   "cell_type": "code",
   "execution_count": 75,
   "metadata": {},
   "outputs": [
    {
     "data": {
      "text/plain": [
       "<matplotlib.colorbar.Colorbar at 0x12f6062d0>"
      ]
     },
     "execution_count": 75,
     "metadata": {},
     "output_type": "execute_result"
    },
    {
     "data": {
      "image/png": "[encoded data removed]",
      "text/plain": [
       "<Figure size 432x288 with 2 Axes>"
      ]
     },
     "metadata": {},
     "output_type": "display_data"
    }
   ],
   "source": [
    "def fill_nan(a):\n",
    "    from scipy import interpolate\n",
    "    import numpy.ma as ma\n",
    "    import numpy as np\n",
    "\n",
    "    '''\n",
    "    interpolate to fill nan values\n",
    "    '''\n",
    "    b = ma.filled(a, np.nan)\n",
    "    inds = np.arange(b.shape[0])\n",
    "    good = np.where(np.isfinite(b))\n",
    "    f = interpolate.interp1d(inds[good], b[good], bounds_error=False)\n",
    "    c = np.where(np.isfinite(b), b, f(inds))\n",
    "    return c\n",
    "\n",
    "# grav['test2'] = fill_nan(grav['test2'].values)\n",
    "plt.scatter(lon_sample, lat_sample, c=fill_nan(grav['test2'].values), marker='s')\n",
    "plt.colorbar()"
   ]
  },
  {
   "cell_type": "code",
   "execution_count": 84,
   "metadata": {},
   "outputs": [
    {
     "name": "stdout",
     "output_type": "stream",
     "text": [
      "count    183.000000\n",
      "mean      40.552678\n",
      "std       95.819424\n",
      "min     -122.510000\n",
      "25%       -1.700000\n",
      "50%       12.420000\n",
      "75%       69.520000\n",
      "max      406.340000\n",
      "Name: test2, dtype: float64\n"
     ]
    },
    {
     "data": {
      "image/png": "[encoded data removed]",
      "text/plain": [
       "<Figure size 432x288 with 1 Axes>"
      ]
     },
     "metadata": {},
     "output_type": "display_data"
    }
   ],
   "source": [
    "plt.plot(grav['test2'].values)\n",
    "print(grav['test2'].describe())"
   ]
  },
  {
   "cell_type": "markdown",
   "metadata": {},
   "source": [
    "# Debug"
   ]
  },
  {
   "cell_type": "code",
   "execution_count": 7,
   "metadata": {
    "collapsed": true
   },
   "outputs": [],
   "source": [
    "from shapely import speedups;\n",
    "\n",
    "assert speedups.available;\n",
    "\n",
    "speedups.enable()\n",
    "\n",
    "from shapely.geometry import LineString\n",
    "\n",
    "ls = LineString([(0, 0), (10, 0)])\n",
    "# On OSX causes an abort trap, due to https://github.com/Toblerity/Shapely/issues/177 \n",
    "r = ls.wkt\n",
    "area = ls.buffer(10).area"
   ]
  },
  {
   "cell_type": "code",
   "execution_count": 8,
   "metadata": {
    "collapsed": false
   },
   "outputs": [
    {
     "data": {
      "text/plain": [
       "513.6548490545939"
      ]
     },
     "execution_count": 8,
     "metadata": {},
     "output_type": "execute_result"
    }
   ],
   "source": [
    "area"
   ]
  },
  {
   "cell_type": "code",
   "execution_count": null,
   "metadata": {
    "collapsed": true
   },
   "outputs": [],
   "source": []
  }
 ],
 "metadata": {
  "kernelspec": {
   "display_name": "Python 2",
   "language": "python",
   "name": "python2"
  },
  "language_info": {
   "codemirror_mode": {
    "name": "ipython",
    "version": 2
   },
   "file_extension": ".py",
   "mimetype": "text/x-python",
   "name": "python",
   "nbconvert_exporter": "python",
   "pygments_lexer": "ipython2",
   "version": "2.7.11"
  }
 },
 "nbformat": 4,
 "nbformat_minor": 2
}
